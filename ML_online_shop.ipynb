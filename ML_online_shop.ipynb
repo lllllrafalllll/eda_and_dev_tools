{
  "nbformat": 4,
  "nbformat_minor": 0,
  "metadata": {
    "colab": {
      "provenance": []
    },
    "kernelspec": {
      "name": "python3",
      "display_name": "Python 3"
    },
    "language_info": {
      "name": "python"
    },
    "widgets": {
      "application/vnd.jupyter.widget-state+json": {
        "a4423a3c81814d5d918ac36c76cd2432": {
          "model_module": "@jupyter-widgets/controls",
          "model_name": "HBoxModel",
          "model_module_version": "1.5.0",
          "state": {
            "_dom_classes": [],
            "_model_module": "@jupyter-widgets/controls",
            "_model_module_version": "1.5.0",
            "_model_name": "HBoxModel",
            "_view_count": null,
            "_view_module": "@jupyter-widgets/controls",
            "_view_module_version": "1.5.0",
            "_view_name": "HBoxView",
            "box_style": "",
            "children": [
              "IPY_MODEL_1cfd693e37094cc68470a9fbe8a064bd",
              "IPY_MODEL_14ed50d14b254fe8ab9353f439a4bd01",
              "IPY_MODEL_9d51fcb6707745e5a903f815685e1ec9"
            ],
            "layout": "IPY_MODEL_1670e0be9a74403689004ace6cd4ac62"
          }
        },
        "1cfd693e37094cc68470a9fbe8a064bd": {
          "model_module": "@jupyter-widgets/controls",
          "model_name": "HTMLModel",
          "model_module_version": "1.5.0",
          "state": {
            "_dom_classes": [],
            "_model_module": "@jupyter-widgets/controls",
            "_model_module_version": "1.5.0",
            "_model_name": "HTMLModel",
            "_view_count": null,
            "_view_module": "@jupyter-widgets/controls",
            "_view_module_version": "1.5.0",
            "_view_name": "HTMLView",
            "description": "",
            "description_tooltip": null,
            "layout": "IPY_MODEL_45e72293e3b544a697b6a499fff022ef",
            "placeholder": "​",
            "style": "IPY_MODEL_7f2a57776bab476f8c6c8a37a01c4405",
            "value": "100%"
          }
        },
        "14ed50d14b254fe8ab9353f439a4bd01": {
          "model_module": "@jupyter-widgets/controls",
          "model_name": "FloatProgressModel",
          "model_module_version": "1.5.0",
          "state": {
            "_dom_classes": [],
            "_model_module": "@jupyter-widgets/controls",
            "_model_module_version": "1.5.0",
            "_model_name": "FloatProgressModel",
            "_view_count": null,
            "_view_module": "@jupyter-widgets/controls",
            "_view_module_version": "1.5.0",
            "_view_name": "ProgressView",
            "bar_style": "success",
            "description": "",
            "description_tooltip": null,
            "layout": "IPY_MODEL_b88c7b322e904a029c7aef697df3638f",
            "max": 10,
            "min": 0,
            "orientation": "horizontal",
            "style": "IPY_MODEL_17d82667938b4a92862d5f30d101523b",
            "value": 10
          }
        },
        "9d51fcb6707745e5a903f815685e1ec9": {
          "model_module": "@jupyter-widgets/controls",
          "model_name": "HTMLModel",
          "model_module_version": "1.5.0",
          "state": {
            "_dom_classes": [],
            "_model_module": "@jupyter-widgets/controls",
            "_model_module_version": "1.5.0",
            "_model_name": "HTMLModel",
            "_view_count": null,
            "_view_module": "@jupyter-widgets/controls",
            "_view_module_version": "1.5.0",
            "_view_name": "HTMLView",
            "description": "",
            "description_tooltip": null,
            "layout": "IPY_MODEL_9d4d53a46e2b48d4abd212fe997a81d6",
            "placeholder": "​",
            "style": "IPY_MODEL_85939e0770304f28a992db3705ba5499",
            "value": " 10/10 [00:16&lt;00:00,  1.73s/it]"
          }
        },
        "1670e0be9a74403689004ace6cd4ac62": {
          "model_module": "@jupyter-widgets/base",
          "model_name": "LayoutModel",
          "model_module_version": "1.2.0",
          "state": {
            "_model_module": "@jupyter-widgets/base",
            "_model_module_version": "1.2.0",
            "_model_name": "LayoutModel",
            "_view_count": null,
            "_view_module": "@jupyter-widgets/base",
            "_view_module_version": "1.2.0",
            "_view_name": "LayoutView",
            "align_content": null,
            "align_items": null,
            "align_self": null,
            "border": null,
            "bottom": null,
            "display": null,
            "flex": null,
            "flex_flow": null,
            "grid_area": null,
            "grid_auto_columns": null,
            "grid_auto_flow": null,
            "grid_auto_rows": null,
            "grid_column": null,
            "grid_gap": null,
            "grid_row": null,
            "grid_template_areas": null,
            "grid_template_columns": null,
            "grid_template_rows": null,
            "height": null,
            "justify_content": null,
            "justify_items": null,
            "left": null,
            "margin": null,
            "max_height": null,
            "max_width": null,
            "min_height": null,
            "min_width": null,
            "object_fit": null,
            "object_position": null,
            "order": null,
            "overflow": null,
            "overflow_x": null,
            "overflow_y": null,
            "padding": null,
            "right": null,
            "top": null,
            "visibility": null,
            "width": null
          }
        },
        "45e72293e3b544a697b6a499fff022ef": {
          "model_module": "@jupyter-widgets/base",
          "model_name": "LayoutModel",
          "model_module_version": "1.2.0",
          "state": {
            "_model_module": "@jupyter-widgets/base",
            "_model_module_version": "1.2.0",
            "_model_name": "LayoutModel",
            "_view_count": null,
            "_view_module": "@jupyter-widgets/base",
            "_view_module_version": "1.2.0",
            "_view_name": "LayoutView",
            "align_content": null,
            "align_items": null,
            "align_self": null,
            "border": null,
            "bottom": null,
            "display": null,
            "flex": null,
            "flex_flow": null,
            "grid_area": null,
            "grid_auto_columns": null,
            "grid_auto_flow": null,
            "grid_auto_rows": null,
            "grid_column": null,
            "grid_gap": null,
            "grid_row": null,
            "grid_template_areas": null,
            "grid_template_columns": null,
            "grid_template_rows": null,
            "height": null,
            "justify_content": null,
            "justify_items": null,
            "left": null,
            "margin": null,
            "max_height": null,
            "max_width": null,
            "min_height": null,
            "min_width": null,
            "object_fit": null,
            "object_position": null,
            "order": null,
            "overflow": null,
            "overflow_x": null,
            "overflow_y": null,
            "padding": null,
            "right": null,
            "top": null,
            "visibility": null,
            "width": null
          }
        },
        "7f2a57776bab476f8c6c8a37a01c4405": {
          "model_module": "@jupyter-widgets/controls",
          "model_name": "DescriptionStyleModel",
          "model_module_version": "1.5.0",
          "state": {
            "_model_module": "@jupyter-widgets/controls",
            "_model_module_version": "1.5.0",
            "_model_name": "DescriptionStyleModel",
            "_view_count": null,
            "_view_module": "@jupyter-widgets/base",
            "_view_module_version": "1.2.0",
            "_view_name": "StyleView",
            "description_width": ""
          }
        },
        "b88c7b322e904a029c7aef697df3638f": {
          "model_module": "@jupyter-widgets/base",
          "model_name": "LayoutModel",
          "model_module_version": "1.2.0",
          "state": {
            "_model_module": "@jupyter-widgets/base",
            "_model_module_version": "1.2.0",
            "_model_name": "LayoutModel",
            "_view_count": null,
            "_view_module": "@jupyter-widgets/base",
            "_view_module_version": "1.2.0",
            "_view_name": "LayoutView",
            "align_content": null,
            "align_items": null,
            "align_self": null,
            "border": null,
            "bottom": null,
            "display": null,
            "flex": null,
            "flex_flow": null,
            "grid_area": null,
            "grid_auto_columns": null,
            "grid_auto_flow": null,
            "grid_auto_rows": null,
            "grid_column": null,
            "grid_gap": null,
            "grid_row": null,
            "grid_template_areas": null,
            "grid_template_columns": null,
            "grid_template_rows": null,
            "height": null,
            "justify_content": null,
            "justify_items": null,
            "left": null,
            "margin": null,
            "max_height": null,
            "max_width": null,
            "min_height": null,
            "min_width": null,
            "object_fit": null,
            "object_position": null,
            "order": null,
            "overflow": null,
            "overflow_x": null,
            "overflow_y": null,
            "padding": null,
            "right": null,
            "top": null,
            "visibility": null,
            "width": null
          }
        },
        "17d82667938b4a92862d5f30d101523b": {
          "model_module": "@jupyter-widgets/controls",
          "model_name": "ProgressStyleModel",
          "model_module_version": "1.5.0",
          "state": {
            "_model_module": "@jupyter-widgets/controls",
            "_model_module_version": "1.5.0",
            "_model_name": "ProgressStyleModel",
            "_view_count": null,
            "_view_module": "@jupyter-widgets/base",
            "_view_module_version": "1.2.0",
            "_view_name": "StyleView",
            "bar_color": null,
            "description_width": ""
          }
        },
        "9d4d53a46e2b48d4abd212fe997a81d6": {
          "model_module": "@jupyter-widgets/base",
          "model_name": "LayoutModel",
          "model_module_version": "1.2.0",
          "state": {
            "_model_module": "@jupyter-widgets/base",
            "_model_module_version": "1.2.0",
            "_model_name": "LayoutModel",
            "_view_count": null,
            "_view_module": "@jupyter-widgets/base",
            "_view_module_version": "1.2.0",
            "_view_name": "LayoutView",
            "align_content": null,
            "align_items": null,
            "align_self": null,
            "border": null,
            "bottom": null,
            "display": null,
            "flex": null,
            "flex_flow": null,
            "grid_area": null,
            "grid_auto_columns": null,
            "grid_auto_flow": null,
            "grid_auto_rows": null,
            "grid_column": null,
            "grid_gap": null,
            "grid_row": null,
            "grid_template_areas": null,
            "grid_template_columns": null,
            "grid_template_rows": null,
            "height": null,
            "justify_content": null,
            "justify_items": null,
            "left": null,
            "margin": null,
            "max_height": null,
            "max_width": null,
            "min_height": null,
            "min_width": null,
            "object_fit": null,
            "object_position": null,
            "order": null,
            "overflow": null,
            "overflow_x": null,
            "overflow_y": null,
            "padding": null,
            "right": null,
            "top": null,
            "visibility": null,
            "width": null
          }
        },
        "85939e0770304f28a992db3705ba5499": {
          "model_module": "@jupyter-widgets/controls",
          "model_name": "DescriptionStyleModel",
          "model_module_version": "1.5.0",
          "state": {
            "_model_module": "@jupyter-widgets/controls",
            "_model_module_version": "1.5.0",
            "_model_name": "DescriptionStyleModel",
            "_view_count": null,
            "_view_module": "@jupyter-widgets/base",
            "_view_module_version": "1.2.0",
            "_view_name": "StyleView",
            "description_width": ""
          }
        }
      }
    }
  },
  "cells": [
    {
      "cell_type": "code",
      "source": [
        "import numpy as np\n",
        "import pandas as pd\n",
        "import matplotlib.pyplot as plt\n",
        "import seaborn as sns"
      ],
      "metadata": {
        "id": "kWD5_z7QnGmc"
      },
      "execution_count": 1,
      "outputs": []
    },
    {
      "cell_type": "code",
      "source": [
        "online_shoppers_DATASET = \"https://raw.githubusercontent.com/aiedu-courses/stepik_eda_and_dev_tools/main/datasets/online_shoppers_intention.csv\""
      ],
      "metadata": {
        "id": "BM69ewKF2G2p"
      },
      "execution_count": 2,
      "outputs": []
    },
    {
      "cell_type": "code",
      "source": [
        "df = pd.read_csv(online_shoppers_DATASET)"
      ],
      "metadata": {
        "id": "s56FX_wZRRd7"
      },
      "execution_count": 3,
      "outputs": []
    },
    {
      "cell_type": "markdown",
      "source": [
        "* `Administrative` - тип страница, общее время проведенное на странице, число  \n",
        "* `Administrative_Duration` - тип страница, общее время проведенное на странице, число  \n",
        "* `Informational` - тип страница, общее время проведенное на странице, число  \n",
        "* `Informational Duration` - тип страница, общее время проведенное на странице, число  \n",
        "* `Product Related` - тип страница, общее время проведенное на странице, число  \n",
        "* `Product Related Duration` - тип страница, общее время проведенное на странице, число  \n",
        "* `Bounce Rate` -  процент посетителей  которые заходят на сайт с этой страницы, а затем уходят (\"отскакивают\"), не вызывая никаких других запросов к серверу аналитики в течение этой сессии.\n",
        "* `Exit Rate` - для конкретной веб-страницы рассчитывается как процентное соотношение всех просмотров страницы, которые были последними в сессии.\n",
        "* `Page Value` -  представляет собой среднюю стоимость веб-страницы, которую посетил пользователь перед завершением операции электронной коммерции.\n",
        "* `Special Day` - указывает на близость времени посещения сайта к определенному особому дню\n",
        "* `Month` - дата\n",
        "* `OperatingSystems` - оперативная система\n",
        "* `Browser` - браузер\n",
        "* `Region` - регион\n",
        "* `TrafficType` - тип трафика\n",
        "* `VisitorType` - тип визита\n",
        "* `Weekend` - выходные\n",
        "* `Revenue` - выручка (таргет)"
      ],
      "metadata": {
        "id": "a4GAvH3kJ84g"
      }
    },
    {
      "cell_type": "code",
      "source": [
        "df.head()"
      ],
      "metadata": {
        "colab": {
          "base_uri": "https://localhost:8080/",
          "height": 226
        },
        "id": "IQ0u4SJ-Jpwg",
        "outputId": "1c1aa140-994c-4c75-8745-a710356afd8d"
      },
      "execution_count": 4,
      "outputs": [
        {
          "output_type": "execute_result",
          "data": {
            "text/plain": [
              "   Administrative  Administrative_Duration  Informational  \\\n",
              "0               0                      0.0              0   \n",
              "1               0                      0.0              0   \n",
              "2               0                      0.0              0   \n",
              "3               0                      0.0              0   \n",
              "4               0                      0.0              0   \n",
              "\n",
              "   Informational_Duration  ProductRelated  ProductRelated_Duration  \\\n",
              "0                     0.0               1                 0.000000   \n",
              "1                     0.0               2                64.000000   \n",
              "2                     0.0               1                 0.000000   \n",
              "3                     0.0               2                 2.666667   \n",
              "4                     0.0              10               627.500000   \n",
              "\n",
              "   BounceRates  ExitRates  PageValues  SpecialDay Month  OperatingSystems  \\\n",
              "0         0.20       0.20         0.0         0.0   Feb                 1   \n",
              "1         0.00       0.10         0.0         0.0   Feb                 2   \n",
              "2         0.20       0.20         0.0         0.0   Feb                 4   \n",
              "3         0.05       0.14         0.0         0.0   Feb                 3   \n",
              "4         0.02       0.05         0.0         0.0   Feb                 3   \n",
              "\n",
              "   Browser  Region  TrafficType        VisitorType  Weekend  Revenue  \n",
              "0        1       1            1  Returning_Visitor    False    False  \n",
              "1        2       1            2  Returning_Visitor    False    False  \n",
              "2        1       9            3  Returning_Visitor    False    False  \n",
              "3        2       2            4  Returning_Visitor    False    False  \n",
              "4        3       1            4  Returning_Visitor     True    False  "
            ],
            "text/html": [
              "\n",
              "  <div id=\"df-435dfff9-c12b-45ae-99f0-2f7138a2b752\" class=\"colab-df-container\">\n",
              "    <div>\n",
              "<style scoped>\n",
              "    .dataframe tbody tr th:only-of-type {\n",
              "        vertical-align: middle;\n",
              "    }\n",
              "\n",
              "    .dataframe tbody tr th {\n",
              "        vertical-align: top;\n",
              "    }\n",
              "\n",
              "    .dataframe thead th {\n",
              "        text-align: right;\n",
              "    }\n",
              "</style>\n",
              "<table border=\"1\" class=\"dataframe\">\n",
              "  <thead>\n",
              "    <tr style=\"text-align: right;\">\n",
              "      <th></th>\n",
              "      <th>Administrative</th>\n",
              "      <th>Administrative_Duration</th>\n",
              "      <th>Informational</th>\n",
              "      <th>Informational_Duration</th>\n",
              "      <th>ProductRelated</th>\n",
              "      <th>ProductRelated_Duration</th>\n",
              "      <th>BounceRates</th>\n",
              "      <th>ExitRates</th>\n",
              "      <th>PageValues</th>\n",
              "      <th>SpecialDay</th>\n",
              "      <th>Month</th>\n",
              "      <th>OperatingSystems</th>\n",
              "      <th>Browser</th>\n",
              "      <th>Region</th>\n",
              "      <th>TrafficType</th>\n",
              "      <th>VisitorType</th>\n",
              "      <th>Weekend</th>\n",
              "      <th>Revenue</th>\n",
              "    </tr>\n",
              "  </thead>\n",
              "  <tbody>\n",
              "    <tr>\n",
              "      <th>0</th>\n",
              "      <td>0</td>\n",
              "      <td>0.0</td>\n",
              "      <td>0</td>\n",
              "      <td>0.0</td>\n",
              "      <td>1</td>\n",
              "      <td>0.000000</td>\n",
              "      <td>0.20</td>\n",
              "      <td>0.20</td>\n",
              "      <td>0.0</td>\n",
              "      <td>0.0</td>\n",
              "      <td>Feb</td>\n",
              "      <td>1</td>\n",
              "      <td>1</td>\n",
              "      <td>1</td>\n",
              "      <td>1</td>\n",
              "      <td>Returning_Visitor</td>\n",
              "      <td>False</td>\n",
              "      <td>False</td>\n",
              "    </tr>\n",
              "    <tr>\n",
              "      <th>1</th>\n",
              "      <td>0</td>\n",
              "      <td>0.0</td>\n",
              "      <td>0</td>\n",
              "      <td>0.0</td>\n",
              "      <td>2</td>\n",
              "      <td>64.000000</td>\n",
              "      <td>0.00</td>\n",
              "      <td>0.10</td>\n",
              "      <td>0.0</td>\n",
              "      <td>0.0</td>\n",
              "      <td>Feb</td>\n",
              "      <td>2</td>\n",
              "      <td>2</td>\n",
              "      <td>1</td>\n",
              "      <td>2</td>\n",
              "      <td>Returning_Visitor</td>\n",
              "      <td>False</td>\n",
              "      <td>False</td>\n",
              "    </tr>\n",
              "    <tr>\n",
              "      <th>2</th>\n",
              "      <td>0</td>\n",
              "      <td>0.0</td>\n",
              "      <td>0</td>\n",
              "      <td>0.0</td>\n",
              "      <td>1</td>\n",
              "      <td>0.000000</td>\n",
              "      <td>0.20</td>\n",
              "      <td>0.20</td>\n",
              "      <td>0.0</td>\n",
              "      <td>0.0</td>\n",
              "      <td>Feb</td>\n",
              "      <td>4</td>\n",
              "      <td>1</td>\n",
              "      <td>9</td>\n",
              "      <td>3</td>\n",
              "      <td>Returning_Visitor</td>\n",
              "      <td>False</td>\n",
              "      <td>False</td>\n",
              "    </tr>\n",
              "    <tr>\n",
              "      <th>3</th>\n",
              "      <td>0</td>\n",
              "      <td>0.0</td>\n",
              "      <td>0</td>\n",
              "      <td>0.0</td>\n",
              "      <td>2</td>\n",
              "      <td>2.666667</td>\n",
              "      <td>0.05</td>\n",
              "      <td>0.14</td>\n",
              "      <td>0.0</td>\n",
              "      <td>0.0</td>\n",
              "      <td>Feb</td>\n",
              "      <td>3</td>\n",
              "      <td>2</td>\n",
              "      <td>2</td>\n",
              "      <td>4</td>\n",
              "      <td>Returning_Visitor</td>\n",
              "      <td>False</td>\n",
              "      <td>False</td>\n",
              "    </tr>\n",
              "    <tr>\n",
              "      <th>4</th>\n",
              "      <td>0</td>\n",
              "      <td>0.0</td>\n",
              "      <td>0</td>\n",
              "      <td>0.0</td>\n",
              "      <td>10</td>\n",
              "      <td>627.500000</td>\n",
              "      <td>0.02</td>\n",
              "      <td>0.05</td>\n",
              "      <td>0.0</td>\n",
              "      <td>0.0</td>\n",
              "      <td>Feb</td>\n",
              "      <td>3</td>\n",
              "      <td>3</td>\n",
              "      <td>1</td>\n",
              "      <td>4</td>\n",
              "      <td>Returning_Visitor</td>\n",
              "      <td>True</td>\n",
              "      <td>False</td>\n",
              "    </tr>\n",
              "  </tbody>\n",
              "</table>\n",
              "</div>\n",
              "    <div class=\"colab-df-buttons\">\n",
              "\n",
              "  <div class=\"colab-df-container\">\n",
              "    <button class=\"colab-df-convert\" onclick=\"convertToInteractive('df-435dfff9-c12b-45ae-99f0-2f7138a2b752')\"\n",
              "            title=\"Convert this dataframe to an interactive table.\"\n",
              "            style=\"display:none;\">\n",
              "\n",
              "  <svg xmlns=\"http://www.w3.org/2000/svg\" height=\"24px\" viewBox=\"0 -960 960 960\">\n",
              "    <path d=\"M120-120v-720h720v720H120Zm60-500h600v-160H180v160Zm220 220h160v-160H400v160Zm0 220h160v-160H400v160ZM180-400h160v-160H180v160Zm440 0h160v-160H620v160ZM180-180h160v-160H180v160Zm440 0h160v-160H620v160Z\"/>\n",
              "  </svg>\n",
              "    </button>\n",
              "\n",
              "  <style>\n",
              "    .colab-df-container {\n",
              "      display:flex;\n",
              "      gap: 12px;\n",
              "    }\n",
              "\n",
              "    .colab-df-convert {\n",
              "      background-color: #E8F0FE;\n",
              "      border: none;\n",
              "      border-radius: 50%;\n",
              "      cursor: pointer;\n",
              "      display: none;\n",
              "      fill: #1967D2;\n",
              "      height: 32px;\n",
              "      padding: 0 0 0 0;\n",
              "      width: 32px;\n",
              "    }\n",
              "\n",
              "    .colab-df-convert:hover {\n",
              "      background-color: #E2EBFA;\n",
              "      box-shadow: 0px 1px 2px rgba(60, 64, 67, 0.3), 0px 1px 3px 1px rgba(60, 64, 67, 0.15);\n",
              "      fill: #174EA6;\n",
              "    }\n",
              "\n",
              "    .colab-df-buttons div {\n",
              "      margin-bottom: 4px;\n",
              "    }\n",
              "\n",
              "    [theme=dark] .colab-df-convert {\n",
              "      background-color: #3B4455;\n",
              "      fill: #D2E3FC;\n",
              "    }\n",
              "\n",
              "    [theme=dark] .colab-df-convert:hover {\n",
              "      background-color: #434B5C;\n",
              "      box-shadow: 0px 1px 3px 1px rgba(0, 0, 0, 0.15);\n",
              "      filter: drop-shadow(0px 1px 2px rgba(0, 0, 0, 0.3));\n",
              "      fill: #FFFFFF;\n",
              "    }\n",
              "  </style>\n",
              "\n",
              "    <script>\n",
              "      const buttonEl =\n",
              "        document.querySelector('#df-435dfff9-c12b-45ae-99f0-2f7138a2b752 button.colab-df-convert');\n",
              "      buttonEl.style.display =\n",
              "        google.colab.kernel.accessAllowed ? 'block' : 'none';\n",
              "\n",
              "      async function convertToInteractive(key) {\n",
              "        const element = document.querySelector('#df-435dfff9-c12b-45ae-99f0-2f7138a2b752');\n",
              "        const dataTable =\n",
              "          await google.colab.kernel.invokeFunction('convertToInteractive',\n",
              "                                                    [key], {});\n",
              "        if (!dataTable) return;\n",
              "\n",
              "        const docLinkHtml = 'Like what you see? Visit the ' +\n",
              "          '<a target=\"_blank\" href=https://colab.research.google.com/notebooks/data_table.ipynb>data table notebook</a>'\n",
              "          + ' to learn more about interactive tables.';\n",
              "        element.innerHTML = '';\n",
              "        dataTable['output_type'] = 'display_data';\n",
              "        await google.colab.output.renderOutput(dataTable, element);\n",
              "        const docLink = document.createElement('div');\n",
              "        docLink.innerHTML = docLinkHtml;\n",
              "        element.appendChild(docLink);\n",
              "      }\n",
              "    </script>\n",
              "  </div>\n",
              "\n",
              "\n",
              "<div id=\"df-fefd59dd-2a36-4536-a65f-e9f0c9eee71a\">\n",
              "  <button class=\"colab-df-quickchart\" onclick=\"quickchart('df-fefd59dd-2a36-4536-a65f-e9f0c9eee71a')\"\n",
              "            title=\"Suggest charts\"\n",
              "            style=\"display:none;\">\n",
              "\n",
              "<svg xmlns=\"http://www.w3.org/2000/svg\" height=\"24px\"viewBox=\"0 0 24 24\"\n",
              "     width=\"24px\">\n",
              "    <g>\n",
              "        <path d=\"M19 3H5c-1.1 0-2 .9-2 2v14c0 1.1.9 2 2 2h14c1.1 0 2-.9 2-2V5c0-1.1-.9-2-2-2zM9 17H7v-7h2v7zm4 0h-2V7h2v10zm4 0h-2v-4h2v4z\"/>\n",
              "    </g>\n",
              "</svg>\n",
              "  </button>\n",
              "\n",
              "<style>\n",
              "  .colab-df-quickchart {\n",
              "      --bg-color: #E8F0FE;\n",
              "      --fill-color: #1967D2;\n",
              "      --hover-bg-color: #E2EBFA;\n",
              "      --hover-fill-color: #174EA6;\n",
              "      --disabled-fill-color: #AAA;\n",
              "      --disabled-bg-color: #DDD;\n",
              "  }\n",
              "\n",
              "  [theme=dark] .colab-df-quickchart {\n",
              "      --bg-color: #3B4455;\n",
              "      --fill-color: #D2E3FC;\n",
              "      --hover-bg-color: #434B5C;\n",
              "      --hover-fill-color: #FFFFFF;\n",
              "      --disabled-bg-color: #3B4455;\n",
              "      --disabled-fill-color: #666;\n",
              "  }\n",
              "\n",
              "  .colab-df-quickchart {\n",
              "    background-color: var(--bg-color);\n",
              "    border: none;\n",
              "    border-radius: 50%;\n",
              "    cursor: pointer;\n",
              "    display: none;\n",
              "    fill: var(--fill-color);\n",
              "    height: 32px;\n",
              "    padding: 0;\n",
              "    width: 32px;\n",
              "  }\n",
              "\n",
              "  .colab-df-quickchart:hover {\n",
              "    background-color: var(--hover-bg-color);\n",
              "    box-shadow: 0 1px 2px rgba(60, 64, 67, 0.3), 0 1px 3px 1px rgba(60, 64, 67, 0.15);\n",
              "    fill: var(--button-hover-fill-color);\n",
              "  }\n",
              "\n",
              "  .colab-df-quickchart-complete:disabled,\n",
              "  .colab-df-quickchart-complete:disabled:hover {\n",
              "    background-color: var(--disabled-bg-color);\n",
              "    fill: var(--disabled-fill-color);\n",
              "    box-shadow: none;\n",
              "  }\n",
              "\n",
              "  .colab-df-spinner {\n",
              "    border: 2px solid var(--fill-color);\n",
              "    border-color: transparent;\n",
              "    border-bottom-color: var(--fill-color);\n",
              "    animation:\n",
              "      spin 1s steps(1) infinite;\n",
              "  }\n",
              "\n",
              "  @keyframes spin {\n",
              "    0% {\n",
              "      border-color: transparent;\n",
              "      border-bottom-color: var(--fill-color);\n",
              "      border-left-color: var(--fill-color);\n",
              "    }\n",
              "    20% {\n",
              "      border-color: transparent;\n",
              "      border-left-color: var(--fill-color);\n",
              "      border-top-color: var(--fill-color);\n",
              "    }\n",
              "    30% {\n",
              "      border-color: transparent;\n",
              "      border-left-color: var(--fill-color);\n",
              "      border-top-color: var(--fill-color);\n",
              "      border-right-color: var(--fill-color);\n",
              "    }\n",
              "    40% {\n",
              "      border-color: transparent;\n",
              "      border-right-color: var(--fill-color);\n",
              "      border-top-color: var(--fill-color);\n",
              "    }\n",
              "    60% {\n",
              "      border-color: transparent;\n",
              "      border-right-color: var(--fill-color);\n",
              "    }\n",
              "    80% {\n",
              "      border-color: transparent;\n",
              "      border-right-color: var(--fill-color);\n",
              "      border-bottom-color: var(--fill-color);\n",
              "    }\n",
              "    90% {\n",
              "      border-color: transparent;\n",
              "      border-bottom-color: var(--fill-color);\n",
              "    }\n",
              "  }\n",
              "</style>\n",
              "\n",
              "  <script>\n",
              "    async function quickchart(key) {\n",
              "      const quickchartButtonEl =\n",
              "        document.querySelector('#' + key + ' button');\n",
              "      quickchartButtonEl.disabled = true;  // To prevent multiple clicks.\n",
              "      quickchartButtonEl.classList.add('colab-df-spinner');\n",
              "      try {\n",
              "        const charts = await google.colab.kernel.invokeFunction(\n",
              "            'suggestCharts', [key], {});\n",
              "      } catch (error) {\n",
              "        console.error('Error during call to suggestCharts:', error);\n",
              "      }\n",
              "      quickchartButtonEl.classList.remove('colab-df-spinner');\n",
              "      quickchartButtonEl.classList.add('colab-df-quickchart-complete');\n",
              "    }\n",
              "    (() => {\n",
              "      let quickchartButtonEl =\n",
              "        document.querySelector('#df-fefd59dd-2a36-4536-a65f-e9f0c9eee71a button');\n",
              "      quickchartButtonEl.style.display =\n",
              "        google.colab.kernel.accessAllowed ? 'block' : 'none';\n",
              "    })();\n",
              "  </script>\n",
              "</div>\n",
              "    </div>\n",
              "  </div>\n"
            ],
            "application/vnd.google.colaboratory.intrinsic+json": {
              "type": "dataframe",
              "variable_name": "df",
              "summary": "{\n  \"name\": \"df\",\n  \"rows\": 12330,\n  \"fields\": [\n    {\n      \"column\": \"Administrative\",\n      \"properties\": {\n        \"dtype\": \"number\",\n        \"std\": 3,\n        \"min\": 0,\n        \"max\": 27,\n        \"num_unique_values\": 27,\n        \"samples\": [\n          5,\n          11,\n          9\n        ],\n        \"semantic_type\": \"\",\n        \"description\": \"\"\n      }\n    },\n    {\n      \"column\": \"Administrative_Duration\",\n      \"properties\": {\n        \"dtype\": \"number\",\n        \"std\": 176.77910747048634,\n        \"min\": 0.0,\n        \"max\": 3398.75,\n        \"num_unique_values\": 3335,\n        \"samples\": [\n          93.6,\n          63.08333333,\n          351.0833333\n        ],\n        \"semantic_type\": \"\",\n        \"description\": \"\"\n      }\n    },\n    {\n      \"column\": \"Informational\",\n      \"properties\": {\n        \"dtype\": \"number\",\n        \"std\": 1,\n        \"min\": 0,\n        \"max\": 24,\n        \"num_unique_values\": 17,\n        \"samples\": [\n          0,\n          1,\n          5\n        ],\n        \"semantic_type\": \"\",\n        \"description\": \"\"\n      }\n    },\n    {\n      \"column\": \"Informational_Duration\",\n      \"properties\": {\n        \"dtype\": \"number\",\n        \"std\": 141.65568410487404,\n        \"min\": 0.0,\n        \"max\": 2549.375,\n        \"num_unique_values\": 1241,\n        \"samples\": [\n          92.16666667,\n          329.5,\n          118.0\n        ],\n        \"semantic_type\": \"\",\n        \"description\": \"\"\n      }\n    },\n    {\n      \"column\": \"ProductRelated\",\n      \"properties\": {\n        \"dtype\": \"number\",\n        \"std\": 44,\n        \"min\": 0,\n        \"max\": 705,\n        \"num_unique_values\": 311,\n        \"samples\": [\n          330,\n          23,\n          54\n        ],\n        \"semantic_type\": \"\",\n        \"description\": \"\"\n      }\n    },\n    {\n      \"column\": \"ProductRelated_Duration\",\n      \"properties\": {\n        \"dtype\": \"number\",\n        \"std\": 1908.4477062072103,\n        \"min\": 0.0,\n        \"max\": 63973.52223,\n        \"num_unique_values\": 9210,\n        \"samples\": [\n          1276.157071,\n          219.5,\n          968.0924451\n        ],\n        \"semantic_type\": \"\",\n        \"description\": \"\"\n      }\n    },\n    {\n      \"column\": \"BounceRates\",\n      \"properties\": {\n        \"dtype\": \"number\",\n        \"std\": 0.048488321806260656,\n        \"min\": 0.0,\n        \"max\": 0.2,\n        \"num_unique_values\": 1872,\n        \"samples\": [\n          0.004778942,\n          0.010793651,\n          0.005073996\n        ],\n        \"semantic_type\": \"\",\n        \"description\": \"\"\n      }\n    },\n    {\n      \"column\": \"ExitRates\",\n      \"properties\": {\n        \"dtype\": \"number\",\n        \"std\": 0.04856217079460754,\n        \"min\": 0.0,\n        \"max\": 0.2,\n        \"num_unique_values\": 4746,\n        \"samples\": [\n          0.019444444,\n          0.017679325,\n          0.012878788\n        ],\n        \"semantic_type\": \"\",\n        \"description\": \"\"\n      }\n    },\n    {\n      \"column\": \"PageValues\",\n      \"properties\": {\n        \"dtype\": \"number\",\n        \"std\": 18.568436607806525,\n        \"min\": 0.0,\n        \"max\": 361.7637419,\n        \"num_unique_values\": 2704,\n        \"samples\": [\n          54.65714872,\n          20.97239726,\n          11.65996434\n        ],\n        \"semantic_type\": \"\",\n        \"description\": \"\"\n      }\n    },\n    {\n      \"column\": \"SpecialDay\",\n      \"properties\": {\n        \"dtype\": \"number\",\n        \"std\": 0.19891727315262864,\n        \"min\": 0.0,\n        \"max\": 1.0,\n        \"num_unique_values\": 6,\n        \"samples\": [\n          0.0,\n          0.4,\n          0.6\n        ],\n        \"semantic_type\": \"\",\n        \"description\": \"\"\n      }\n    },\n    {\n      \"column\": \"Month\",\n      \"properties\": {\n        \"dtype\": \"category\",\n        \"num_unique_values\": 11,\n        \"samples\": [\n          \"June\",\n          \"Feb\",\n          \"Sep\"\n        ],\n        \"semantic_type\": \"\",\n        \"description\": \"\"\n      }\n    },\n    {\n      \"column\": \"OperatingSystems\",\n      \"properties\": {\n        \"dtype\": \"number\",\n        \"std\": 0,\n        \"min\": 1,\n        \"max\": 8,\n        \"num_unique_values\": 8,\n        \"samples\": [\n          2,\n          6,\n          1\n        ],\n        \"semantic_type\": \"\",\n        \"description\": \"\"\n      }\n    },\n    {\n      \"column\": \"Browser\",\n      \"properties\": {\n        \"dtype\": \"number\",\n        \"std\": 1,\n        \"min\": 1,\n        \"max\": 13,\n        \"num_unique_values\": 13,\n        \"samples\": [\n          13,\n          9,\n          1\n        ],\n        \"semantic_type\": \"\",\n        \"description\": \"\"\n      }\n    },\n    {\n      \"column\": \"Region\",\n      \"properties\": {\n        \"dtype\": \"number\",\n        \"std\": 2,\n        \"min\": 1,\n        \"max\": 9,\n        \"num_unique_values\": 9,\n        \"samples\": [\n          7,\n          9,\n          5\n        ],\n        \"semantic_type\": \"\",\n        \"description\": \"\"\n      }\n    },\n    {\n      \"column\": \"TrafficType\",\n      \"properties\": {\n        \"dtype\": \"number\",\n        \"std\": 4,\n        \"min\": 1,\n        \"max\": 20,\n        \"num_unique_values\": 20,\n        \"samples\": [\n          1,\n          16,\n          18\n        ],\n        \"semantic_type\": \"\",\n        \"description\": \"\"\n      }\n    },\n    {\n      \"column\": \"VisitorType\",\n      \"properties\": {\n        \"dtype\": \"category\",\n        \"num_unique_values\": 3,\n        \"samples\": [\n          \"Returning_Visitor\",\n          \"New_Visitor\",\n          \"Other\"\n        ],\n        \"semantic_type\": \"\",\n        \"description\": \"\"\n      }\n    },\n    {\n      \"column\": \"Weekend\",\n      \"properties\": {\n        \"dtype\": \"boolean\",\n        \"num_unique_values\": 2,\n        \"samples\": [\n          true,\n          false\n        ],\n        \"semantic_type\": \"\",\n        \"description\": \"\"\n      }\n    },\n    {\n      \"column\": \"Revenue\",\n      \"properties\": {\n        \"dtype\": \"boolean\",\n        \"num_unique_values\": 2,\n        \"samples\": [\n          true,\n          false\n        ],\n        \"semantic_type\": \"\",\n        \"description\": \"\"\n      }\n    }\n  ]\n}"
            }
          },
          "metadata": {},
          "execution_count": 4
        }
      ]
    },
    {
      "cell_type": "code",
      "source": [
        "df.info()"
      ],
      "metadata": {
        "colab": {
          "base_uri": "https://localhost:8080/"
        },
        "id": "7VYcvc64KKUK",
        "outputId": "a1c68e03-4cd6-4fb4-be37-444c9e8f9107"
      },
      "execution_count": 5,
      "outputs": [
        {
          "output_type": "stream",
          "name": "stdout",
          "text": [
            "<class 'pandas.core.frame.DataFrame'>\n",
            "RangeIndex: 12330 entries, 0 to 12329\n",
            "Data columns (total 18 columns):\n",
            " #   Column                   Non-Null Count  Dtype  \n",
            "---  ------                   --------------  -----  \n",
            " 0   Administrative           12330 non-null  int64  \n",
            " 1   Administrative_Duration  12330 non-null  float64\n",
            " 2   Informational            12330 non-null  int64  \n",
            " 3   Informational_Duration   12131 non-null  float64\n",
            " 4   ProductRelated           12330 non-null  int64  \n",
            " 5   ProductRelated_Duration  11839 non-null  float64\n",
            " 6   BounceRates              12330 non-null  float64\n",
            " 7   ExitRates                12231 non-null  float64\n",
            " 8   PageValues               12330 non-null  float64\n",
            " 9   SpecialDay               12330 non-null  float64\n",
            " 10  Month                    12330 non-null  object \n",
            " 11  OperatingSystems         12330 non-null  int64  \n",
            " 12  Browser                  12330 non-null  int64  \n",
            " 13  Region                   12330 non-null  int64  \n",
            " 14  TrafficType              12330 non-null  int64  \n",
            " 15  VisitorType              12330 non-null  object \n",
            " 16  Weekend                  12330 non-null  bool   \n",
            " 17  Revenue                  12330 non-null  bool   \n",
            "dtypes: bool(2), float64(7), int64(7), object(2)\n",
            "memory usage: 1.5+ MB\n"
          ]
        }
      ]
    },
    {
      "cell_type": "code",
      "source": [
        "#пропущенные значение\n",
        "df.isna().mean()"
      ],
      "metadata": {
        "colab": {
          "base_uri": "https://localhost:8080/"
        },
        "id": "f1bgLGtwJwiF",
        "outputId": "0340a82f-4747-4aed-ed29-aa12d84112df"
      },
      "execution_count": 6,
      "outputs": [
        {
          "output_type": "execute_result",
          "data": {
            "text/plain": [
              "Administrative             0.000000\n",
              "Administrative_Duration    0.000000\n",
              "Informational              0.000000\n",
              "Informational_Duration     0.016139\n",
              "ProductRelated             0.000000\n",
              "ProductRelated_Duration    0.039822\n",
              "BounceRates                0.000000\n",
              "ExitRates                  0.008029\n",
              "PageValues                 0.000000\n",
              "SpecialDay                 0.000000\n",
              "Month                      0.000000\n",
              "OperatingSystems           0.000000\n",
              "Browser                    0.000000\n",
              "Region                     0.000000\n",
              "TrafficType                0.000000\n",
              "VisitorType                0.000000\n",
              "Weekend                    0.000000\n",
              "Revenue                    0.000000\n",
              "dtype: float64"
            ]
          },
          "metadata": {},
          "execution_count": 6
        }
      ]
    },
    {
      "cell_type": "markdown",
      "source": [
        "В прошлый раз мы проводили описательный анализ данных и обнаружили пропущенные значения в столбцах \"Informational_Duration\", \"ProductRelated_Duration\", \"ExitRates\". Так как эти данные содержат выбросы, мы заменили пропуски медианой, чтобы минимизировать влияние выбросов на анализ."
      ],
      "metadata": {
        "id": "yhSENe1byxhl"
      }
    },
    {
      "cell_type": "code",
      "source": [
        "df['Informational_Duration'].fillna(df['Informational_Duration'].quantile(0.5), inplace=True)\n",
        "df['ProductRelated_Duration'].fillna(df['ProductRelated_Duration'].quantile(0.5), inplace=True)\n",
        "df['ExitRates'].fillna(df['ExitRates'].quantile(0.5), inplace=True)"
      ],
      "metadata": {
        "id": "0nSZ3_lwy8Ig"
      },
      "execution_count": 7,
      "outputs": []
    },
    {
      "cell_type": "code",
      "source": [
        "df.isna()"
      ],
      "metadata": {
        "colab": {
          "base_uri": "https://localhost:8080/",
          "height": 443
        },
        "id": "kY40CGmB1nic",
        "outputId": "8ce58423-4e2c-4e60-a4d3-b8fcd3b5aa10"
      },
      "execution_count": 8,
      "outputs": [
        {
          "output_type": "execute_result",
          "data": {
            "text/plain": [
              "       Administrative  Administrative_Duration  Informational  \\\n",
              "0               False                    False          False   \n",
              "1               False                    False          False   \n",
              "2               False                    False          False   \n",
              "3               False                    False          False   \n",
              "4               False                    False          False   \n",
              "...               ...                      ...            ...   \n",
              "12325           False                    False          False   \n",
              "12326           False                    False          False   \n",
              "12327           False                    False          False   \n",
              "12328           False                    False          False   \n",
              "12329           False                    False          False   \n",
              "\n",
              "       Informational_Duration  ProductRelated  ProductRelated_Duration  \\\n",
              "0                       False           False                    False   \n",
              "1                       False           False                    False   \n",
              "2                       False           False                    False   \n",
              "3                       False           False                    False   \n",
              "4                       False           False                    False   \n",
              "...                       ...             ...                      ...   \n",
              "12325                   False           False                    False   \n",
              "12326                   False           False                    False   \n",
              "12327                   False           False                    False   \n",
              "12328                   False           False                    False   \n",
              "12329                   False           False                    False   \n",
              "\n",
              "       BounceRates  ExitRates  PageValues  SpecialDay  Month  \\\n",
              "0            False      False       False       False  False   \n",
              "1            False      False       False       False  False   \n",
              "2            False      False       False       False  False   \n",
              "3            False      False       False       False  False   \n",
              "4            False      False       False       False  False   \n",
              "...            ...        ...         ...         ...    ...   \n",
              "12325        False      False       False       False  False   \n",
              "12326        False      False       False       False  False   \n",
              "12327        False      False       False       False  False   \n",
              "12328        False      False       False       False  False   \n",
              "12329        False      False       False       False  False   \n",
              "\n",
              "       OperatingSystems  Browser  Region  TrafficType  VisitorType  Weekend  \\\n",
              "0                 False    False   False        False        False    False   \n",
              "1                 False    False   False        False        False    False   \n",
              "2                 False    False   False        False        False    False   \n",
              "3                 False    False   False        False        False    False   \n",
              "4                 False    False   False        False        False    False   \n",
              "...                 ...      ...     ...          ...          ...      ...   \n",
              "12325             False    False   False        False        False    False   \n",
              "12326             False    False   False        False        False    False   \n",
              "12327             False    False   False        False        False    False   \n",
              "12328             False    False   False        False        False    False   \n",
              "12329             False    False   False        False        False    False   \n",
              "\n",
              "       Revenue  \n",
              "0        False  \n",
              "1        False  \n",
              "2        False  \n",
              "3        False  \n",
              "4        False  \n",
              "...        ...  \n",
              "12325    False  \n",
              "12326    False  \n",
              "12327    False  \n",
              "12328    False  \n",
              "12329    False  \n",
              "\n",
              "[12330 rows x 18 columns]"
            ],
            "text/html": [
              "\n",
              "  <div id=\"df-52f53d35-767b-46c6-a61b-f190c8cc176e\" class=\"colab-df-container\">\n",
              "    <div>\n",
              "<style scoped>\n",
              "    .dataframe tbody tr th:only-of-type {\n",
              "        vertical-align: middle;\n",
              "    }\n",
              "\n",
              "    .dataframe tbody tr th {\n",
              "        vertical-align: top;\n",
              "    }\n",
              "\n",
              "    .dataframe thead th {\n",
              "        text-align: right;\n",
              "    }\n",
              "</style>\n",
              "<table border=\"1\" class=\"dataframe\">\n",
              "  <thead>\n",
              "    <tr style=\"text-align: right;\">\n",
              "      <th></th>\n",
              "      <th>Administrative</th>\n",
              "      <th>Administrative_Duration</th>\n",
              "      <th>Informational</th>\n",
              "      <th>Informational_Duration</th>\n",
              "      <th>ProductRelated</th>\n",
              "      <th>ProductRelated_Duration</th>\n",
              "      <th>BounceRates</th>\n",
              "      <th>ExitRates</th>\n",
              "      <th>PageValues</th>\n",
              "      <th>SpecialDay</th>\n",
              "      <th>Month</th>\n",
              "      <th>OperatingSystems</th>\n",
              "      <th>Browser</th>\n",
              "      <th>Region</th>\n",
              "      <th>TrafficType</th>\n",
              "      <th>VisitorType</th>\n",
              "      <th>Weekend</th>\n",
              "      <th>Revenue</th>\n",
              "    </tr>\n",
              "  </thead>\n",
              "  <tbody>\n",
              "    <tr>\n",
              "      <th>0</th>\n",
              "      <td>False</td>\n",
              "      <td>False</td>\n",
              "      <td>False</td>\n",
              "      <td>False</td>\n",
              "      <td>False</td>\n",
              "      <td>False</td>\n",
              "      <td>False</td>\n",
              "      <td>False</td>\n",
              "      <td>False</td>\n",
              "      <td>False</td>\n",
              "      <td>False</td>\n",
              "      <td>False</td>\n",
              "      <td>False</td>\n",
              "      <td>False</td>\n",
              "      <td>False</td>\n",
              "      <td>False</td>\n",
              "      <td>False</td>\n",
              "      <td>False</td>\n",
              "    </tr>\n",
              "    <tr>\n",
              "      <th>1</th>\n",
              "      <td>False</td>\n",
              "      <td>False</td>\n",
              "      <td>False</td>\n",
              "      <td>False</td>\n",
              "      <td>False</td>\n",
              "      <td>False</td>\n",
              "      <td>False</td>\n",
              "      <td>False</td>\n",
              "      <td>False</td>\n",
              "      <td>False</td>\n",
              "      <td>False</td>\n",
              "      <td>False</td>\n",
              "      <td>False</td>\n",
              "      <td>False</td>\n",
              "      <td>False</td>\n",
              "      <td>False</td>\n",
              "      <td>False</td>\n",
              "      <td>False</td>\n",
              "    </tr>\n",
              "    <tr>\n",
              "      <th>2</th>\n",
              "      <td>False</td>\n",
              "      <td>False</td>\n",
              "      <td>False</td>\n",
              "      <td>False</td>\n",
              "      <td>False</td>\n",
              "      <td>False</td>\n",
              "      <td>False</td>\n",
              "      <td>False</td>\n",
              "      <td>False</td>\n",
              "      <td>False</td>\n",
              "      <td>False</td>\n",
              "      <td>False</td>\n",
              "      <td>False</td>\n",
              "      <td>False</td>\n",
              "      <td>False</td>\n",
              "      <td>False</td>\n",
              "      <td>False</td>\n",
              "      <td>False</td>\n",
              "    </tr>\n",
              "    <tr>\n",
              "      <th>3</th>\n",
              "      <td>False</td>\n",
              "      <td>False</td>\n",
              "      <td>False</td>\n",
              "      <td>False</td>\n",
              "      <td>False</td>\n",
              "      <td>False</td>\n",
              "      <td>False</td>\n",
              "      <td>False</td>\n",
              "      <td>False</td>\n",
              "      <td>False</td>\n",
              "      <td>False</td>\n",
              "      <td>False</td>\n",
              "      <td>False</td>\n",
              "      <td>False</td>\n",
              "      <td>False</td>\n",
              "      <td>False</td>\n",
              "      <td>False</td>\n",
              "      <td>False</td>\n",
              "    </tr>\n",
              "    <tr>\n",
              "      <th>4</th>\n",
              "      <td>False</td>\n",
              "      <td>False</td>\n",
              "      <td>False</td>\n",
              "      <td>False</td>\n",
              "      <td>False</td>\n",
              "      <td>False</td>\n",
              "      <td>False</td>\n",
              "      <td>False</td>\n",
              "      <td>False</td>\n",
              "      <td>False</td>\n",
              "      <td>False</td>\n",
              "      <td>False</td>\n",
              "      <td>False</td>\n",
              "      <td>False</td>\n",
              "      <td>False</td>\n",
              "      <td>False</td>\n",
              "      <td>False</td>\n",
              "      <td>False</td>\n",
              "    </tr>\n",
              "    <tr>\n",
              "      <th>...</th>\n",
              "      <td>...</td>\n",
              "      <td>...</td>\n",
              "      <td>...</td>\n",
              "      <td>...</td>\n",
              "      <td>...</td>\n",
              "      <td>...</td>\n",
              "      <td>...</td>\n",
              "      <td>...</td>\n",
              "      <td>...</td>\n",
              "      <td>...</td>\n",
              "      <td>...</td>\n",
              "      <td>...</td>\n",
              "      <td>...</td>\n",
              "      <td>...</td>\n",
              "      <td>...</td>\n",
              "      <td>...</td>\n",
              "      <td>...</td>\n",
              "      <td>...</td>\n",
              "    </tr>\n",
              "    <tr>\n",
              "      <th>12325</th>\n",
              "      <td>False</td>\n",
              "      <td>False</td>\n",
              "      <td>False</td>\n",
              "      <td>False</td>\n",
              "      <td>False</td>\n",
              "      <td>False</td>\n",
              "      <td>False</td>\n",
              "      <td>False</td>\n",
              "      <td>False</td>\n",
              "      <td>False</td>\n",
              "      <td>False</td>\n",
              "      <td>False</td>\n",
              "      <td>False</td>\n",
              "      <td>False</td>\n",
              "      <td>False</td>\n",
              "      <td>False</td>\n",
              "      <td>False</td>\n",
              "      <td>False</td>\n",
              "    </tr>\n",
              "    <tr>\n",
              "      <th>12326</th>\n",
              "      <td>False</td>\n",
              "      <td>False</td>\n",
              "      <td>False</td>\n",
              "      <td>False</td>\n",
              "      <td>False</td>\n",
              "      <td>False</td>\n",
              "      <td>False</td>\n",
              "      <td>False</td>\n",
              "      <td>False</td>\n",
              "      <td>False</td>\n",
              "      <td>False</td>\n",
              "      <td>False</td>\n",
              "      <td>False</td>\n",
              "      <td>False</td>\n",
              "      <td>False</td>\n",
              "      <td>False</td>\n",
              "      <td>False</td>\n",
              "      <td>False</td>\n",
              "    </tr>\n",
              "    <tr>\n",
              "      <th>12327</th>\n",
              "      <td>False</td>\n",
              "      <td>False</td>\n",
              "      <td>False</td>\n",
              "      <td>False</td>\n",
              "      <td>False</td>\n",
              "      <td>False</td>\n",
              "      <td>False</td>\n",
              "      <td>False</td>\n",
              "      <td>False</td>\n",
              "      <td>False</td>\n",
              "      <td>False</td>\n",
              "      <td>False</td>\n",
              "      <td>False</td>\n",
              "      <td>False</td>\n",
              "      <td>False</td>\n",
              "      <td>False</td>\n",
              "      <td>False</td>\n",
              "      <td>False</td>\n",
              "    </tr>\n",
              "    <tr>\n",
              "      <th>12328</th>\n",
              "      <td>False</td>\n",
              "      <td>False</td>\n",
              "      <td>False</td>\n",
              "      <td>False</td>\n",
              "      <td>False</td>\n",
              "      <td>False</td>\n",
              "      <td>False</td>\n",
              "      <td>False</td>\n",
              "      <td>False</td>\n",
              "      <td>False</td>\n",
              "      <td>False</td>\n",
              "      <td>False</td>\n",
              "      <td>False</td>\n",
              "      <td>False</td>\n",
              "      <td>False</td>\n",
              "      <td>False</td>\n",
              "      <td>False</td>\n",
              "      <td>False</td>\n",
              "    </tr>\n",
              "    <tr>\n",
              "      <th>12329</th>\n",
              "      <td>False</td>\n",
              "      <td>False</td>\n",
              "      <td>False</td>\n",
              "      <td>False</td>\n",
              "      <td>False</td>\n",
              "      <td>False</td>\n",
              "      <td>False</td>\n",
              "      <td>False</td>\n",
              "      <td>False</td>\n",
              "      <td>False</td>\n",
              "      <td>False</td>\n",
              "      <td>False</td>\n",
              "      <td>False</td>\n",
              "      <td>False</td>\n",
              "      <td>False</td>\n",
              "      <td>False</td>\n",
              "      <td>False</td>\n",
              "      <td>False</td>\n",
              "    </tr>\n",
              "  </tbody>\n",
              "</table>\n",
              "<p>12330 rows × 18 columns</p>\n",
              "</div>\n",
              "    <div class=\"colab-df-buttons\">\n",
              "\n",
              "  <div class=\"colab-df-container\">\n",
              "    <button class=\"colab-df-convert\" onclick=\"convertToInteractive('df-52f53d35-767b-46c6-a61b-f190c8cc176e')\"\n",
              "            title=\"Convert this dataframe to an interactive table.\"\n",
              "            style=\"display:none;\">\n",
              "\n",
              "  <svg xmlns=\"http://www.w3.org/2000/svg\" height=\"24px\" viewBox=\"0 -960 960 960\">\n",
              "    <path d=\"M120-120v-720h720v720H120Zm60-500h600v-160H180v160Zm220 220h160v-160H400v160Zm0 220h160v-160H400v160ZM180-400h160v-160H180v160Zm440 0h160v-160H620v160ZM180-180h160v-160H180v160Zm440 0h160v-160H620v160Z\"/>\n",
              "  </svg>\n",
              "    </button>\n",
              "\n",
              "  <style>\n",
              "    .colab-df-container {\n",
              "      display:flex;\n",
              "      gap: 12px;\n",
              "    }\n",
              "\n",
              "    .colab-df-convert {\n",
              "      background-color: #E8F0FE;\n",
              "      border: none;\n",
              "      border-radius: 50%;\n",
              "      cursor: pointer;\n",
              "      display: none;\n",
              "      fill: #1967D2;\n",
              "      height: 32px;\n",
              "      padding: 0 0 0 0;\n",
              "      width: 32px;\n",
              "    }\n",
              "\n",
              "    .colab-df-convert:hover {\n",
              "      background-color: #E2EBFA;\n",
              "      box-shadow: 0px 1px 2px rgba(60, 64, 67, 0.3), 0px 1px 3px 1px rgba(60, 64, 67, 0.15);\n",
              "      fill: #174EA6;\n",
              "    }\n",
              "\n",
              "    .colab-df-buttons div {\n",
              "      margin-bottom: 4px;\n",
              "    }\n",
              "\n",
              "    [theme=dark] .colab-df-convert {\n",
              "      background-color: #3B4455;\n",
              "      fill: #D2E3FC;\n",
              "    }\n",
              "\n",
              "    [theme=dark] .colab-df-convert:hover {\n",
              "      background-color: #434B5C;\n",
              "      box-shadow: 0px 1px 3px 1px rgba(0, 0, 0, 0.15);\n",
              "      filter: drop-shadow(0px 1px 2px rgba(0, 0, 0, 0.3));\n",
              "      fill: #FFFFFF;\n",
              "    }\n",
              "  </style>\n",
              "\n",
              "    <script>\n",
              "      const buttonEl =\n",
              "        document.querySelector('#df-52f53d35-767b-46c6-a61b-f190c8cc176e button.colab-df-convert');\n",
              "      buttonEl.style.display =\n",
              "        google.colab.kernel.accessAllowed ? 'block' : 'none';\n",
              "\n",
              "      async function convertToInteractive(key) {\n",
              "        const element = document.querySelector('#df-52f53d35-767b-46c6-a61b-f190c8cc176e');\n",
              "        const dataTable =\n",
              "          await google.colab.kernel.invokeFunction('convertToInteractive',\n",
              "                                                    [key], {});\n",
              "        if (!dataTable) return;\n",
              "\n",
              "        const docLinkHtml = 'Like what you see? Visit the ' +\n",
              "          '<a target=\"_blank\" href=https://colab.research.google.com/notebooks/data_table.ipynb>data table notebook</a>'\n",
              "          + ' to learn more about interactive tables.';\n",
              "        element.innerHTML = '';\n",
              "        dataTable['output_type'] = 'display_data';\n",
              "        await google.colab.output.renderOutput(dataTable, element);\n",
              "        const docLink = document.createElement('div');\n",
              "        docLink.innerHTML = docLinkHtml;\n",
              "        element.appendChild(docLink);\n",
              "      }\n",
              "    </script>\n",
              "  </div>\n",
              "\n",
              "\n",
              "<div id=\"df-c20d7643-2b8d-4027-bbbe-505d0f3f50c9\">\n",
              "  <button class=\"colab-df-quickchart\" onclick=\"quickchart('df-c20d7643-2b8d-4027-bbbe-505d0f3f50c9')\"\n",
              "            title=\"Suggest charts\"\n",
              "            style=\"display:none;\">\n",
              "\n",
              "<svg xmlns=\"http://www.w3.org/2000/svg\" height=\"24px\"viewBox=\"0 0 24 24\"\n",
              "     width=\"24px\">\n",
              "    <g>\n",
              "        <path d=\"M19 3H5c-1.1 0-2 .9-2 2v14c0 1.1.9 2 2 2h14c1.1 0 2-.9 2-2V5c0-1.1-.9-2-2-2zM9 17H7v-7h2v7zm4 0h-2V7h2v10zm4 0h-2v-4h2v4z\"/>\n",
              "    </g>\n",
              "</svg>\n",
              "  </button>\n",
              "\n",
              "<style>\n",
              "  .colab-df-quickchart {\n",
              "      --bg-color: #E8F0FE;\n",
              "      --fill-color: #1967D2;\n",
              "      --hover-bg-color: #E2EBFA;\n",
              "      --hover-fill-color: #174EA6;\n",
              "      --disabled-fill-color: #AAA;\n",
              "      --disabled-bg-color: #DDD;\n",
              "  }\n",
              "\n",
              "  [theme=dark] .colab-df-quickchart {\n",
              "      --bg-color: #3B4455;\n",
              "      --fill-color: #D2E3FC;\n",
              "      --hover-bg-color: #434B5C;\n",
              "      --hover-fill-color: #FFFFFF;\n",
              "      --disabled-bg-color: #3B4455;\n",
              "      --disabled-fill-color: #666;\n",
              "  }\n",
              "\n",
              "  .colab-df-quickchart {\n",
              "    background-color: var(--bg-color);\n",
              "    border: none;\n",
              "    border-radius: 50%;\n",
              "    cursor: pointer;\n",
              "    display: none;\n",
              "    fill: var(--fill-color);\n",
              "    height: 32px;\n",
              "    padding: 0;\n",
              "    width: 32px;\n",
              "  }\n",
              "\n",
              "  .colab-df-quickchart:hover {\n",
              "    background-color: var(--hover-bg-color);\n",
              "    box-shadow: 0 1px 2px rgba(60, 64, 67, 0.3), 0 1px 3px 1px rgba(60, 64, 67, 0.15);\n",
              "    fill: var(--button-hover-fill-color);\n",
              "  }\n",
              "\n",
              "  .colab-df-quickchart-complete:disabled,\n",
              "  .colab-df-quickchart-complete:disabled:hover {\n",
              "    background-color: var(--disabled-bg-color);\n",
              "    fill: var(--disabled-fill-color);\n",
              "    box-shadow: none;\n",
              "  }\n",
              "\n",
              "  .colab-df-spinner {\n",
              "    border: 2px solid var(--fill-color);\n",
              "    border-color: transparent;\n",
              "    border-bottom-color: var(--fill-color);\n",
              "    animation:\n",
              "      spin 1s steps(1) infinite;\n",
              "  }\n",
              "\n",
              "  @keyframes spin {\n",
              "    0% {\n",
              "      border-color: transparent;\n",
              "      border-bottom-color: var(--fill-color);\n",
              "      border-left-color: var(--fill-color);\n",
              "    }\n",
              "    20% {\n",
              "      border-color: transparent;\n",
              "      border-left-color: var(--fill-color);\n",
              "      border-top-color: var(--fill-color);\n",
              "    }\n",
              "    30% {\n",
              "      border-color: transparent;\n",
              "      border-left-color: var(--fill-color);\n",
              "      border-top-color: var(--fill-color);\n",
              "      border-right-color: var(--fill-color);\n",
              "    }\n",
              "    40% {\n",
              "      border-color: transparent;\n",
              "      border-right-color: var(--fill-color);\n",
              "      border-top-color: var(--fill-color);\n",
              "    }\n",
              "    60% {\n",
              "      border-color: transparent;\n",
              "      border-right-color: var(--fill-color);\n",
              "    }\n",
              "    80% {\n",
              "      border-color: transparent;\n",
              "      border-right-color: var(--fill-color);\n",
              "      border-bottom-color: var(--fill-color);\n",
              "    }\n",
              "    90% {\n",
              "      border-color: transparent;\n",
              "      border-bottom-color: var(--fill-color);\n",
              "    }\n",
              "  }\n",
              "</style>\n",
              "\n",
              "  <script>\n",
              "    async function quickchart(key) {\n",
              "      const quickchartButtonEl =\n",
              "        document.querySelector('#' + key + ' button');\n",
              "      quickchartButtonEl.disabled = true;  // To prevent multiple clicks.\n",
              "      quickchartButtonEl.classList.add('colab-df-spinner');\n",
              "      try {\n",
              "        const charts = await google.colab.kernel.invokeFunction(\n",
              "            'suggestCharts', [key], {});\n",
              "      } catch (error) {\n",
              "        console.error('Error during call to suggestCharts:', error);\n",
              "      }\n",
              "      quickchartButtonEl.classList.remove('colab-df-spinner');\n",
              "      quickchartButtonEl.classList.add('colab-df-quickchart-complete');\n",
              "    }\n",
              "    (() => {\n",
              "      let quickchartButtonEl =\n",
              "        document.querySelector('#df-c20d7643-2b8d-4027-bbbe-505d0f3f50c9 button');\n",
              "      quickchartButtonEl.style.display =\n",
              "        google.colab.kernel.accessAllowed ? 'block' : 'none';\n",
              "    })();\n",
              "  </script>\n",
              "</div>\n",
              "    </div>\n",
              "  </div>\n"
            ],
            "application/vnd.google.colaboratory.intrinsic+json": {
              "type": "dataframe",
              "summary": "{\n  \"name\": \"df\",\n  \"rows\": 12330,\n  \"fields\": [\n    {\n      \"column\": \"Administrative\",\n      \"properties\": {\n        \"dtype\": \"boolean\",\n        \"num_unique_values\": 1,\n        \"samples\": [\n          false\n        ],\n        \"semantic_type\": \"\",\n        \"description\": \"\"\n      }\n    },\n    {\n      \"column\": \"Administrative_Duration\",\n      \"properties\": {\n        \"dtype\": \"boolean\",\n        \"num_unique_values\": 1,\n        \"samples\": [\n          false\n        ],\n        \"semantic_type\": \"\",\n        \"description\": \"\"\n      }\n    },\n    {\n      \"column\": \"Informational\",\n      \"properties\": {\n        \"dtype\": \"boolean\",\n        \"num_unique_values\": 1,\n        \"samples\": [\n          false\n        ],\n        \"semantic_type\": \"\",\n        \"description\": \"\"\n      }\n    },\n    {\n      \"column\": \"Informational_Duration\",\n      \"properties\": {\n        \"dtype\": \"boolean\",\n        \"num_unique_values\": 1,\n        \"samples\": [\n          false\n        ],\n        \"semantic_type\": \"\",\n        \"description\": \"\"\n      }\n    },\n    {\n      \"column\": \"ProductRelated\",\n      \"properties\": {\n        \"dtype\": \"boolean\",\n        \"num_unique_values\": 1,\n        \"samples\": [\n          false\n        ],\n        \"semantic_type\": \"\",\n        \"description\": \"\"\n      }\n    },\n    {\n      \"column\": \"ProductRelated_Duration\",\n      \"properties\": {\n        \"dtype\": \"boolean\",\n        \"num_unique_values\": 1,\n        \"samples\": [\n          false\n        ],\n        \"semantic_type\": \"\",\n        \"description\": \"\"\n      }\n    },\n    {\n      \"column\": \"BounceRates\",\n      \"properties\": {\n        \"dtype\": \"boolean\",\n        \"num_unique_values\": 1,\n        \"samples\": [\n          false\n        ],\n        \"semantic_type\": \"\",\n        \"description\": \"\"\n      }\n    },\n    {\n      \"column\": \"ExitRates\",\n      \"properties\": {\n        \"dtype\": \"boolean\",\n        \"num_unique_values\": 1,\n        \"samples\": [\n          false\n        ],\n        \"semantic_type\": \"\",\n        \"description\": \"\"\n      }\n    },\n    {\n      \"column\": \"PageValues\",\n      \"properties\": {\n        \"dtype\": \"boolean\",\n        \"num_unique_values\": 1,\n        \"samples\": [\n          false\n        ],\n        \"semantic_type\": \"\",\n        \"description\": \"\"\n      }\n    },\n    {\n      \"column\": \"SpecialDay\",\n      \"properties\": {\n        \"dtype\": \"boolean\",\n        \"num_unique_values\": 1,\n        \"samples\": [\n          false\n        ],\n        \"semantic_type\": \"\",\n        \"description\": \"\"\n      }\n    },\n    {\n      \"column\": \"Month\",\n      \"properties\": {\n        \"dtype\": \"boolean\",\n        \"num_unique_values\": 1,\n        \"samples\": [\n          false\n        ],\n        \"semantic_type\": \"\",\n        \"description\": \"\"\n      }\n    },\n    {\n      \"column\": \"OperatingSystems\",\n      \"properties\": {\n        \"dtype\": \"boolean\",\n        \"num_unique_values\": 1,\n        \"samples\": [\n          false\n        ],\n        \"semantic_type\": \"\",\n        \"description\": \"\"\n      }\n    },\n    {\n      \"column\": \"Browser\",\n      \"properties\": {\n        \"dtype\": \"boolean\",\n        \"num_unique_values\": 1,\n        \"samples\": [\n          false\n        ],\n        \"semantic_type\": \"\",\n        \"description\": \"\"\n      }\n    },\n    {\n      \"column\": \"Region\",\n      \"properties\": {\n        \"dtype\": \"boolean\",\n        \"num_unique_values\": 1,\n        \"samples\": [\n          false\n        ],\n        \"semantic_type\": \"\",\n        \"description\": \"\"\n      }\n    },\n    {\n      \"column\": \"TrafficType\",\n      \"properties\": {\n        \"dtype\": \"boolean\",\n        \"num_unique_values\": 1,\n        \"samples\": [\n          false\n        ],\n        \"semantic_type\": \"\",\n        \"description\": \"\"\n      }\n    },\n    {\n      \"column\": \"VisitorType\",\n      \"properties\": {\n        \"dtype\": \"boolean\",\n        \"num_unique_values\": 1,\n        \"samples\": [\n          false\n        ],\n        \"semantic_type\": \"\",\n        \"description\": \"\"\n      }\n    },\n    {\n      \"column\": \"Weekend\",\n      \"properties\": {\n        \"dtype\": \"boolean\",\n        \"num_unique_values\": 1,\n        \"samples\": [\n          false\n        ],\n        \"semantic_type\": \"\",\n        \"description\": \"\"\n      }\n    },\n    {\n      \"column\": \"Revenue\",\n      \"properties\": {\n        \"dtype\": \"boolean\",\n        \"num_unique_values\": 1,\n        \"samples\": [\n          false\n        ],\n        \"semantic_type\": \"\",\n        \"description\": \"\"\n      }\n    }\n  ]\n}"
            }
          },
          "metadata": {},
          "execution_count": 8
        }
      ]
    },
    {
      "cell_type": "markdown",
      "source": [
        "# Наивный байесовский классификатор"
      ],
      "metadata": {
        "id": "mIaq_x1XvjNd"
      }
    },
    {
      "cell_type": "code",
      "source": [
        "X = df.select_dtypes(include='number').fillna(0)\n",
        "y = df['Revenue'] * 1"
      ],
      "metadata": {
        "id": "LX-ZUGZAK9zf"
      },
      "execution_count": 9,
      "outputs": []
    },
    {
      "cell_type": "code",
      "source": [
        "y.value_counts(normalize=True)"
      ],
      "metadata": {
        "colab": {
          "base_uri": "https://localhost:8080/"
        },
        "id": "zDS15KS42-tg",
        "outputId": "30dd82fe-876c-476f-88f1-59eb80dbe2c6"
      },
      "execution_count": 10,
      "outputs": [
        {
          "output_type": "execute_result",
          "data": {
            "text/plain": [
              "0    0.845255\n",
              "1    0.154745\n",
              "Name: Revenue, dtype: float64"
            ]
          },
          "metadata": {},
          "execution_count": 10
        }
      ]
    },
    {
      "cell_type": "markdown",
      "source": [
        "Группы в наборе данных распределены неравномерно, то это может повлиять на процесс обучения и оценки качества классификатора\n",
        "\n",
        "При оценке качества классификатора важно использовать метрики, которые учитывают неравномерное распределение классов, такие как precision, recall, F1-мера, а также ROC-кривая и площадь под ней (AUC-ROC)."
      ],
      "metadata": {
        "id": "-hVZwLST3IRT"
      }
    },
    {
      "cell_type": "code",
      "source": [
        "from sklearn.model_selection import train_test_split\n",
        "\n",
        "X_train, X_test, y_train, y_test = train_test_split(X, y, test_size=0.25, random_state=42)"
      ],
      "metadata": {
        "id": "djJyLhSeKTg8"
      },
      "execution_count": 11,
      "outputs": []
    },
    {
      "cell_type": "code",
      "source": [
        "from sklearn.naive_bayes import GaussianNB\n",
        "\n",
        "gnb = GaussianNB()\n",
        "\n",
        "gnb.fit(X_train, y_train)\n",
        "\n",
        "y_pred = gnb.predict_proba(X_test)[:, 1]"
      ],
      "metadata": {
        "id": "FZCus_0yyc0n"
      },
      "execution_count": 12,
      "outputs": []
    },
    {
      "cell_type": "code",
      "source": [
        "from sklearn.metrics import accuracy_score,confusion_matrix,classification_report"
      ],
      "metadata": {
        "id": "AC42Wh3M5Um2"
      },
      "execution_count": 13,
      "outputs": []
    },
    {
      "cell_type": "code",
      "execution_count": 14,
      "metadata": {
        "colab": {
          "base_uri": "https://localhost:8080/"
        },
        "id": "NpmpMr4TIbXL",
        "outputId": "cbb9585a-d615-47d7-9afb-0c52bda741a2"
      },
      "outputs": [
        {
          "output_type": "execute_result",
          "data": {
            "text/plain": [
              "0.840739539409666"
            ]
          },
          "metadata": {},
          "execution_count": 14
        }
      ],
      "source": [
        "from sklearn.metrics import accuracy_score\n",
        "\n",
        "accuracy_score(y_test, y_pred > 0.5)"
      ]
    },
    {
      "cell_type": "code",
      "execution_count": 15,
      "metadata": {
        "colab": {
          "base_uri": "https://localhost:8080/"
        },
        "id": "bRN57zEzIykJ",
        "outputId": "7ef1e764-1943-4ece-fd94-3fd321813948"
      },
      "outputs": [
        {
          "output_type": "execute_result",
          "data": {
            "text/plain": [
              "array([[2347,  247],\n",
              "       [ 244,  245]])"
            ]
          },
          "metadata": {},
          "execution_count": 15
        }
      ],
      "source": [
        "from sklearn.metrics import confusion_matrix\n",
        "\n",
        "confusion_matrix(y_test, y_pred > 0.5)"
      ]
    },
    {
      "cell_type": "code",
      "source": [
        "print(classification_report(y_test,y_pred > 0.5))"
      ],
      "metadata": {
        "colab": {
          "base_uri": "https://localhost:8080/"
        },
        "id": "-H1WkIiR5l12",
        "outputId": "a512db25-1002-4c59-b886-ddd7d22b4676"
      },
      "execution_count": 16,
      "outputs": [
        {
          "output_type": "stream",
          "name": "stdout",
          "text": [
            "              precision    recall  f1-score   support\n",
            "\n",
            "           0       0.91      0.90      0.91      2594\n",
            "           1       0.50      0.50      0.50       489\n",
            "\n",
            "    accuracy                           0.84      3083\n",
            "   macro avg       0.70      0.70      0.70      3083\n",
            "weighted avg       0.84      0.84      0.84      3083\n",
            "\n"
          ]
        }
      ]
    },
    {
      "cell_type": "markdown",
      "source": [
        " Для группы 1 значение precision составляет 0.5, тогда как для группы 0 оно около 0.91. Это означает, что классификатор демонстрирует более низкую точность в предсказании положительных событий для группы 1 по сравнению с группой 0."
      ],
      "metadata": {
        "id": "3A5OgRuP6D-f"
      }
    },
    {
      "cell_type": "markdown",
      "source": [
        "# Кросс-валидация"
      ],
      "metadata": {
        "id": "-d3cILKb7R8o"
      }
    },
    {
      "cell_type": "code",
      "source": [
        "from sklearn.model_selection import cross_validate\n",
        "\n",
        "cross_validate(gnb, X, y, scoring=['accuracy', 'f1', 'precision'], cv=3, n_jobs=-1)"
      ],
      "metadata": {
        "colab": {
          "base_uri": "https://localhost:8080/"
        },
        "id": "-bXGCynt6Dfy",
        "outputId": "2b1c1d29-35f1-4a3d-97b2-4a1516150b20"
      },
      "execution_count": 17,
      "outputs": [
        {
          "output_type": "execute_result",
          "data": {
            "text/plain": [
              "{'fit_time': array([0.01374292, 0.02872014, 0.01277137]),\n",
              " 'score_time': array([0.01634645, 0.03935432, 0.01699519]),\n",
              " 'test_accuracy': array([0.87761557, 0.82457421, 0.81143552]),\n",
              " 'test_f1': array([0.55368234, 0.47101981, 0.48641484]),\n",
              " 'test_precision': array([0.63543788, 0.44154058, 0.42038946])}"
            ]
          },
          "metadata": {},
          "execution_count": 17
        }
      ]
    },
    {
      "cell_type": "markdown",
      "source": [
        "Результаты precision на кросс-валидации колеблются от 0.42 до 0.63"
      ],
      "metadata": {
        "id": "TflS2IPv7sXk"
      }
    },
    {
      "cell_type": "markdown",
      "source": [
        "Посмотрим как измениться качество модели после маштабирование данных"
      ],
      "metadata": {
        "id": "yJl-dBhS68cx"
      }
    },
    {
      "cell_type": "code",
      "source": [
        "from sklearn.preprocessing import MinMaxScaler\n",
        "\n",
        "sc = MinMaxScaler()\n",
        "sc.fit(X_train)"
      ],
      "metadata": {
        "colab": {
          "base_uri": "https://localhost:8080/",
          "height": 74
        },
        "id": "uxAIIBh_wdYc",
        "outputId": "b4093fa3-86d6-42b1-af71-7f3e1bc48243"
      },
      "execution_count": 18,
      "outputs": [
        {
          "output_type": "execute_result",
          "data": {
            "text/plain": [
              "MinMaxScaler()"
            ],
            "text/html": [
              "<style>#sk-container-id-1 {color: black;background-color: white;}#sk-container-id-1 pre{padding: 0;}#sk-container-id-1 div.sk-toggleable {background-color: white;}#sk-container-id-1 label.sk-toggleable__label {cursor: pointer;display: block;width: 100%;margin-bottom: 0;padding: 0.3em;box-sizing: border-box;text-align: center;}#sk-container-id-1 label.sk-toggleable__label-arrow:before {content: \"▸\";float: left;margin-right: 0.25em;color: #696969;}#sk-container-id-1 label.sk-toggleable__label-arrow:hover:before {color: black;}#sk-container-id-1 div.sk-estimator:hover label.sk-toggleable__label-arrow:before {color: black;}#sk-container-id-1 div.sk-toggleable__content {max-height: 0;max-width: 0;overflow: hidden;text-align: left;background-color: #f0f8ff;}#sk-container-id-1 div.sk-toggleable__content pre {margin: 0.2em;color: black;border-radius: 0.25em;background-color: #f0f8ff;}#sk-container-id-1 input.sk-toggleable__control:checked~div.sk-toggleable__content {max-height: 200px;max-width: 100%;overflow: auto;}#sk-container-id-1 input.sk-toggleable__control:checked~label.sk-toggleable__label-arrow:before {content: \"▾\";}#sk-container-id-1 div.sk-estimator input.sk-toggleable__control:checked~label.sk-toggleable__label {background-color: #d4ebff;}#sk-container-id-1 div.sk-label input.sk-toggleable__control:checked~label.sk-toggleable__label {background-color: #d4ebff;}#sk-container-id-1 input.sk-hidden--visually {border: 0;clip: rect(1px 1px 1px 1px);clip: rect(1px, 1px, 1px, 1px);height: 1px;margin: -1px;overflow: hidden;padding: 0;position: absolute;width: 1px;}#sk-container-id-1 div.sk-estimator {font-family: monospace;background-color: #f0f8ff;border: 1px dotted black;border-radius: 0.25em;box-sizing: border-box;margin-bottom: 0.5em;}#sk-container-id-1 div.sk-estimator:hover {background-color: #d4ebff;}#sk-container-id-1 div.sk-parallel-item::after {content: \"\";width: 100%;border-bottom: 1px solid gray;flex-grow: 1;}#sk-container-id-1 div.sk-label:hover label.sk-toggleable__label {background-color: #d4ebff;}#sk-container-id-1 div.sk-serial::before {content: \"\";position: absolute;border-left: 1px solid gray;box-sizing: border-box;top: 0;bottom: 0;left: 50%;z-index: 0;}#sk-container-id-1 div.sk-serial {display: flex;flex-direction: column;align-items: center;background-color: white;padding-right: 0.2em;padding-left: 0.2em;position: relative;}#sk-container-id-1 div.sk-item {position: relative;z-index: 1;}#sk-container-id-1 div.sk-parallel {display: flex;align-items: stretch;justify-content: center;background-color: white;position: relative;}#sk-container-id-1 div.sk-item::before, #sk-container-id-1 div.sk-parallel-item::before {content: \"\";position: absolute;border-left: 1px solid gray;box-sizing: border-box;top: 0;bottom: 0;left: 50%;z-index: -1;}#sk-container-id-1 div.sk-parallel-item {display: flex;flex-direction: column;z-index: 1;position: relative;background-color: white;}#sk-container-id-1 div.sk-parallel-item:first-child::after {align-self: flex-end;width: 50%;}#sk-container-id-1 div.sk-parallel-item:last-child::after {align-self: flex-start;width: 50%;}#sk-container-id-1 div.sk-parallel-item:only-child::after {width: 0;}#sk-container-id-1 div.sk-dashed-wrapped {border: 1px dashed gray;margin: 0 0.4em 0.5em 0.4em;box-sizing: border-box;padding-bottom: 0.4em;background-color: white;}#sk-container-id-1 div.sk-label label {font-family: monospace;font-weight: bold;display: inline-block;line-height: 1.2em;}#sk-container-id-1 div.sk-label-container {text-align: center;}#sk-container-id-1 div.sk-container {/* jupyter's `normalize.less` sets `[hidden] { display: none; }` but bootstrap.min.css set `[hidden] { display: none !important; }` so we also need the `!important` here to be able to override the default hidden behavior on the sphinx rendered scikit-learn.org. See: https://github.com/scikit-learn/scikit-learn/issues/21755 */display: inline-block !important;position: relative;}#sk-container-id-1 div.sk-text-repr-fallback {display: none;}</style><div id=\"sk-container-id-1\" class=\"sk-top-container\"><div class=\"sk-text-repr-fallback\"><pre>MinMaxScaler()</pre><b>In a Jupyter environment, please rerun this cell to show the HTML representation or trust the notebook. <br />On GitHub, the HTML representation is unable to render, please try loading this page with nbviewer.org.</b></div><div class=\"sk-container\" hidden><div class=\"sk-item\"><div class=\"sk-estimator sk-toggleable\"><input class=\"sk-toggleable__control sk-hidden--visually\" id=\"sk-estimator-id-1\" type=\"checkbox\" checked><label for=\"sk-estimator-id-1\" class=\"sk-toggleable__label sk-toggleable__label-arrow\">MinMaxScaler</label><div class=\"sk-toggleable__content\"><pre>MinMaxScaler()</pre></div></div></div></div></div>"
            ]
          },
          "metadata": {},
          "execution_count": 18
        }
      ]
    },
    {
      "cell_type": "code",
      "source": [
        "X_train_sc = sc.transform(X_train)\n",
        "X_test_sc = sc.transform(X_test)"
      ],
      "metadata": {
        "id": "zNUkTaJHxfmt"
      },
      "execution_count": 19,
      "outputs": []
    },
    {
      "cell_type": "code",
      "source": [
        "col = X_train.columns"
      ],
      "metadata": {
        "id": "rs2em4JhxmRG"
      },
      "execution_count": 20,
      "outputs": []
    },
    {
      "cell_type": "code",
      "source": [
        "X_train = pd.DataFrame(X_train_sc, columns=col)\n",
        "X_test = pd.DataFrame(X_test_sc, columns=col)"
      ],
      "metadata": {
        "id": "zOvsRoUzxld9"
      },
      "execution_count": 21,
      "outputs": []
    },
    {
      "cell_type": "code",
      "source": [
        "from sklearn.naive_bayes import GaussianNB\n",
        "\n",
        "gnb = GaussianNB()\n",
        "\n",
        "gnb.fit(X_train, y_train)\n",
        "\n",
        "y_pred = gnb.predict_proba(X_test)[:, 1]"
      ],
      "metadata": {
        "id": "l87vFuQo8VE-"
      },
      "execution_count": 22,
      "outputs": []
    },
    {
      "cell_type": "code",
      "source": [
        "from sklearn.metrics import accuracy_score,confusion_matrix,classification_report"
      ],
      "metadata": {
        "id": "iB9ASak38VE_"
      },
      "execution_count": 23,
      "outputs": []
    },
    {
      "cell_type": "code",
      "execution_count": 24,
      "metadata": {
        "colab": {
          "base_uri": "https://localhost:8080/"
        },
        "outputId": "6ea24bf8-f746-432f-f619-e0df6df81e93",
        "id": "gvxn8_jY8VE_"
      },
      "outputs": [
        {
          "output_type": "execute_result",
          "data": {
            "text/plain": [
              "0.8164125851443399"
            ]
          },
          "metadata": {},
          "execution_count": 24
        }
      ],
      "source": [
        "from sklearn.metrics import accuracy_score\n",
        "\n",
        "accuracy_score(y_test, y_pred > 0.5)"
      ]
    },
    {
      "cell_type": "code",
      "execution_count": 25,
      "metadata": {
        "colab": {
          "base_uri": "https://localhost:8080/"
        },
        "outputId": "59e419b1-7430-423a-fd12-60f7c9c0d978",
        "id": "H5BEk1Ok8VFA"
      },
      "outputs": [
        {
          "output_type": "execute_result",
          "data": {
            "text/plain": [
              "array([[2189,  405],\n",
              "       [ 161,  328]])"
            ]
          },
          "metadata": {},
          "execution_count": 25
        }
      ],
      "source": [
        "from sklearn.metrics import confusion_matrix\n",
        "\n",
        "confusion_matrix(y_test, y_pred > 0.5)"
      ]
    },
    {
      "cell_type": "code",
      "source": [
        "print(classification_report(y_test,y_pred > 0.5))"
      ],
      "metadata": {
        "colab": {
          "base_uri": "https://localhost:8080/"
        },
        "outputId": "cf9e639d-295c-429c-8349-10763edd8674",
        "id": "r0ClcFEP8VFB"
      },
      "execution_count": 26,
      "outputs": [
        {
          "output_type": "stream",
          "name": "stdout",
          "text": [
            "              precision    recall  f1-score   support\n",
            "\n",
            "           0       0.93      0.84      0.89      2594\n",
            "           1       0.45      0.67      0.54       489\n",
            "\n",
            "    accuracy                           0.82      3083\n",
            "   macro avg       0.69      0.76      0.71      3083\n",
            "weighted avg       0.85      0.82      0.83      3083\n",
            "\n"
          ]
        }
      ]
    },
    {
      "cell_type": "markdown",
      "source": [
        "Маштабирование отрицатально сказалась на прогнозирование данных"
      ],
      "metadata": {
        "id": "nKAv4oFf8gml"
      }
    },
    {
      "cell_type": "code",
      "source": [],
      "metadata": {
        "id": "toFxcb4J8afz"
      },
      "execution_count": 26,
      "outputs": []
    },
    {
      "cell_type": "markdown",
      "metadata": {
        "id": "PmCcdpjoO33s"
      },
      "source": [
        "## Подбор гиперпараметров по сетке"
      ]
    },
    {
      "cell_type": "markdown",
      "metadata": {
        "id": "tqy0-kvGPAGZ"
      },
      "source": [
        "![image.png](data:image/png;base64,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)"
      ]
    },
    {
      "cell_type": "markdown",
      "source": [
        "Для обучение используем"
      ],
      "metadata": {
        "id": "cfi_A3U1vymw"
      }
    },
    {
      "cell_type": "code",
      "execution_count": 65,
      "metadata": {
        "colab": {
          "base_uri": "https://localhost:8080/",
          "height": 134
        },
        "id": "mrd_nxtjPCU3",
        "outputId": "adb5e7a0-1d97-420c-ca82-6a2082950026"
      },
      "outputs": [
        {
          "output_type": "stream",
          "name": "stdout",
          "text": [
            "Fitting 3 folds for each of 10 candidates, totalling 30 fits\n"
          ]
        },
        {
          "output_type": "execute_result",
          "data": {
            "text/plain": [
              "GridSearchCV(cv=3, estimator=KNeighborsClassifier(), n_jobs=-1,\n",
              "             param_grid={'leaf_size': array([ 2,  4,  6,  8, 10]),\n",
              "                         'n_neighbors': array([18]), 'p': [1],\n",
              "                         'weights': ['distance', 'uniform']},\n",
              "             scoring='average_precision', verbose=2)"
            ],
            "text/html": [
              "<style>#sk-container-id-17 {color: black;background-color: white;}#sk-container-id-17 pre{padding: 0;}#sk-container-id-17 div.sk-toggleable {background-color: white;}#sk-container-id-17 label.sk-toggleable__label {cursor: pointer;display: block;width: 100%;margin-bottom: 0;padding: 0.3em;box-sizing: border-box;text-align: center;}#sk-container-id-17 label.sk-toggleable__label-arrow:before {content: \"▸\";float: left;margin-right: 0.25em;color: #696969;}#sk-container-id-17 label.sk-toggleable__label-arrow:hover:before {color: black;}#sk-container-id-17 div.sk-estimator:hover label.sk-toggleable__label-arrow:before {color: black;}#sk-container-id-17 div.sk-toggleable__content {max-height: 0;max-width: 0;overflow: hidden;text-align: left;background-color: #f0f8ff;}#sk-container-id-17 div.sk-toggleable__content pre {margin: 0.2em;color: black;border-radius: 0.25em;background-color: #f0f8ff;}#sk-container-id-17 input.sk-toggleable__control:checked~div.sk-toggleable__content {max-height: 200px;max-width: 100%;overflow: auto;}#sk-container-id-17 input.sk-toggleable__control:checked~label.sk-toggleable__label-arrow:before {content: \"▾\";}#sk-container-id-17 div.sk-estimator input.sk-toggleable__control:checked~label.sk-toggleable__label {background-color: #d4ebff;}#sk-container-id-17 div.sk-label input.sk-toggleable__control:checked~label.sk-toggleable__label {background-color: #d4ebff;}#sk-container-id-17 input.sk-hidden--visually {border: 0;clip: rect(1px 1px 1px 1px);clip: rect(1px, 1px, 1px, 1px);height: 1px;margin: -1px;overflow: hidden;padding: 0;position: absolute;width: 1px;}#sk-container-id-17 div.sk-estimator {font-family: monospace;background-color: #f0f8ff;border: 1px dotted black;border-radius: 0.25em;box-sizing: border-box;margin-bottom: 0.5em;}#sk-container-id-17 div.sk-estimator:hover {background-color: #d4ebff;}#sk-container-id-17 div.sk-parallel-item::after {content: \"\";width: 100%;border-bottom: 1px solid gray;flex-grow: 1;}#sk-container-id-17 div.sk-label:hover label.sk-toggleable__label {background-color: #d4ebff;}#sk-container-id-17 div.sk-serial::before {content: \"\";position: absolute;border-left: 1px solid gray;box-sizing: border-box;top: 0;bottom: 0;left: 50%;z-index: 0;}#sk-container-id-17 div.sk-serial {display: flex;flex-direction: column;align-items: center;background-color: white;padding-right: 0.2em;padding-left: 0.2em;position: relative;}#sk-container-id-17 div.sk-item {position: relative;z-index: 1;}#sk-container-id-17 div.sk-parallel {display: flex;align-items: stretch;justify-content: center;background-color: white;position: relative;}#sk-container-id-17 div.sk-item::before, #sk-container-id-17 div.sk-parallel-item::before {content: \"\";position: absolute;border-left: 1px solid gray;box-sizing: border-box;top: 0;bottom: 0;left: 50%;z-index: -1;}#sk-container-id-17 div.sk-parallel-item {display: flex;flex-direction: column;z-index: 1;position: relative;background-color: white;}#sk-container-id-17 div.sk-parallel-item:first-child::after {align-self: flex-end;width: 50%;}#sk-container-id-17 div.sk-parallel-item:last-child::after {align-self: flex-start;width: 50%;}#sk-container-id-17 div.sk-parallel-item:only-child::after {width: 0;}#sk-container-id-17 div.sk-dashed-wrapped {border: 1px dashed gray;margin: 0 0.4em 0.5em 0.4em;box-sizing: border-box;padding-bottom: 0.4em;background-color: white;}#sk-container-id-17 div.sk-label label {font-family: monospace;font-weight: bold;display: inline-block;line-height: 1.2em;}#sk-container-id-17 div.sk-label-container {text-align: center;}#sk-container-id-17 div.sk-container {/* jupyter's `normalize.less` sets `[hidden] { display: none; }` but bootstrap.min.css set `[hidden] { display: none !important; }` so we also need the `!important` here to be able to override the default hidden behavior on the sphinx rendered scikit-learn.org. See: https://github.com/scikit-learn/scikit-learn/issues/21755 */display: inline-block !important;position: relative;}#sk-container-id-17 div.sk-text-repr-fallback {display: none;}</style><div id=\"sk-container-id-17\" class=\"sk-top-container\"><div class=\"sk-text-repr-fallback\"><pre>GridSearchCV(cv=3, estimator=KNeighborsClassifier(), n_jobs=-1,\n",
              "             param_grid={&#x27;leaf_size&#x27;: array([ 2,  4,  6,  8, 10]),\n",
              "                         &#x27;n_neighbors&#x27;: array([18]), &#x27;p&#x27;: [1],\n",
              "                         &#x27;weights&#x27;: [&#x27;distance&#x27;, &#x27;uniform&#x27;]},\n",
              "             scoring=&#x27;average_precision&#x27;, verbose=2)</pre><b>In a Jupyter environment, please rerun this cell to show the HTML representation or trust the notebook. <br />On GitHub, the HTML representation is unable to render, please try loading this page with nbviewer.org.</b></div><div class=\"sk-container\" hidden><div class=\"sk-item sk-dashed-wrapped\"><div class=\"sk-label-container\"><div class=\"sk-label sk-toggleable\"><input class=\"sk-toggleable__control sk-hidden--visually\" id=\"sk-estimator-id-45\" type=\"checkbox\" ><label for=\"sk-estimator-id-45\" class=\"sk-toggleable__label sk-toggleable__label-arrow\">GridSearchCV</label><div class=\"sk-toggleable__content\"><pre>GridSearchCV(cv=3, estimator=KNeighborsClassifier(), n_jobs=-1,\n",
              "             param_grid={&#x27;leaf_size&#x27;: array([ 2,  4,  6,  8, 10]),\n",
              "                         &#x27;n_neighbors&#x27;: array([18]), &#x27;p&#x27;: [1],\n",
              "                         &#x27;weights&#x27;: [&#x27;distance&#x27;, &#x27;uniform&#x27;]},\n",
              "             scoring=&#x27;average_precision&#x27;, verbose=2)</pre></div></div></div><div class=\"sk-parallel\"><div class=\"sk-parallel-item\"><div class=\"sk-item\"><div class=\"sk-label-container\"><div class=\"sk-label sk-toggleable\"><input class=\"sk-toggleable__control sk-hidden--visually\" id=\"sk-estimator-id-46\" type=\"checkbox\" ><label for=\"sk-estimator-id-46\" class=\"sk-toggleable__label sk-toggleable__label-arrow\">estimator: KNeighborsClassifier</label><div class=\"sk-toggleable__content\"><pre>KNeighborsClassifier()</pre></div></div></div><div class=\"sk-serial\"><div class=\"sk-item\"><div class=\"sk-estimator sk-toggleable\"><input class=\"sk-toggleable__control sk-hidden--visually\" id=\"sk-estimator-id-47\" type=\"checkbox\" ><label for=\"sk-estimator-id-47\" class=\"sk-toggleable__label sk-toggleable__label-arrow\">KNeighborsClassifier</label><div class=\"sk-toggleable__content\"><pre>KNeighborsClassifier()</pre></div></div></div></div></div></div></div></div></div></div>"
            ]
          },
          "metadata": {},
          "execution_count": 65
        }
      ],
      "source": [
        "from sklearn.model_selection import GridSearchCV\n",
        "from sklearn.neighbors import KNeighborsClassifier\n",
        "\n",
        "\n",
        "X_train, X_test, y_train, y_test = train_test_split(X, y, test_size=0.25, random_state=42)\n",
        "\n",
        "model = KNeighborsClassifier()\n",
        "\n",
        "params = {'n_neighbors' : np.arange(18, 20, 2),\n",
        "          'leaf_size': np.arange(2, 12, 2),\n",
        "          # 'algorithm': ['ball_tree'],\n",
        "          'weights' : ['distance', 'uniform'],\n",
        "          'p' : [1]}\n",
        "\n",
        "gs = GridSearchCV(model, params, scoring='average_precision', cv=3, n_jobs=-1, verbose=2)\n",
        "gs.fit(X_train, y_train)"
      ]
    },
    {
      "cell_type": "code",
      "execution_count": 56,
      "metadata": {
        "colab": {
          "base_uri": "https://localhost:8080/"
        },
        "id": "6JNrLhjzPxx1",
        "outputId": "520fca80-f925-4c79-80ce-089b76c15e7d"
      },
      "outputs": [
        {
          "output_type": "execute_result",
          "data": {
            "text/plain": [
              "(0.4867333087898548,\n",
              " {'leaf_size': 4, 'n_neighbors': 18, 'p': 1, 'weights': 'distance'})"
            ]
          },
          "metadata": {},
          "execution_count": 56
        }
      ],
      "source": [
        "gs.best_score_, gs.best_params_"
      ]
    },
    {
      "cell_type": "code",
      "execution_count": 57,
      "metadata": {
        "colab": {
          "base_uri": "https://localhost:8080/"
        },
        "id": "F3TI6bzlP-1O",
        "outputId": "1234fe0b-d7b7-4452-8ef6-a812be7553f5"
      },
      "outputs": [
        {
          "output_type": "execute_result",
          "data": {
            "text/plain": [
              "0.8566331495296788"
            ]
          },
          "metadata": {},
          "execution_count": 57
        }
      ],
      "source": [
        "pred = gs.best_estimator_.predict(X_test)\n",
        "\n",
        "accuracy_score(y_test, pred)"
      ]
    },
    {
      "cell_type": "code",
      "execution_count": 58,
      "metadata": {
        "colab": {
          "base_uri": "https://localhost:8080/"
        },
        "id": "PSdbE1J8QFms",
        "outputId": "815b0fad-5b1d-4fe0-e835-c7a246e3cee3"
      },
      "outputs": [
        {
          "output_type": "execute_result",
          "data": {
            "text/plain": [
              "array([[2574,   20],\n",
              "       [ 422,   67]])"
            ]
          },
          "metadata": {},
          "execution_count": 58
        }
      ],
      "source": [
        "confusion_matrix(y_test, pred)"
      ]
    },
    {
      "cell_type": "code",
      "source": [
        "print(classification_report(y_test, pred))"
      ],
      "metadata": {
        "colab": {
          "base_uri": "https://localhost:8080/"
        },
        "id": "JIK_jkzTyzlv",
        "outputId": "8ba8f357-b5fa-4542-8dc9-66f1ffbb5f0e"
      },
      "execution_count": 60,
      "outputs": [
        {
          "output_type": "stream",
          "name": "stdout",
          "text": [
            "              precision    recall  f1-score   support\n",
            "\n",
            "           0       0.86      0.99      0.92      2594\n",
            "           1       0.77      0.14      0.23       489\n",
            "\n",
            "    accuracy                           0.86      3083\n",
            "   macro avg       0.81      0.56      0.58      3083\n",
            "weighted avg       0.85      0.86      0.81      3083\n",
            "\n"
          ]
        }
      ]
    },
    {
      "cell_type": "markdown",
      "source": [
        "Сделаем маштабирование"
      ],
      "metadata": {
        "id": "93Jx5R7i2Gk9"
      }
    },
    {
      "cell_type": "code",
      "source": [
        "from sklearn.preprocessing import MinMaxScaler\n",
        "\n",
        "sc = MinMaxScaler()\n",
        "sc.fit(X_train)\n",
        "X_train_sc = sc.transform(X_train)\n",
        "X_test_sc = sc.transform(X_test)\n",
        "col = X_train.columns\n",
        "X_train = pd.DataFrame(X_train_sc, columns=col)\n",
        "X_test = pd.DataFrame(X_test_sc, columns=col)"
      ],
      "metadata": {
        "id": "jUPRL2Mu2PIR"
      },
      "execution_count": 66,
      "outputs": []
    },
    {
      "cell_type": "code",
      "source": [
        "model = KNeighborsClassifier()\n",
        "\n",
        "params = {'n_neighbors' : np.arange(18, 20, 2),\n",
        "          'leaf_size': np.arange(2, 12, 2),\n",
        "          # 'algorithm': ['ball_tree'],\n",
        "          'weights' : ['distance', 'uniform'],\n",
        "          'p' : [1]}\n",
        "\n",
        "gs = GridSearchCV(model, params, scoring='average_precision', cv=3, n_jobs=-1, verbose=2)\n",
        "gs.fit(X_train, y_train)"
      ],
      "metadata": {
        "colab": {
          "base_uri": "https://localhost:8080/",
          "height": 134
        },
        "id": "ABhQAcOc2ajw",
        "outputId": "3ecb5de2-f4ff-4563-ee42-25796302c309"
      },
      "execution_count": 89,
      "outputs": [
        {
          "output_type": "stream",
          "name": "stdout",
          "text": [
            "Fitting 3 folds for each of 10 candidates, totalling 30 fits\n"
          ]
        },
        {
          "output_type": "execute_result",
          "data": {
            "text/plain": [
              "GridSearchCV(cv=3, estimator=KNeighborsClassifier(), n_jobs=-1,\n",
              "             param_grid={'leaf_size': array([ 2,  4,  6,  8, 10]),\n",
              "                         'n_neighbors': array([18]), 'p': [1],\n",
              "                         'weights': ['distance', 'uniform']},\n",
              "             scoring='average_precision', verbose=2)"
            ],
            "text/html": [
              "<style>#sk-container-id-21 {color: black;background-color: white;}#sk-container-id-21 pre{padding: 0;}#sk-container-id-21 div.sk-toggleable {background-color: white;}#sk-container-id-21 label.sk-toggleable__label {cursor: pointer;display: block;width: 100%;margin-bottom: 0;padding: 0.3em;box-sizing: border-box;text-align: center;}#sk-container-id-21 label.sk-toggleable__label-arrow:before {content: \"▸\";float: left;margin-right: 0.25em;color: #696969;}#sk-container-id-21 label.sk-toggleable__label-arrow:hover:before {color: black;}#sk-container-id-21 div.sk-estimator:hover label.sk-toggleable__label-arrow:before {color: black;}#sk-container-id-21 div.sk-toggleable__content {max-height: 0;max-width: 0;overflow: hidden;text-align: left;background-color: #f0f8ff;}#sk-container-id-21 div.sk-toggleable__content pre {margin: 0.2em;color: black;border-radius: 0.25em;background-color: #f0f8ff;}#sk-container-id-21 input.sk-toggleable__control:checked~div.sk-toggleable__content {max-height: 200px;max-width: 100%;overflow: auto;}#sk-container-id-21 input.sk-toggleable__control:checked~label.sk-toggleable__label-arrow:before {content: \"▾\";}#sk-container-id-21 div.sk-estimator input.sk-toggleable__control:checked~label.sk-toggleable__label {background-color: #d4ebff;}#sk-container-id-21 div.sk-label input.sk-toggleable__control:checked~label.sk-toggleable__label {background-color: #d4ebff;}#sk-container-id-21 input.sk-hidden--visually {border: 0;clip: rect(1px 1px 1px 1px);clip: rect(1px, 1px, 1px, 1px);height: 1px;margin: -1px;overflow: hidden;padding: 0;position: absolute;width: 1px;}#sk-container-id-21 div.sk-estimator {font-family: monospace;background-color: #f0f8ff;border: 1px dotted black;border-radius: 0.25em;box-sizing: border-box;margin-bottom: 0.5em;}#sk-container-id-21 div.sk-estimator:hover {background-color: #d4ebff;}#sk-container-id-21 div.sk-parallel-item::after {content: \"\";width: 100%;border-bottom: 1px solid gray;flex-grow: 1;}#sk-container-id-21 div.sk-label:hover label.sk-toggleable__label {background-color: #d4ebff;}#sk-container-id-21 div.sk-serial::before {content: \"\";position: absolute;border-left: 1px solid gray;box-sizing: border-box;top: 0;bottom: 0;left: 50%;z-index: 0;}#sk-container-id-21 div.sk-serial {display: flex;flex-direction: column;align-items: center;background-color: white;padding-right: 0.2em;padding-left: 0.2em;position: relative;}#sk-container-id-21 div.sk-item {position: relative;z-index: 1;}#sk-container-id-21 div.sk-parallel {display: flex;align-items: stretch;justify-content: center;background-color: white;position: relative;}#sk-container-id-21 div.sk-item::before, #sk-container-id-21 div.sk-parallel-item::before {content: \"\";position: absolute;border-left: 1px solid gray;box-sizing: border-box;top: 0;bottom: 0;left: 50%;z-index: -1;}#sk-container-id-21 div.sk-parallel-item {display: flex;flex-direction: column;z-index: 1;position: relative;background-color: white;}#sk-container-id-21 div.sk-parallel-item:first-child::after {align-self: flex-end;width: 50%;}#sk-container-id-21 div.sk-parallel-item:last-child::after {align-self: flex-start;width: 50%;}#sk-container-id-21 div.sk-parallel-item:only-child::after {width: 0;}#sk-container-id-21 div.sk-dashed-wrapped {border: 1px dashed gray;margin: 0 0.4em 0.5em 0.4em;box-sizing: border-box;padding-bottom: 0.4em;background-color: white;}#sk-container-id-21 div.sk-label label {font-family: monospace;font-weight: bold;display: inline-block;line-height: 1.2em;}#sk-container-id-21 div.sk-label-container {text-align: center;}#sk-container-id-21 div.sk-container {/* jupyter's `normalize.less` sets `[hidden] { display: none; }` but bootstrap.min.css set `[hidden] { display: none !important; }` so we also need the `!important` here to be able to override the default hidden behavior on the sphinx rendered scikit-learn.org. See: https://github.com/scikit-learn/scikit-learn/issues/21755 */display: inline-block !important;position: relative;}#sk-container-id-21 div.sk-text-repr-fallback {display: none;}</style><div id=\"sk-container-id-21\" class=\"sk-top-container\"><div class=\"sk-text-repr-fallback\"><pre>GridSearchCV(cv=3, estimator=KNeighborsClassifier(), n_jobs=-1,\n",
              "             param_grid={&#x27;leaf_size&#x27;: array([ 2,  4,  6,  8, 10]),\n",
              "                         &#x27;n_neighbors&#x27;: array([18]), &#x27;p&#x27;: [1],\n",
              "                         &#x27;weights&#x27;: [&#x27;distance&#x27;, &#x27;uniform&#x27;]},\n",
              "             scoring=&#x27;average_precision&#x27;, verbose=2)</pre><b>In a Jupyter environment, please rerun this cell to show the HTML representation or trust the notebook. <br />On GitHub, the HTML representation is unable to render, please try loading this page with nbviewer.org.</b></div><div class=\"sk-container\" hidden><div class=\"sk-item sk-dashed-wrapped\"><div class=\"sk-label-container\"><div class=\"sk-label sk-toggleable\"><input class=\"sk-toggleable__control sk-hidden--visually\" id=\"sk-estimator-id-57\" type=\"checkbox\" ><label for=\"sk-estimator-id-57\" class=\"sk-toggleable__label sk-toggleable__label-arrow\">GridSearchCV</label><div class=\"sk-toggleable__content\"><pre>GridSearchCV(cv=3, estimator=KNeighborsClassifier(), n_jobs=-1,\n",
              "             param_grid={&#x27;leaf_size&#x27;: array([ 2,  4,  6,  8, 10]),\n",
              "                         &#x27;n_neighbors&#x27;: array([18]), &#x27;p&#x27;: [1],\n",
              "                         &#x27;weights&#x27;: [&#x27;distance&#x27;, &#x27;uniform&#x27;]},\n",
              "             scoring=&#x27;average_precision&#x27;, verbose=2)</pre></div></div></div><div class=\"sk-parallel\"><div class=\"sk-parallel-item\"><div class=\"sk-item\"><div class=\"sk-label-container\"><div class=\"sk-label sk-toggleable\"><input class=\"sk-toggleable__control sk-hidden--visually\" id=\"sk-estimator-id-58\" type=\"checkbox\" ><label for=\"sk-estimator-id-58\" class=\"sk-toggleable__label sk-toggleable__label-arrow\">estimator: KNeighborsClassifier</label><div class=\"sk-toggleable__content\"><pre>KNeighborsClassifier()</pre></div></div></div><div class=\"sk-serial\"><div class=\"sk-item\"><div class=\"sk-estimator sk-toggleable\"><input class=\"sk-toggleable__control sk-hidden--visually\" id=\"sk-estimator-id-59\" type=\"checkbox\" ><label for=\"sk-estimator-id-59\" class=\"sk-toggleable__label sk-toggleable__label-arrow\">KNeighborsClassifier</label><div class=\"sk-toggleable__content\"><pre>KNeighborsClassifier()</pre></div></div></div></div></div></div></div></div></div></div>"
            ]
          },
          "metadata": {},
          "execution_count": 89
        }
      ]
    },
    {
      "cell_type": "code",
      "execution_count": 90,
      "metadata": {
        "colab": {
          "base_uri": "https://localhost:8080/"
        },
        "outputId": "756032b6-2391-4f10-a423-668b8e0f220f",
        "id": "mHh-8GMI2epW"
      },
      "outputs": [
        {
          "output_type": "execute_result",
          "data": {
            "text/plain": [
              "(0.5252916547171765,\n",
              " {'leaf_size': 2, 'n_neighbors': 18, 'p': 1, 'weights': 'distance'})"
            ]
          },
          "metadata": {},
          "execution_count": 90
        }
      ],
      "source": [
        "gs.best_score_, gs.best_params_"
      ]
    },
    {
      "cell_type": "code",
      "execution_count": 91,
      "metadata": {
        "colab": {
          "base_uri": "https://localhost:8080/"
        },
        "outputId": "91f3c3a9-fa72-456f-c57b-d243572e1bfc",
        "id": "BSniDBxC2epY"
      },
      "outputs": [
        {
          "output_type": "execute_result",
          "data": {
            "text/plain": [
              "0.8611741809925397"
            ]
          },
          "metadata": {},
          "execution_count": 91
        }
      ],
      "source": [
        "pred = gs.best_estimator_.predict(X_test)\n",
        "\n",
        "accuracy_score(y_test, pred)"
      ]
    },
    {
      "cell_type": "code",
      "execution_count": 92,
      "metadata": {
        "colab": {
          "base_uri": "https://localhost:8080/"
        },
        "outputId": "c649cec9-b06b-4a7b-f45b-a8094bd243db",
        "id": "6NSUjrSq2epZ"
      },
      "outputs": [
        {
          "output_type": "execute_result",
          "data": {
            "text/plain": [
              "array([[2579,   15],\n",
              "       [ 413,   76]])"
            ]
          },
          "metadata": {},
          "execution_count": 92
        }
      ],
      "source": [
        "confusion_matrix(y_test, pred)"
      ]
    },
    {
      "cell_type": "code",
      "source": [
        "print(classification_report(y_test, pred))"
      ],
      "metadata": {
        "colab": {
          "base_uri": "https://localhost:8080/"
        },
        "outputId": "ced024cf-c426-45ec-ef48-893d4292cb4f",
        "id": "rpiZhueM2epZ"
      },
      "execution_count": 93,
      "outputs": [
        {
          "output_type": "stream",
          "name": "stdout",
          "text": [
            "              precision    recall  f1-score   support\n",
            "\n",
            "           0       0.86      0.99      0.92      2594\n",
            "           1       0.84      0.16      0.26       489\n",
            "\n",
            "    accuracy                           0.86      3083\n",
            "   macro avg       0.85      0.57      0.59      3083\n",
            "weighted avg       0.86      0.86      0.82      3083\n",
            "\n"
          ]
        }
      ]
    },
    {
      "cell_type": "markdown",
      "source": [
        "Произошло увеличение precision при одновременном снижении recall, модель плохо работает в положительными классами"
      ],
      "metadata": {
        "id": "XweXy-wZ3Saq"
      }
    },
    {
      "cell_type": "markdown",
      "source": [
        "# Добавим категориальные данные"
      ],
      "metadata": {
        "id": "Z5_fqGCr-Crk"
      }
    },
    {
      "cell_type": "code",
      "execution_count": 167,
      "metadata": {
        "id": "7yhGCYMKlEvj"
      },
      "outputs": [],
      "source": [
        "X_full = df.drop('Revenue', axis=1)\n",
        "\n",
        "X_train_full, X_test_full, y_train_full, y_test_full = train_test_split(X_full, y, test_size=0.25, random_state=42)"
      ]
    },
    {
      "cell_type": "code",
      "execution_count": 168,
      "metadata": {
        "colab": {
          "base_uri": "https://localhost:8080/"
        },
        "id": "-XCmBxBb3nIi",
        "outputId": "0554a64d-7316-407b-dc5a-a8e8a7bbb157"
      },
      "outputs": [
        {
          "output_type": "execute_result",
          "data": {
            "text/plain": [
              "Administrative               int64\n",
              "Administrative_Duration    float64\n",
              "Informational                int64\n",
              "Informational_Duration     float64\n",
              "ProductRelated               int64\n",
              "ProductRelated_Duration    float64\n",
              "BounceRates                float64\n",
              "ExitRates                  float64\n",
              "PageValues                 float64\n",
              "SpecialDay                 float64\n",
              "Month                       object\n",
              "OperatingSystems             int64\n",
              "Browser                      int64\n",
              "Region                       int64\n",
              "TrafficType                  int64\n",
              "VisitorType                 object\n",
              "Weekend                       bool\n",
              "dtype: object"
            ]
          },
          "metadata": {},
          "execution_count": 168
        }
      ],
      "source": [
        "X_train_full.dtypes"
      ]
    },
    {
      "cell_type": "code",
      "source": [
        "from sklearn.preprocessing import OneHotEncoder, MinMaxScaler\n",
        "from sklearn.compose import ColumnTransformer\n",
        "\n",
        "\n",
        "categorical = df.select_dtypes(include=['object']).columns\n",
        "numeric_features = df.select_dtypes(include=['float', 'int']).columns\n",
        "\n",
        "\n",
        "ct = ColumnTransformer([\n",
        "    ('ohe', OneHotEncoder(handle_unknown=\"ignore\"), categorical),\n",
        "    ('scaling', MinMaxScaler(), numeric_features)\n",
        "])\n",
        "\n",
        "X_train_transformed = ct.fit_transform(X_train_full)\n",
        "X_test_transformed = ct.transform(X_test_full)"
      ],
      "metadata": {
        "id": "skNQxlr2-2qV"
      },
      "execution_count": 206,
      "outputs": []
    },
    {
      "cell_type": "code",
      "source": [
        "new_features = list(ct.named_transformers_['ohe'].get_feature_names_out())\n",
        "new_features.extend(numeric_features)\n",
        "\n",
        "new_features"
      ],
      "metadata": {
        "colab": {
          "base_uri": "https://localhost:8080/"
        },
        "id": "l4GFAS1CI7Ae",
        "outputId": "5bc2d93a-ca1a-4e21-beaf-e99335a7c76e"
      },
      "execution_count": 207,
      "outputs": [
        {
          "output_type": "execute_result",
          "data": {
            "text/plain": [
              "['Month_Aug',\n",
              " 'Month_Dec',\n",
              " 'Month_Feb',\n",
              " 'Month_Jul',\n",
              " 'Month_June',\n",
              " 'Month_Mar',\n",
              " 'Month_May',\n",
              " 'Month_Nov',\n",
              " 'Month_Oct',\n",
              " 'Month_Sep',\n",
              " 'Month_aug',\n",
              " 'VisitorType_New_Visitor',\n",
              " 'VisitorType_Other',\n",
              " 'VisitorType_Returning_Visitor',\n",
              " 'Administrative',\n",
              " 'Administrative_Duration',\n",
              " 'Informational',\n",
              " 'Informational_Duration',\n",
              " 'ProductRelated',\n",
              " 'ProductRelated_Duration',\n",
              " 'BounceRates',\n",
              " 'ExitRates',\n",
              " 'PageValues',\n",
              " 'SpecialDay',\n",
              " 'OperatingSystems',\n",
              " 'Browser',\n",
              " 'Region',\n",
              " 'TrafficType']"
            ]
          },
          "metadata": {},
          "execution_count": 207
        }
      ]
    },
    {
      "cell_type": "code",
      "source": [
        "X_train_transformed = pd.DataFrame(X_train_transformed, columns=new_features)\n",
        "X_test_transformed = pd.DataFrame(X_test_transformed, columns=new_features)\n",
        "\n",
        "X_train_transformed.head()"
      ],
      "metadata": {
        "colab": {
          "base_uri": "https://localhost:8080/",
          "height": 255
        },
        "id": "u-qVIW8MJRsf",
        "outputId": "2341caaa-c725-4d6c-ab93-f72ddfbc5237"
      },
      "execution_count": 208,
      "outputs": [
        {
          "output_type": "execute_result",
          "data": {
            "text/plain": [
              "   Month_Aug  Month_Dec  Month_Feb  Month_Jul  Month_June  Month_Mar  \\\n",
              "0        0.0        1.0        0.0        0.0         0.0        0.0   \n",
              "1        0.0        0.0        0.0        0.0         0.0        0.0   \n",
              "2        0.0        0.0        0.0        0.0         0.0        0.0   \n",
              "3        0.0        0.0        0.0        0.0         0.0        0.0   \n",
              "4        0.0        0.0        0.0        0.0         0.0        0.0   \n",
              "\n",
              "   Month_May  Month_Nov  Month_Oct  Month_Sep  ...  ProductRelated  \\\n",
              "0        0.0        0.0        0.0        0.0  ...        0.048227   \n",
              "1        0.0        1.0        0.0        0.0  ...        0.005674   \n",
              "2        1.0        0.0        0.0        0.0  ...        0.002837   \n",
              "3        0.0        1.0        0.0        0.0  ...        0.024113   \n",
              "4        0.0        1.0        0.0        0.0  ...        0.015603   \n",
              "\n",
              "   ProductRelated_Duration  BounceRates  ExitRates  PageValues  SpecialDay  \\\n",
              "0                 0.013857     0.000000   0.025641    0.215062         0.0   \n",
              "1                 0.000838     0.000000   0.250000    0.000000         0.0   \n",
              "2                 0.001891     0.000000   0.250000    0.000000         0.0   \n",
              "3                 0.002981     0.111111   0.196296    0.000000         0.0   \n",
              "4                 0.002290     0.090909   0.090909    0.000000         0.0   \n",
              "\n",
              "   OperatingSystems   Browser  Region  TrafficType  \n",
              "0          0.142857  0.083333     0.0     0.052632  \n",
              "1          0.285714  0.083333     0.0     0.526316  \n",
              "2          0.285714  0.083333     0.0     0.105263  \n",
              "3          0.285714  0.083333     0.0     0.631579  \n",
              "4          0.000000  0.000000     0.0     0.052632  \n",
              "\n",
              "[5 rows x 28 columns]"
            ],
            "text/html": [
              "\n",
              "  <div id=\"df-803890f8-7887-4788-bf16-a162e7087106\" class=\"colab-df-container\">\n",
              "    <div>\n",
              "<style scoped>\n",
              "    .dataframe tbody tr th:only-of-type {\n",
              "        vertical-align: middle;\n",
              "    }\n",
              "\n",
              "    .dataframe tbody tr th {\n",
              "        vertical-align: top;\n",
              "    }\n",
              "\n",
              "    .dataframe thead th {\n",
              "        text-align: right;\n",
              "    }\n",
              "</style>\n",
              "<table border=\"1\" class=\"dataframe\">\n",
              "  <thead>\n",
              "    <tr style=\"text-align: right;\">\n",
              "      <th></th>\n",
              "      <th>Month_Aug</th>\n",
              "      <th>Month_Dec</th>\n",
              "      <th>Month_Feb</th>\n",
              "      <th>Month_Jul</th>\n",
              "      <th>Month_June</th>\n",
              "      <th>Month_Mar</th>\n",
              "      <th>Month_May</th>\n",
              "      <th>Month_Nov</th>\n",
              "      <th>Month_Oct</th>\n",
              "      <th>Month_Sep</th>\n",
              "      <th>...</th>\n",
              "      <th>ProductRelated</th>\n",
              "      <th>ProductRelated_Duration</th>\n",
              "      <th>BounceRates</th>\n",
              "      <th>ExitRates</th>\n",
              "      <th>PageValues</th>\n",
              "      <th>SpecialDay</th>\n",
              "      <th>OperatingSystems</th>\n",
              "      <th>Browser</th>\n",
              "      <th>Region</th>\n",
              "      <th>TrafficType</th>\n",
              "    </tr>\n",
              "  </thead>\n",
              "  <tbody>\n",
              "    <tr>\n",
              "      <th>0</th>\n",
              "      <td>0.0</td>\n",
              "      <td>1.0</td>\n",
              "      <td>0.0</td>\n",
              "      <td>0.0</td>\n",
              "      <td>0.0</td>\n",
              "      <td>0.0</td>\n",
              "      <td>0.0</td>\n",
              "      <td>0.0</td>\n",
              "      <td>0.0</td>\n",
              "      <td>0.0</td>\n",
              "      <td>...</td>\n",
              "      <td>0.048227</td>\n",
              "      <td>0.013857</td>\n",
              "      <td>0.000000</td>\n",
              "      <td>0.025641</td>\n",
              "      <td>0.215062</td>\n",
              "      <td>0.0</td>\n",
              "      <td>0.142857</td>\n",
              "      <td>0.083333</td>\n",
              "      <td>0.0</td>\n",
              "      <td>0.052632</td>\n",
              "    </tr>\n",
              "    <tr>\n",
              "      <th>1</th>\n",
              "      <td>0.0</td>\n",
              "      <td>0.0</td>\n",
              "      <td>0.0</td>\n",
              "      <td>0.0</td>\n",
              "      <td>0.0</td>\n",
              "      <td>0.0</td>\n",
              "      <td>0.0</td>\n",
              "      <td>1.0</td>\n",
              "      <td>0.0</td>\n",
              "      <td>0.0</td>\n",
              "      <td>...</td>\n",
              "      <td>0.005674</td>\n",
              "      <td>0.000838</td>\n",
              "      <td>0.000000</td>\n",
              "      <td>0.250000</td>\n",
              "      <td>0.000000</td>\n",
              "      <td>0.0</td>\n",
              "      <td>0.285714</td>\n",
              "      <td>0.083333</td>\n",
              "      <td>0.0</td>\n",
              "      <td>0.526316</td>\n",
              "    </tr>\n",
              "    <tr>\n",
              "      <th>2</th>\n",
              "      <td>0.0</td>\n",
              "      <td>0.0</td>\n",
              "      <td>0.0</td>\n",
              "      <td>0.0</td>\n",
              "      <td>0.0</td>\n",
              "      <td>0.0</td>\n",
              "      <td>1.0</td>\n",
              "      <td>0.0</td>\n",
              "      <td>0.0</td>\n",
              "      <td>0.0</td>\n",
              "      <td>...</td>\n",
              "      <td>0.002837</td>\n",
              "      <td>0.001891</td>\n",
              "      <td>0.000000</td>\n",
              "      <td>0.250000</td>\n",
              "      <td>0.000000</td>\n",
              "      <td>0.0</td>\n",
              "      <td>0.285714</td>\n",
              "      <td>0.083333</td>\n",
              "      <td>0.0</td>\n",
              "      <td>0.105263</td>\n",
              "    </tr>\n",
              "    <tr>\n",
              "      <th>3</th>\n",
              "      <td>0.0</td>\n",
              "      <td>0.0</td>\n",
              "      <td>0.0</td>\n",
              "      <td>0.0</td>\n",
              "      <td>0.0</td>\n",
              "      <td>0.0</td>\n",
              "      <td>0.0</td>\n",
              "      <td>1.0</td>\n",
              "      <td>0.0</td>\n",
              "      <td>0.0</td>\n",
              "      <td>...</td>\n",
              "      <td>0.024113</td>\n",
              "      <td>0.002981</td>\n",
              "      <td>0.111111</td>\n",
              "      <td>0.196296</td>\n",
              "      <td>0.000000</td>\n",
              "      <td>0.0</td>\n",
              "      <td>0.285714</td>\n",
              "      <td>0.083333</td>\n",
              "      <td>0.0</td>\n",
              "      <td>0.631579</td>\n",
              "    </tr>\n",
              "    <tr>\n",
              "      <th>4</th>\n",
              "      <td>0.0</td>\n",
              "      <td>0.0</td>\n",
              "      <td>0.0</td>\n",
              "      <td>0.0</td>\n",
              "      <td>0.0</td>\n",
              "      <td>0.0</td>\n",
              "      <td>0.0</td>\n",
              "      <td>1.0</td>\n",
              "      <td>0.0</td>\n",
              "      <td>0.0</td>\n",
              "      <td>...</td>\n",
              "      <td>0.015603</td>\n",
              "      <td>0.002290</td>\n",
              "      <td>0.090909</td>\n",
              "      <td>0.090909</td>\n",
              "      <td>0.000000</td>\n",
              "      <td>0.0</td>\n",
              "      <td>0.000000</td>\n",
              "      <td>0.000000</td>\n",
              "      <td>0.0</td>\n",
              "      <td>0.052632</td>\n",
              "    </tr>\n",
              "  </tbody>\n",
              "</table>\n",
              "<p>5 rows × 28 columns</p>\n",
              "</div>\n",
              "    <div class=\"colab-df-buttons\">\n",
              "\n",
              "  <div class=\"colab-df-container\">\n",
              "    <button class=\"colab-df-convert\" onclick=\"convertToInteractive('df-803890f8-7887-4788-bf16-a162e7087106')\"\n",
              "            title=\"Convert this dataframe to an interactive table.\"\n",
              "            style=\"display:none;\">\n",
              "\n",
              "  <svg xmlns=\"http://www.w3.org/2000/svg\" height=\"24px\" viewBox=\"0 -960 960 960\">\n",
              "    <path d=\"M120-120v-720h720v720H120Zm60-500h600v-160H180v160Zm220 220h160v-160H400v160Zm0 220h160v-160H400v160ZM180-400h160v-160H180v160Zm440 0h160v-160H620v160ZM180-180h160v-160H180v160Zm440 0h160v-160H620v160Z\"/>\n",
              "  </svg>\n",
              "    </button>\n",
              "\n",
              "  <style>\n",
              "    .colab-df-container {\n",
              "      display:flex;\n",
              "      gap: 12px;\n",
              "    }\n",
              "\n",
              "    .colab-df-convert {\n",
              "      background-color: #E8F0FE;\n",
              "      border: none;\n",
              "      border-radius: 50%;\n",
              "      cursor: pointer;\n",
              "      display: none;\n",
              "      fill: #1967D2;\n",
              "      height: 32px;\n",
              "      padding: 0 0 0 0;\n",
              "      width: 32px;\n",
              "    }\n",
              "\n",
              "    .colab-df-convert:hover {\n",
              "      background-color: #E2EBFA;\n",
              "      box-shadow: 0px 1px 2px rgba(60, 64, 67, 0.3), 0px 1px 3px 1px rgba(60, 64, 67, 0.15);\n",
              "      fill: #174EA6;\n",
              "    }\n",
              "\n",
              "    .colab-df-buttons div {\n",
              "      margin-bottom: 4px;\n",
              "    }\n",
              "\n",
              "    [theme=dark] .colab-df-convert {\n",
              "      background-color: #3B4455;\n",
              "      fill: #D2E3FC;\n",
              "    }\n",
              "\n",
              "    [theme=dark] .colab-df-convert:hover {\n",
              "      background-color: #434B5C;\n",
              "      box-shadow: 0px 1px 3px 1px rgba(0, 0, 0, 0.15);\n",
              "      filter: drop-shadow(0px 1px 2px rgba(0, 0, 0, 0.3));\n",
              "      fill: #FFFFFF;\n",
              "    }\n",
              "  </style>\n",
              "\n",
              "    <script>\n",
              "      const buttonEl =\n",
              "        document.querySelector('#df-803890f8-7887-4788-bf16-a162e7087106 button.colab-df-convert');\n",
              "      buttonEl.style.display =\n",
              "        google.colab.kernel.accessAllowed ? 'block' : 'none';\n",
              "\n",
              "      async function convertToInteractive(key) {\n",
              "        const element = document.querySelector('#df-803890f8-7887-4788-bf16-a162e7087106');\n",
              "        const dataTable =\n",
              "          await google.colab.kernel.invokeFunction('convertToInteractive',\n",
              "                                                    [key], {});\n",
              "        if (!dataTable) return;\n",
              "\n",
              "        const docLinkHtml = 'Like what you see? Visit the ' +\n",
              "          '<a target=\"_blank\" href=https://colab.research.google.com/notebooks/data_table.ipynb>data table notebook</a>'\n",
              "          + ' to learn more about interactive tables.';\n",
              "        element.innerHTML = '';\n",
              "        dataTable['output_type'] = 'display_data';\n",
              "        await google.colab.output.renderOutput(dataTable, element);\n",
              "        const docLink = document.createElement('div');\n",
              "        docLink.innerHTML = docLinkHtml;\n",
              "        element.appendChild(docLink);\n",
              "      }\n",
              "    </script>\n",
              "  </div>\n",
              "\n",
              "\n",
              "<div id=\"df-7ac6f3a5-d547-4a3b-8603-a2b5a7fc0fa6\">\n",
              "  <button class=\"colab-df-quickchart\" onclick=\"quickchart('df-7ac6f3a5-d547-4a3b-8603-a2b5a7fc0fa6')\"\n",
              "            title=\"Suggest charts\"\n",
              "            style=\"display:none;\">\n",
              "\n",
              "<svg xmlns=\"http://www.w3.org/2000/svg\" height=\"24px\"viewBox=\"0 0 24 24\"\n",
              "     width=\"24px\">\n",
              "    <g>\n",
              "        <path d=\"M19 3H5c-1.1 0-2 .9-2 2v14c0 1.1.9 2 2 2h14c1.1 0 2-.9 2-2V5c0-1.1-.9-2-2-2zM9 17H7v-7h2v7zm4 0h-2V7h2v10zm4 0h-2v-4h2v4z\"/>\n",
              "    </g>\n",
              "</svg>\n",
              "  </button>\n",
              "\n",
              "<style>\n",
              "  .colab-df-quickchart {\n",
              "      --bg-color: #E8F0FE;\n",
              "      --fill-color: #1967D2;\n",
              "      --hover-bg-color: #E2EBFA;\n",
              "      --hover-fill-color: #174EA6;\n",
              "      --disabled-fill-color: #AAA;\n",
              "      --disabled-bg-color: #DDD;\n",
              "  }\n",
              "\n",
              "  [theme=dark] .colab-df-quickchart {\n",
              "      --bg-color: #3B4455;\n",
              "      --fill-color: #D2E3FC;\n",
              "      --hover-bg-color: #434B5C;\n",
              "      --hover-fill-color: #FFFFFF;\n",
              "      --disabled-bg-color: #3B4455;\n",
              "      --disabled-fill-color: #666;\n",
              "  }\n",
              "\n",
              "  .colab-df-quickchart {\n",
              "    background-color: var(--bg-color);\n",
              "    border: none;\n",
              "    border-radius: 50%;\n",
              "    cursor: pointer;\n",
              "    display: none;\n",
              "    fill: var(--fill-color);\n",
              "    height: 32px;\n",
              "    padding: 0;\n",
              "    width: 32px;\n",
              "  }\n",
              "\n",
              "  .colab-df-quickchart:hover {\n",
              "    background-color: var(--hover-bg-color);\n",
              "    box-shadow: 0 1px 2px rgba(60, 64, 67, 0.3), 0 1px 3px 1px rgba(60, 64, 67, 0.15);\n",
              "    fill: var(--button-hover-fill-color);\n",
              "  }\n",
              "\n",
              "  .colab-df-quickchart-complete:disabled,\n",
              "  .colab-df-quickchart-complete:disabled:hover {\n",
              "    background-color: var(--disabled-bg-color);\n",
              "    fill: var(--disabled-fill-color);\n",
              "    box-shadow: none;\n",
              "  }\n",
              "\n",
              "  .colab-df-spinner {\n",
              "    border: 2px solid var(--fill-color);\n",
              "    border-color: transparent;\n",
              "    border-bottom-color: var(--fill-color);\n",
              "    animation:\n",
              "      spin 1s steps(1) infinite;\n",
              "  }\n",
              "\n",
              "  @keyframes spin {\n",
              "    0% {\n",
              "      border-color: transparent;\n",
              "      border-bottom-color: var(--fill-color);\n",
              "      border-left-color: var(--fill-color);\n",
              "    }\n",
              "    20% {\n",
              "      border-color: transparent;\n",
              "      border-left-color: var(--fill-color);\n",
              "      border-top-color: var(--fill-color);\n",
              "    }\n",
              "    30% {\n",
              "      border-color: transparent;\n",
              "      border-left-color: var(--fill-color);\n",
              "      border-top-color: var(--fill-color);\n",
              "      border-right-color: var(--fill-color);\n",
              "    }\n",
              "    40% {\n",
              "      border-color: transparent;\n",
              "      border-right-color: var(--fill-color);\n",
              "      border-top-color: var(--fill-color);\n",
              "    }\n",
              "    60% {\n",
              "      border-color: transparent;\n",
              "      border-right-color: var(--fill-color);\n",
              "    }\n",
              "    80% {\n",
              "      border-color: transparent;\n",
              "      border-right-color: var(--fill-color);\n",
              "      border-bottom-color: var(--fill-color);\n",
              "    }\n",
              "    90% {\n",
              "      border-color: transparent;\n",
              "      border-bottom-color: var(--fill-color);\n",
              "    }\n",
              "  }\n",
              "</style>\n",
              "\n",
              "  <script>\n",
              "    async function quickchart(key) {\n",
              "      const quickchartButtonEl =\n",
              "        document.querySelector('#' + key + ' button');\n",
              "      quickchartButtonEl.disabled = true;  // To prevent multiple clicks.\n",
              "      quickchartButtonEl.classList.add('colab-df-spinner');\n",
              "      try {\n",
              "        const charts = await google.colab.kernel.invokeFunction(\n",
              "            'suggestCharts', [key], {});\n",
              "      } catch (error) {\n",
              "        console.error('Error during call to suggestCharts:', error);\n",
              "      }\n",
              "      quickchartButtonEl.classList.remove('colab-df-spinner');\n",
              "      quickchartButtonEl.classList.add('colab-df-quickchart-complete');\n",
              "    }\n",
              "    (() => {\n",
              "      let quickchartButtonEl =\n",
              "        document.querySelector('#df-7ac6f3a5-d547-4a3b-8603-a2b5a7fc0fa6 button');\n",
              "      quickchartButtonEl.style.display =\n",
              "        google.colab.kernel.accessAllowed ? 'block' : 'none';\n",
              "    })();\n",
              "  </script>\n",
              "</div>\n",
              "    </div>\n",
              "  </div>\n"
            ],
            "application/vnd.google.colaboratory.intrinsic+json": {
              "type": "dataframe",
              "variable_name": "X_train_transformed"
            }
          },
          "metadata": {},
          "execution_count": 208
        }
      ]
    },
    {
      "cell_type": "code",
      "source": [
        "from sklearn.pipeline import Pipeline\n",
        "from sklearn.preprocessing import PolynomialFeatures\n",
        "\n",
        "pipe = Pipeline([\n",
        "    ('transformer', ct), # преобразование данных\n",
        "    # ('poly', PolynomialFeatures(degree=3),) # добавление полиномиальных признаков,\n",
        "    # ('selector', SelectKBest()), # оставляем самые важные признаки,\n",
        "    ('model', KNeighborsClassifier()) # обучение модели\n",
        "    ])\n",
        "\n",
        "pipe.fit(X_train_full, y_train_full)\n",
        "\n",
        "pred_pipe = pipe.predict(X_test_full)"
      ],
      "metadata": {
        "colab": {
          "base_uri": "https://localhost:8080/",
          "height": 190
        },
        "id": "S-s1e63a-CTq",
        "outputId": "f57a4a9b-8d38-48f2-ef31-b4246d0d23bc"
      },
      "execution_count": 209,
      "outputs": [
        {
          "output_type": "execute_result",
          "data": {
            "text/plain": [
              "Pipeline(steps=[('transformer',\n",
              "                 ColumnTransformer(transformers=[('ohe',\n",
              "                                                  OneHotEncoder(handle_unknown='ignore'),\n",
              "                                                  Index(['Month', 'VisitorType'], dtype='object')),\n",
              "                                                 ('scaling', MinMaxScaler(),\n",
              "                                                  Index(['Administrative', 'Administrative_Duration', 'Informational',\n",
              "       'Informational_Duration', 'ProductRelated', 'ProductRelated_Duration',\n",
              "       'BounceRates', 'ExitRates', 'PageValues', 'SpecialDay',\n",
              "       'OperatingSystems', 'Browser', 'Region', 'TrafficType'],\n",
              "      dtype='object'))])),\n",
              "                ('model', KNeighborsClassifier())])"
            ],
            "text/html": [
              "<style>#sk-container-id-36 {color: black;background-color: white;}#sk-container-id-36 pre{padding: 0;}#sk-container-id-36 div.sk-toggleable {background-color: white;}#sk-container-id-36 label.sk-toggleable__label {cursor: pointer;display: block;width: 100%;margin-bottom: 0;padding: 0.3em;box-sizing: border-box;text-align: center;}#sk-container-id-36 label.sk-toggleable__label-arrow:before {content: \"▸\";float: left;margin-right: 0.25em;color: #696969;}#sk-container-id-36 label.sk-toggleable__label-arrow:hover:before {color: black;}#sk-container-id-36 div.sk-estimator:hover label.sk-toggleable__label-arrow:before {color: black;}#sk-container-id-36 div.sk-toggleable__content {max-height: 0;max-width: 0;overflow: hidden;text-align: left;background-color: #f0f8ff;}#sk-container-id-36 div.sk-toggleable__content pre {margin: 0.2em;color: black;border-radius: 0.25em;background-color: #f0f8ff;}#sk-container-id-36 input.sk-toggleable__control:checked~div.sk-toggleable__content {max-height: 200px;max-width: 100%;overflow: auto;}#sk-container-id-36 input.sk-toggleable__control:checked~label.sk-toggleable__label-arrow:before {content: \"▾\";}#sk-container-id-36 div.sk-estimator input.sk-toggleable__control:checked~label.sk-toggleable__label {background-color: #d4ebff;}#sk-container-id-36 div.sk-label input.sk-toggleable__control:checked~label.sk-toggleable__label {background-color: #d4ebff;}#sk-container-id-36 input.sk-hidden--visually {border: 0;clip: rect(1px 1px 1px 1px);clip: rect(1px, 1px, 1px, 1px);height: 1px;margin: -1px;overflow: hidden;padding: 0;position: absolute;width: 1px;}#sk-container-id-36 div.sk-estimator {font-family: monospace;background-color: #f0f8ff;border: 1px dotted black;border-radius: 0.25em;box-sizing: border-box;margin-bottom: 0.5em;}#sk-container-id-36 div.sk-estimator:hover {background-color: #d4ebff;}#sk-container-id-36 div.sk-parallel-item::after {content: \"\";width: 100%;border-bottom: 1px solid gray;flex-grow: 1;}#sk-container-id-36 div.sk-label:hover label.sk-toggleable__label {background-color: #d4ebff;}#sk-container-id-36 div.sk-serial::before {content: \"\";position: absolute;border-left: 1px solid gray;box-sizing: border-box;top: 0;bottom: 0;left: 50%;z-index: 0;}#sk-container-id-36 div.sk-serial {display: flex;flex-direction: column;align-items: center;background-color: white;padding-right: 0.2em;padding-left: 0.2em;position: relative;}#sk-container-id-36 div.sk-item {position: relative;z-index: 1;}#sk-container-id-36 div.sk-parallel {display: flex;align-items: stretch;justify-content: center;background-color: white;position: relative;}#sk-container-id-36 div.sk-item::before, #sk-container-id-36 div.sk-parallel-item::before {content: \"\";position: absolute;border-left: 1px solid gray;box-sizing: border-box;top: 0;bottom: 0;left: 50%;z-index: -1;}#sk-container-id-36 div.sk-parallel-item {display: flex;flex-direction: column;z-index: 1;position: relative;background-color: white;}#sk-container-id-36 div.sk-parallel-item:first-child::after {align-self: flex-end;width: 50%;}#sk-container-id-36 div.sk-parallel-item:last-child::after {align-self: flex-start;width: 50%;}#sk-container-id-36 div.sk-parallel-item:only-child::after {width: 0;}#sk-container-id-36 div.sk-dashed-wrapped {border: 1px dashed gray;margin: 0 0.4em 0.5em 0.4em;box-sizing: border-box;padding-bottom: 0.4em;background-color: white;}#sk-container-id-36 div.sk-label label {font-family: monospace;font-weight: bold;display: inline-block;line-height: 1.2em;}#sk-container-id-36 div.sk-label-container {text-align: center;}#sk-container-id-36 div.sk-container {/* jupyter's `normalize.less` sets `[hidden] { display: none; }` but bootstrap.min.css set `[hidden] { display: none !important; }` so we also need the `!important` here to be able to override the default hidden behavior on the sphinx rendered scikit-learn.org. See: https://github.com/scikit-learn/scikit-learn/issues/21755 */display: inline-block !important;position: relative;}#sk-container-id-36 div.sk-text-repr-fallback {display: none;}</style><div id=\"sk-container-id-36\" class=\"sk-top-container\"><div class=\"sk-text-repr-fallback\"><pre>Pipeline(steps=[(&#x27;transformer&#x27;,\n",
              "                 ColumnTransformer(transformers=[(&#x27;ohe&#x27;,\n",
              "                                                  OneHotEncoder(handle_unknown=&#x27;ignore&#x27;),\n",
              "                                                  Index([&#x27;Month&#x27;, &#x27;VisitorType&#x27;], dtype=&#x27;object&#x27;)),\n",
              "                                                 (&#x27;scaling&#x27;, MinMaxScaler(),\n",
              "                                                  Index([&#x27;Administrative&#x27;, &#x27;Administrative_Duration&#x27;, &#x27;Informational&#x27;,\n",
              "       &#x27;Informational_Duration&#x27;, &#x27;ProductRelated&#x27;, &#x27;ProductRelated_Duration&#x27;,\n",
              "       &#x27;BounceRates&#x27;, &#x27;ExitRates&#x27;, &#x27;PageValues&#x27;, &#x27;SpecialDay&#x27;,\n",
              "       &#x27;OperatingSystems&#x27;, &#x27;Browser&#x27;, &#x27;Region&#x27;, &#x27;TrafficType&#x27;],\n",
              "      dtype=&#x27;object&#x27;))])),\n",
              "                (&#x27;model&#x27;, KNeighborsClassifier())])</pre><b>In a Jupyter environment, please rerun this cell to show the HTML representation or trust the notebook. <br />On GitHub, the HTML representation is unable to render, please try loading this page with nbviewer.org.</b></div><div class=\"sk-container\" hidden><div class=\"sk-item sk-dashed-wrapped\"><div class=\"sk-label-container\"><div class=\"sk-label sk-toggleable\"><input class=\"sk-toggleable__control sk-hidden--visually\" id=\"sk-estimator-id-164\" type=\"checkbox\" ><label for=\"sk-estimator-id-164\" class=\"sk-toggleable__label sk-toggleable__label-arrow\">Pipeline</label><div class=\"sk-toggleable__content\"><pre>Pipeline(steps=[(&#x27;transformer&#x27;,\n",
              "                 ColumnTransformer(transformers=[(&#x27;ohe&#x27;,\n",
              "                                                  OneHotEncoder(handle_unknown=&#x27;ignore&#x27;),\n",
              "                                                  Index([&#x27;Month&#x27;, &#x27;VisitorType&#x27;], dtype=&#x27;object&#x27;)),\n",
              "                                                 (&#x27;scaling&#x27;, MinMaxScaler(),\n",
              "                                                  Index([&#x27;Administrative&#x27;, &#x27;Administrative_Duration&#x27;, &#x27;Informational&#x27;,\n",
              "       &#x27;Informational_Duration&#x27;, &#x27;ProductRelated&#x27;, &#x27;ProductRelated_Duration&#x27;,\n",
              "       &#x27;BounceRates&#x27;, &#x27;ExitRates&#x27;, &#x27;PageValues&#x27;, &#x27;SpecialDay&#x27;,\n",
              "       &#x27;OperatingSystems&#x27;, &#x27;Browser&#x27;, &#x27;Region&#x27;, &#x27;TrafficType&#x27;],\n",
              "      dtype=&#x27;object&#x27;))])),\n",
              "                (&#x27;model&#x27;, KNeighborsClassifier())])</pre></div></div></div><div class=\"sk-serial\"><div class=\"sk-item sk-dashed-wrapped\"><div class=\"sk-label-container\"><div class=\"sk-label sk-toggleable\"><input class=\"sk-toggleable__control sk-hidden--visually\" id=\"sk-estimator-id-165\" type=\"checkbox\" ><label for=\"sk-estimator-id-165\" class=\"sk-toggleable__label sk-toggleable__label-arrow\">transformer: ColumnTransformer</label><div class=\"sk-toggleable__content\"><pre>ColumnTransformer(transformers=[(&#x27;ohe&#x27;, OneHotEncoder(handle_unknown=&#x27;ignore&#x27;),\n",
              "                                 Index([&#x27;Month&#x27;, &#x27;VisitorType&#x27;], dtype=&#x27;object&#x27;)),\n",
              "                                (&#x27;scaling&#x27;, MinMaxScaler(),\n",
              "                                 Index([&#x27;Administrative&#x27;, &#x27;Administrative_Duration&#x27;, &#x27;Informational&#x27;,\n",
              "       &#x27;Informational_Duration&#x27;, &#x27;ProductRelated&#x27;, &#x27;ProductRelated_Duration&#x27;,\n",
              "       &#x27;BounceRates&#x27;, &#x27;ExitRates&#x27;, &#x27;PageValues&#x27;, &#x27;SpecialDay&#x27;,\n",
              "       &#x27;OperatingSystems&#x27;, &#x27;Browser&#x27;, &#x27;Region&#x27;, &#x27;TrafficType&#x27;],\n",
              "      dtype=&#x27;object&#x27;))])</pre></div></div></div><div class=\"sk-parallel\"><div class=\"sk-parallel-item\"><div class=\"sk-item\"><div class=\"sk-label-container\"><div class=\"sk-label sk-toggleable\"><input class=\"sk-toggleable__control sk-hidden--visually\" id=\"sk-estimator-id-166\" type=\"checkbox\" ><label for=\"sk-estimator-id-166\" class=\"sk-toggleable__label sk-toggleable__label-arrow\">ohe</label><div class=\"sk-toggleable__content\"><pre>Index([&#x27;Month&#x27;, &#x27;VisitorType&#x27;], dtype=&#x27;object&#x27;)</pre></div></div></div><div class=\"sk-serial\"><div class=\"sk-item\"><div class=\"sk-estimator sk-toggleable\"><input class=\"sk-toggleable__control sk-hidden--visually\" id=\"sk-estimator-id-167\" type=\"checkbox\" ><label for=\"sk-estimator-id-167\" class=\"sk-toggleable__label sk-toggleable__label-arrow\">OneHotEncoder</label><div class=\"sk-toggleable__content\"><pre>OneHotEncoder(handle_unknown=&#x27;ignore&#x27;)</pre></div></div></div></div></div></div><div class=\"sk-parallel-item\"><div class=\"sk-item\"><div class=\"sk-label-container\"><div class=\"sk-label sk-toggleable\"><input class=\"sk-toggleable__control sk-hidden--visually\" id=\"sk-estimator-id-168\" type=\"checkbox\" ><label for=\"sk-estimator-id-168\" class=\"sk-toggleable__label sk-toggleable__label-arrow\">scaling</label><div class=\"sk-toggleable__content\"><pre>Index([&#x27;Administrative&#x27;, &#x27;Administrative_Duration&#x27;, &#x27;Informational&#x27;,\n",
              "       &#x27;Informational_Duration&#x27;, &#x27;ProductRelated&#x27;, &#x27;ProductRelated_Duration&#x27;,\n",
              "       &#x27;BounceRates&#x27;, &#x27;ExitRates&#x27;, &#x27;PageValues&#x27;, &#x27;SpecialDay&#x27;,\n",
              "       &#x27;OperatingSystems&#x27;, &#x27;Browser&#x27;, &#x27;Region&#x27;, &#x27;TrafficType&#x27;],\n",
              "      dtype=&#x27;object&#x27;)</pre></div></div></div><div class=\"sk-serial\"><div class=\"sk-item\"><div class=\"sk-estimator sk-toggleable\"><input class=\"sk-toggleable__control sk-hidden--visually\" id=\"sk-estimator-id-169\" type=\"checkbox\" ><label for=\"sk-estimator-id-169\" class=\"sk-toggleable__label sk-toggleable__label-arrow\">MinMaxScaler</label><div class=\"sk-toggleable__content\"><pre>MinMaxScaler()</pre></div></div></div></div></div></div></div></div><div class=\"sk-item\"><div class=\"sk-estimator sk-toggleable\"><input class=\"sk-toggleable__control sk-hidden--visually\" id=\"sk-estimator-id-170\" type=\"checkbox\" ><label for=\"sk-estimator-id-170\" class=\"sk-toggleable__label sk-toggleable__label-arrow\">KNeighborsClassifier</label><div class=\"sk-toggleable__content\"><pre>KNeighborsClassifier()</pre></div></div></div></div></div></div></div>"
            ]
          },
          "metadata": {},
          "execution_count": 209
        }
      ]
    },
    {
      "cell_type": "code",
      "source": [
        "accuracy_score(y_test_full, pred_pipe)"
      ],
      "metadata": {
        "colab": {
          "base_uri": "https://localhost:8080/"
        },
        "id": "kvfnRMQ52l3m",
        "outputId": "fa9aaae9-7af7-4503-dec2-4859f4079ef7"
      },
      "execution_count": 173,
      "outputs": [
        {
          "output_type": "execute_result",
          "data": {
            "text/plain": [
              "0.8553357119688615"
            ]
          },
          "metadata": {},
          "execution_count": 173
        }
      ]
    },
    {
      "cell_type": "code",
      "source": [
        "params = {\n",
        "    'model__n_neighbors': np.arange(10, 20, 2),\n",
        "    'model__weights': ['distance', 'uniform'],\n",
        "    'model__p': [1, 2],\n",
        "}\n",
        "\n",
        "\n",
        "gs = GridSearchCV(pipe, params, scoring='accuracy', cv=3, n_jobs=-1, verbose=2)\n",
        "gs.fit(X_train_full, y_train_full)"
      ],
      "metadata": {
        "colab": {
          "base_uri": "https://localhost:8080/",
          "height": 234
        },
        "id": "dDftVPV8AuuQ",
        "outputId": "9edb5e3f-e7f2-4e82-eb3f-6bb6ad74ff54"
      },
      "execution_count": 174,
      "outputs": [
        {
          "output_type": "stream",
          "name": "stdout",
          "text": [
            "Fitting 3 folds for each of 20 candidates, totalling 60 fits\n"
          ]
        },
        {
          "output_type": "execute_result",
          "data": {
            "text/plain": [
              "GridSearchCV(cv=3,\n",
              "             estimator=Pipeline(steps=[('transformer',\n",
              "                                        ColumnTransformer(transformers=[('ohe',\n",
              "                                                                         OneHotEncoder(handle_unknown='ignore'),\n",
              "                                                                         Index(['Month', 'VisitorType'], dtype='object')),\n",
              "                                                                        ('scaling',\n",
              "                                                                         MinMaxScaler(),\n",
              "                                                                         Index(['Administrative', 'Administrative_Duration', 'Informational',\n",
              "       'Informational_Duration', 'ProductRelated', 'ProductRelated_Duration',\n",
              "       'BounceRates', 'ExitRates', 'PageValues', 'SpecialDay',\n",
              "       'OperatingSystems', 'Browser', 'Region', 'TrafficType'],\n",
              "      dtype='object'))])),\n",
              "                                       ('model', KNeighborsClassifier())]),\n",
              "             n_jobs=-1,\n",
              "             param_grid={'model__n_neighbors': array([10, 12, 14, 16, 18]),\n",
              "                         'model__p': [1, 2],\n",
              "                         'model__weights': ['distance', 'uniform']},\n",
              "             scoring='accuracy', verbose=2)"
            ],
            "text/html": [
              "<style>#sk-container-id-34 {color: black;background-color: white;}#sk-container-id-34 pre{padding: 0;}#sk-container-id-34 div.sk-toggleable {background-color: white;}#sk-container-id-34 label.sk-toggleable__label {cursor: pointer;display: block;width: 100%;margin-bottom: 0;padding: 0.3em;box-sizing: border-box;text-align: center;}#sk-container-id-34 label.sk-toggleable__label-arrow:before {content: \"▸\";float: left;margin-right: 0.25em;color: #696969;}#sk-container-id-34 label.sk-toggleable__label-arrow:hover:before {color: black;}#sk-container-id-34 div.sk-estimator:hover label.sk-toggleable__label-arrow:before {color: black;}#sk-container-id-34 div.sk-toggleable__content {max-height: 0;max-width: 0;overflow: hidden;text-align: left;background-color: #f0f8ff;}#sk-container-id-34 div.sk-toggleable__content pre {margin: 0.2em;color: black;border-radius: 0.25em;background-color: #f0f8ff;}#sk-container-id-34 input.sk-toggleable__control:checked~div.sk-toggleable__content {max-height: 200px;max-width: 100%;overflow: auto;}#sk-container-id-34 input.sk-toggleable__control:checked~label.sk-toggleable__label-arrow:before {content: \"▾\";}#sk-container-id-34 div.sk-estimator input.sk-toggleable__control:checked~label.sk-toggleable__label {background-color: #d4ebff;}#sk-container-id-34 div.sk-label input.sk-toggleable__control:checked~label.sk-toggleable__label {background-color: #d4ebff;}#sk-container-id-34 input.sk-hidden--visually {border: 0;clip: rect(1px 1px 1px 1px);clip: rect(1px, 1px, 1px, 1px);height: 1px;margin: -1px;overflow: hidden;padding: 0;position: absolute;width: 1px;}#sk-container-id-34 div.sk-estimator {font-family: monospace;background-color: #f0f8ff;border: 1px dotted black;border-radius: 0.25em;box-sizing: border-box;margin-bottom: 0.5em;}#sk-container-id-34 div.sk-estimator:hover {background-color: #d4ebff;}#sk-container-id-34 div.sk-parallel-item::after {content: \"\";width: 100%;border-bottom: 1px solid gray;flex-grow: 1;}#sk-container-id-34 div.sk-label:hover label.sk-toggleable__label {background-color: #d4ebff;}#sk-container-id-34 div.sk-serial::before {content: \"\";position: absolute;border-left: 1px solid gray;box-sizing: border-box;top: 0;bottom: 0;left: 50%;z-index: 0;}#sk-container-id-34 div.sk-serial {display: flex;flex-direction: column;align-items: center;background-color: white;padding-right: 0.2em;padding-left: 0.2em;position: relative;}#sk-container-id-34 div.sk-item {position: relative;z-index: 1;}#sk-container-id-34 div.sk-parallel {display: flex;align-items: stretch;justify-content: center;background-color: white;position: relative;}#sk-container-id-34 div.sk-item::before, #sk-container-id-34 div.sk-parallel-item::before {content: \"\";position: absolute;border-left: 1px solid gray;box-sizing: border-box;top: 0;bottom: 0;left: 50%;z-index: -1;}#sk-container-id-34 div.sk-parallel-item {display: flex;flex-direction: column;z-index: 1;position: relative;background-color: white;}#sk-container-id-34 div.sk-parallel-item:first-child::after {align-self: flex-end;width: 50%;}#sk-container-id-34 div.sk-parallel-item:last-child::after {align-self: flex-start;width: 50%;}#sk-container-id-34 div.sk-parallel-item:only-child::after {width: 0;}#sk-container-id-34 div.sk-dashed-wrapped {border: 1px dashed gray;margin: 0 0.4em 0.5em 0.4em;box-sizing: border-box;padding-bottom: 0.4em;background-color: white;}#sk-container-id-34 div.sk-label label {font-family: monospace;font-weight: bold;display: inline-block;line-height: 1.2em;}#sk-container-id-34 div.sk-label-container {text-align: center;}#sk-container-id-34 div.sk-container {/* jupyter's `normalize.less` sets `[hidden] { display: none; }` but bootstrap.min.css set `[hidden] { display: none !important; }` so we also need the `!important` here to be able to override the default hidden behavior on the sphinx rendered scikit-learn.org. See: https://github.com/scikit-learn/scikit-learn/issues/21755 */display: inline-block !important;position: relative;}#sk-container-id-34 div.sk-text-repr-fallback {display: none;}</style><div id=\"sk-container-id-34\" class=\"sk-top-container\"><div class=\"sk-text-repr-fallback\"><pre>GridSearchCV(cv=3,\n",
              "             estimator=Pipeline(steps=[(&#x27;transformer&#x27;,\n",
              "                                        ColumnTransformer(transformers=[(&#x27;ohe&#x27;,\n",
              "                                                                         OneHotEncoder(handle_unknown=&#x27;ignore&#x27;),\n",
              "                                                                         Index([&#x27;Month&#x27;, &#x27;VisitorType&#x27;], dtype=&#x27;object&#x27;)),\n",
              "                                                                        (&#x27;scaling&#x27;,\n",
              "                                                                         MinMaxScaler(),\n",
              "                                                                         Index([&#x27;Administrative&#x27;, &#x27;Administrative_Duration&#x27;, &#x27;Informational&#x27;,\n",
              "       &#x27;Informational_Duration&#x27;, &#x27;ProductRelated&#x27;, &#x27;ProductRelated_Duration&#x27;,\n",
              "       &#x27;BounceRates&#x27;, &#x27;ExitRates&#x27;, &#x27;PageValues&#x27;, &#x27;SpecialDay&#x27;,\n",
              "       &#x27;OperatingSystems&#x27;, &#x27;Browser&#x27;, &#x27;Region&#x27;, &#x27;TrafficType&#x27;],\n",
              "      dtype=&#x27;object&#x27;))])),\n",
              "                                       (&#x27;model&#x27;, KNeighborsClassifier())]),\n",
              "             n_jobs=-1,\n",
              "             param_grid={&#x27;model__n_neighbors&#x27;: array([10, 12, 14, 16, 18]),\n",
              "                         &#x27;model__p&#x27;: [1, 2],\n",
              "                         &#x27;model__weights&#x27;: [&#x27;distance&#x27;, &#x27;uniform&#x27;]},\n",
              "             scoring=&#x27;accuracy&#x27;, verbose=2)</pre><b>In a Jupyter environment, please rerun this cell to show the HTML representation or trust the notebook. <br />On GitHub, the HTML representation is unable to render, please try loading this page with nbviewer.org.</b></div><div class=\"sk-container\" hidden><div class=\"sk-item sk-dashed-wrapped\"><div class=\"sk-label-container\"><div class=\"sk-label sk-toggleable\"><input class=\"sk-toggleable__control sk-hidden--visually\" id=\"sk-estimator-id-149\" type=\"checkbox\" ><label for=\"sk-estimator-id-149\" class=\"sk-toggleable__label sk-toggleable__label-arrow\">GridSearchCV</label><div class=\"sk-toggleable__content\"><pre>GridSearchCV(cv=3,\n",
              "             estimator=Pipeline(steps=[(&#x27;transformer&#x27;,\n",
              "                                        ColumnTransformer(transformers=[(&#x27;ohe&#x27;,\n",
              "                                                                         OneHotEncoder(handle_unknown=&#x27;ignore&#x27;),\n",
              "                                                                         Index([&#x27;Month&#x27;, &#x27;VisitorType&#x27;], dtype=&#x27;object&#x27;)),\n",
              "                                                                        (&#x27;scaling&#x27;,\n",
              "                                                                         MinMaxScaler(),\n",
              "                                                                         Index([&#x27;Administrative&#x27;, &#x27;Administrative_Duration&#x27;, &#x27;Informational&#x27;,\n",
              "       &#x27;Informational_Duration&#x27;, &#x27;ProductRelated&#x27;, &#x27;ProductRelated_Duration&#x27;,\n",
              "       &#x27;BounceRates&#x27;, &#x27;ExitRates&#x27;, &#x27;PageValues&#x27;, &#x27;SpecialDay&#x27;,\n",
              "       &#x27;OperatingSystems&#x27;, &#x27;Browser&#x27;, &#x27;Region&#x27;, &#x27;TrafficType&#x27;],\n",
              "      dtype=&#x27;object&#x27;))])),\n",
              "                                       (&#x27;model&#x27;, KNeighborsClassifier())]),\n",
              "             n_jobs=-1,\n",
              "             param_grid={&#x27;model__n_neighbors&#x27;: array([10, 12, 14, 16, 18]),\n",
              "                         &#x27;model__p&#x27;: [1, 2],\n",
              "                         &#x27;model__weights&#x27;: [&#x27;distance&#x27;, &#x27;uniform&#x27;]},\n",
              "             scoring=&#x27;accuracy&#x27;, verbose=2)</pre></div></div></div><div class=\"sk-parallel\"><div class=\"sk-parallel-item\"><div class=\"sk-item\"><div class=\"sk-label-container\"><div class=\"sk-label sk-toggleable\"><input class=\"sk-toggleable__control sk-hidden--visually\" id=\"sk-estimator-id-150\" type=\"checkbox\" ><label for=\"sk-estimator-id-150\" class=\"sk-toggleable__label sk-toggleable__label-arrow\">estimator: Pipeline</label><div class=\"sk-toggleable__content\"><pre>Pipeline(steps=[(&#x27;transformer&#x27;,\n",
              "                 ColumnTransformer(transformers=[(&#x27;ohe&#x27;,\n",
              "                                                  OneHotEncoder(handle_unknown=&#x27;ignore&#x27;),\n",
              "                                                  Index([&#x27;Month&#x27;, &#x27;VisitorType&#x27;], dtype=&#x27;object&#x27;)),\n",
              "                                                 (&#x27;scaling&#x27;, MinMaxScaler(),\n",
              "                                                  Index([&#x27;Administrative&#x27;, &#x27;Administrative_Duration&#x27;, &#x27;Informational&#x27;,\n",
              "       &#x27;Informational_Duration&#x27;, &#x27;ProductRelated&#x27;, &#x27;ProductRelated_Duration&#x27;,\n",
              "       &#x27;BounceRates&#x27;, &#x27;ExitRates&#x27;, &#x27;PageValues&#x27;, &#x27;SpecialDay&#x27;,\n",
              "       &#x27;OperatingSystems&#x27;, &#x27;Browser&#x27;, &#x27;Region&#x27;, &#x27;TrafficType&#x27;],\n",
              "      dtype=&#x27;object&#x27;))])),\n",
              "                (&#x27;model&#x27;, KNeighborsClassifier())])</pre></div></div></div><div class=\"sk-serial\"><div class=\"sk-item\"><div class=\"sk-serial\"><div class=\"sk-item sk-dashed-wrapped\"><div class=\"sk-label-container\"><div class=\"sk-label sk-toggleable\"><input class=\"sk-toggleable__control sk-hidden--visually\" id=\"sk-estimator-id-151\" type=\"checkbox\" ><label for=\"sk-estimator-id-151\" class=\"sk-toggleable__label sk-toggleable__label-arrow\">transformer: ColumnTransformer</label><div class=\"sk-toggleable__content\"><pre>ColumnTransformer(transformers=[(&#x27;ohe&#x27;, OneHotEncoder(handle_unknown=&#x27;ignore&#x27;),\n",
              "                                 Index([&#x27;Month&#x27;, &#x27;VisitorType&#x27;], dtype=&#x27;object&#x27;)),\n",
              "                                (&#x27;scaling&#x27;, MinMaxScaler(),\n",
              "                                 Index([&#x27;Administrative&#x27;, &#x27;Administrative_Duration&#x27;, &#x27;Informational&#x27;,\n",
              "       &#x27;Informational_Duration&#x27;, &#x27;ProductRelated&#x27;, &#x27;ProductRelated_Duration&#x27;,\n",
              "       &#x27;BounceRates&#x27;, &#x27;ExitRates&#x27;, &#x27;PageValues&#x27;, &#x27;SpecialDay&#x27;,\n",
              "       &#x27;OperatingSystems&#x27;, &#x27;Browser&#x27;, &#x27;Region&#x27;, &#x27;TrafficType&#x27;],\n",
              "      dtype=&#x27;object&#x27;))])</pre></div></div></div><div class=\"sk-parallel\"><div class=\"sk-parallel-item\"><div class=\"sk-item\"><div class=\"sk-label-container\"><div class=\"sk-label sk-toggleable\"><input class=\"sk-toggleable__control sk-hidden--visually\" id=\"sk-estimator-id-152\" type=\"checkbox\" ><label for=\"sk-estimator-id-152\" class=\"sk-toggleable__label sk-toggleable__label-arrow\">ohe</label><div class=\"sk-toggleable__content\"><pre>Index([&#x27;Month&#x27;, &#x27;VisitorType&#x27;], dtype=&#x27;object&#x27;)</pre></div></div></div><div class=\"sk-serial\"><div class=\"sk-item\"><div class=\"sk-estimator sk-toggleable\"><input class=\"sk-toggleable__control sk-hidden--visually\" id=\"sk-estimator-id-153\" type=\"checkbox\" ><label for=\"sk-estimator-id-153\" class=\"sk-toggleable__label sk-toggleable__label-arrow\">OneHotEncoder</label><div class=\"sk-toggleable__content\"><pre>OneHotEncoder(handle_unknown=&#x27;ignore&#x27;)</pre></div></div></div></div></div></div><div class=\"sk-parallel-item\"><div class=\"sk-item\"><div class=\"sk-label-container\"><div class=\"sk-label sk-toggleable\"><input class=\"sk-toggleable__control sk-hidden--visually\" id=\"sk-estimator-id-154\" type=\"checkbox\" ><label for=\"sk-estimator-id-154\" class=\"sk-toggleable__label sk-toggleable__label-arrow\">scaling</label><div class=\"sk-toggleable__content\"><pre>Index([&#x27;Administrative&#x27;, &#x27;Administrative_Duration&#x27;, &#x27;Informational&#x27;,\n",
              "       &#x27;Informational_Duration&#x27;, &#x27;ProductRelated&#x27;, &#x27;ProductRelated_Duration&#x27;,\n",
              "       &#x27;BounceRates&#x27;, &#x27;ExitRates&#x27;, &#x27;PageValues&#x27;, &#x27;SpecialDay&#x27;,\n",
              "       &#x27;OperatingSystems&#x27;, &#x27;Browser&#x27;, &#x27;Region&#x27;, &#x27;TrafficType&#x27;],\n",
              "      dtype=&#x27;object&#x27;)</pre></div></div></div><div class=\"sk-serial\"><div class=\"sk-item\"><div class=\"sk-estimator sk-toggleable\"><input class=\"sk-toggleable__control sk-hidden--visually\" id=\"sk-estimator-id-155\" type=\"checkbox\" ><label for=\"sk-estimator-id-155\" class=\"sk-toggleable__label sk-toggleable__label-arrow\">MinMaxScaler</label><div class=\"sk-toggleable__content\"><pre>MinMaxScaler()</pre></div></div></div></div></div></div></div></div><div class=\"sk-item\"><div class=\"sk-estimator sk-toggleable\"><input class=\"sk-toggleable__control sk-hidden--visually\" id=\"sk-estimator-id-156\" type=\"checkbox\" ><label for=\"sk-estimator-id-156\" class=\"sk-toggleable__label sk-toggleable__label-arrow\">KNeighborsClassifier</label><div class=\"sk-toggleable__content\"><pre>KNeighborsClassifier()</pre></div></div></div></div></div></div></div></div></div></div></div></div>"
            ]
          },
          "metadata": {},
          "execution_count": 174
        }
      ]
    },
    {
      "cell_type": "code",
      "source": [
        "gs.best_estimator_"
      ],
      "metadata": {
        "colab": {
          "base_uri": "https://localhost:8080/",
          "height": 190
        },
        "id": "_hJndx_RA4pT",
        "outputId": "7aa0b1c3-2def-4d14-c2bf-b1a63dfd5d98"
      },
      "execution_count": 175,
      "outputs": [
        {
          "output_type": "execute_result",
          "data": {
            "text/plain": [
              "Pipeline(steps=[('transformer',\n",
              "                 ColumnTransformer(transformers=[('ohe',\n",
              "                                                  OneHotEncoder(handle_unknown='ignore'),\n",
              "                                                  Index(['Month', 'VisitorType'], dtype='object')),\n",
              "                                                 ('scaling', MinMaxScaler(),\n",
              "                                                  Index(['Administrative', 'Administrative_Duration', 'Informational',\n",
              "       'Informational_Duration', 'ProductRelated', 'ProductRelated_Duration',\n",
              "       'BounceRates', 'ExitRates', 'PageValues', 'SpecialDay',\n",
              "       'OperatingSystems', 'Browser', 'Region', 'TrafficType'],\n",
              "      dtype='object'))])),\n",
              "                ('model',\n",
              "                 KNeighborsClassifier(n_neighbors=10, weights='distance'))])"
            ],
            "text/html": [
              "<style>#sk-container-id-35 {color: black;background-color: white;}#sk-container-id-35 pre{padding: 0;}#sk-container-id-35 div.sk-toggleable {background-color: white;}#sk-container-id-35 label.sk-toggleable__label {cursor: pointer;display: block;width: 100%;margin-bottom: 0;padding: 0.3em;box-sizing: border-box;text-align: center;}#sk-container-id-35 label.sk-toggleable__label-arrow:before {content: \"▸\";float: left;margin-right: 0.25em;color: #696969;}#sk-container-id-35 label.sk-toggleable__label-arrow:hover:before {color: black;}#sk-container-id-35 div.sk-estimator:hover label.sk-toggleable__label-arrow:before {color: black;}#sk-container-id-35 div.sk-toggleable__content {max-height: 0;max-width: 0;overflow: hidden;text-align: left;background-color: #f0f8ff;}#sk-container-id-35 div.sk-toggleable__content pre {margin: 0.2em;color: black;border-radius: 0.25em;background-color: #f0f8ff;}#sk-container-id-35 input.sk-toggleable__control:checked~div.sk-toggleable__content {max-height: 200px;max-width: 100%;overflow: auto;}#sk-container-id-35 input.sk-toggleable__control:checked~label.sk-toggleable__label-arrow:before {content: \"▾\";}#sk-container-id-35 div.sk-estimator input.sk-toggleable__control:checked~label.sk-toggleable__label {background-color: #d4ebff;}#sk-container-id-35 div.sk-label input.sk-toggleable__control:checked~label.sk-toggleable__label {background-color: #d4ebff;}#sk-container-id-35 input.sk-hidden--visually {border: 0;clip: rect(1px 1px 1px 1px);clip: rect(1px, 1px, 1px, 1px);height: 1px;margin: -1px;overflow: hidden;padding: 0;position: absolute;width: 1px;}#sk-container-id-35 div.sk-estimator {font-family: monospace;background-color: #f0f8ff;border: 1px dotted black;border-radius: 0.25em;box-sizing: border-box;margin-bottom: 0.5em;}#sk-container-id-35 div.sk-estimator:hover {background-color: #d4ebff;}#sk-container-id-35 div.sk-parallel-item::after {content: \"\";width: 100%;border-bottom: 1px solid gray;flex-grow: 1;}#sk-container-id-35 div.sk-label:hover label.sk-toggleable__label {background-color: #d4ebff;}#sk-container-id-35 div.sk-serial::before {content: \"\";position: absolute;border-left: 1px solid gray;box-sizing: border-box;top: 0;bottom: 0;left: 50%;z-index: 0;}#sk-container-id-35 div.sk-serial {display: flex;flex-direction: column;align-items: center;background-color: white;padding-right: 0.2em;padding-left: 0.2em;position: relative;}#sk-container-id-35 div.sk-item {position: relative;z-index: 1;}#sk-container-id-35 div.sk-parallel {display: flex;align-items: stretch;justify-content: center;background-color: white;position: relative;}#sk-container-id-35 div.sk-item::before, #sk-container-id-35 div.sk-parallel-item::before {content: \"\";position: absolute;border-left: 1px solid gray;box-sizing: border-box;top: 0;bottom: 0;left: 50%;z-index: -1;}#sk-container-id-35 div.sk-parallel-item {display: flex;flex-direction: column;z-index: 1;position: relative;background-color: white;}#sk-container-id-35 div.sk-parallel-item:first-child::after {align-self: flex-end;width: 50%;}#sk-container-id-35 div.sk-parallel-item:last-child::after {align-self: flex-start;width: 50%;}#sk-container-id-35 div.sk-parallel-item:only-child::after {width: 0;}#sk-container-id-35 div.sk-dashed-wrapped {border: 1px dashed gray;margin: 0 0.4em 0.5em 0.4em;box-sizing: border-box;padding-bottom: 0.4em;background-color: white;}#sk-container-id-35 div.sk-label label {font-family: monospace;font-weight: bold;display: inline-block;line-height: 1.2em;}#sk-container-id-35 div.sk-label-container {text-align: center;}#sk-container-id-35 div.sk-container {/* jupyter's `normalize.less` sets `[hidden] { display: none; }` but bootstrap.min.css set `[hidden] { display: none !important; }` so we also need the `!important` here to be able to override the default hidden behavior on the sphinx rendered scikit-learn.org. See: https://github.com/scikit-learn/scikit-learn/issues/21755 */display: inline-block !important;position: relative;}#sk-container-id-35 div.sk-text-repr-fallback {display: none;}</style><div id=\"sk-container-id-35\" class=\"sk-top-container\"><div class=\"sk-text-repr-fallback\"><pre>Pipeline(steps=[(&#x27;transformer&#x27;,\n",
              "                 ColumnTransformer(transformers=[(&#x27;ohe&#x27;,\n",
              "                                                  OneHotEncoder(handle_unknown=&#x27;ignore&#x27;),\n",
              "                                                  Index([&#x27;Month&#x27;, &#x27;VisitorType&#x27;], dtype=&#x27;object&#x27;)),\n",
              "                                                 (&#x27;scaling&#x27;, MinMaxScaler(),\n",
              "                                                  Index([&#x27;Administrative&#x27;, &#x27;Administrative_Duration&#x27;, &#x27;Informational&#x27;,\n",
              "       &#x27;Informational_Duration&#x27;, &#x27;ProductRelated&#x27;, &#x27;ProductRelated_Duration&#x27;,\n",
              "       &#x27;BounceRates&#x27;, &#x27;ExitRates&#x27;, &#x27;PageValues&#x27;, &#x27;SpecialDay&#x27;,\n",
              "       &#x27;OperatingSystems&#x27;, &#x27;Browser&#x27;, &#x27;Region&#x27;, &#x27;TrafficType&#x27;],\n",
              "      dtype=&#x27;object&#x27;))])),\n",
              "                (&#x27;model&#x27;,\n",
              "                 KNeighborsClassifier(n_neighbors=10, weights=&#x27;distance&#x27;))])</pre><b>In a Jupyter environment, please rerun this cell to show the HTML representation or trust the notebook. <br />On GitHub, the HTML representation is unable to render, please try loading this page with nbviewer.org.</b></div><div class=\"sk-container\" hidden><div class=\"sk-item sk-dashed-wrapped\"><div class=\"sk-label-container\"><div class=\"sk-label sk-toggleable\"><input class=\"sk-toggleable__control sk-hidden--visually\" id=\"sk-estimator-id-157\" type=\"checkbox\" ><label for=\"sk-estimator-id-157\" class=\"sk-toggleable__label sk-toggleable__label-arrow\">Pipeline</label><div class=\"sk-toggleable__content\"><pre>Pipeline(steps=[(&#x27;transformer&#x27;,\n",
              "                 ColumnTransformer(transformers=[(&#x27;ohe&#x27;,\n",
              "                                                  OneHotEncoder(handle_unknown=&#x27;ignore&#x27;),\n",
              "                                                  Index([&#x27;Month&#x27;, &#x27;VisitorType&#x27;], dtype=&#x27;object&#x27;)),\n",
              "                                                 (&#x27;scaling&#x27;, MinMaxScaler(),\n",
              "                                                  Index([&#x27;Administrative&#x27;, &#x27;Administrative_Duration&#x27;, &#x27;Informational&#x27;,\n",
              "       &#x27;Informational_Duration&#x27;, &#x27;ProductRelated&#x27;, &#x27;ProductRelated_Duration&#x27;,\n",
              "       &#x27;BounceRates&#x27;, &#x27;ExitRates&#x27;, &#x27;PageValues&#x27;, &#x27;SpecialDay&#x27;,\n",
              "       &#x27;OperatingSystems&#x27;, &#x27;Browser&#x27;, &#x27;Region&#x27;, &#x27;TrafficType&#x27;],\n",
              "      dtype=&#x27;object&#x27;))])),\n",
              "                (&#x27;model&#x27;,\n",
              "                 KNeighborsClassifier(n_neighbors=10, weights=&#x27;distance&#x27;))])</pre></div></div></div><div class=\"sk-serial\"><div class=\"sk-item sk-dashed-wrapped\"><div class=\"sk-label-container\"><div class=\"sk-label sk-toggleable\"><input class=\"sk-toggleable__control sk-hidden--visually\" id=\"sk-estimator-id-158\" type=\"checkbox\" ><label for=\"sk-estimator-id-158\" class=\"sk-toggleable__label sk-toggleable__label-arrow\">transformer: ColumnTransformer</label><div class=\"sk-toggleable__content\"><pre>ColumnTransformer(transformers=[(&#x27;ohe&#x27;, OneHotEncoder(handle_unknown=&#x27;ignore&#x27;),\n",
              "                                 Index([&#x27;Month&#x27;, &#x27;VisitorType&#x27;], dtype=&#x27;object&#x27;)),\n",
              "                                (&#x27;scaling&#x27;, MinMaxScaler(),\n",
              "                                 Index([&#x27;Administrative&#x27;, &#x27;Administrative_Duration&#x27;, &#x27;Informational&#x27;,\n",
              "       &#x27;Informational_Duration&#x27;, &#x27;ProductRelated&#x27;, &#x27;ProductRelated_Duration&#x27;,\n",
              "       &#x27;BounceRates&#x27;, &#x27;ExitRates&#x27;, &#x27;PageValues&#x27;, &#x27;SpecialDay&#x27;,\n",
              "       &#x27;OperatingSystems&#x27;, &#x27;Browser&#x27;, &#x27;Region&#x27;, &#x27;TrafficType&#x27;],\n",
              "      dtype=&#x27;object&#x27;))])</pre></div></div></div><div class=\"sk-parallel\"><div class=\"sk-parallel-item\"><div class=\"sk-item\"><div class=\"sk-label-container\"><div class=\"sk-label sk-toggleable\"><input class=\"sk-toggleable__control sk-hidden--visually\" id=\"sk-estimator-id-159\" type=\"checkbox\" ><label for=\"sk-estimator-id-159\" class=\"sk-toggleable__label sk-toggleable__label-arrow\">ohe</label><div class=\"sk-toggleable__content\"><pre>Index([&#x27;Month&#x27;, &#x27;VisitorType&#x27;], dtype=&#x27;object&#x27;)</pre></div></div></div><div class=\"sk-serial\"><div class=\"sk-item\"><div class=\"sk-estimator sk-toggleable\"><input class=\"sk-toggleable__control sk-hidden--visually\" id=\"sk-estimator-id-160\" type=\"checkbox\" ><label for=\"sk-estimator-id-160\" class=\"sk-toggleable__label sk-toggleable__label-arrow\">OneHotEncoder</label><div class=\"sk-toggleable__content\"><pre>OneHotEncoder(handle_unknown=&#x27;ignore&#x27;)</pre></div></div></div></div></div></div><div class=\"sk-parallel-item\"><div class=\"sk-item\"><div class=\"sk-label-container\"><div class=\"sk-label sk-toggleable\"><input class=\"sk-toggleable__control sk-hidden--visually\" id=\"sk-estimator-id-161\" type=\"checkbox\" ><label for=\"sk-estimator-id-161\" class=\"sk-toggleable__label sk-toggleable__label-arrow\">scaling</label><div class=\"sk-toggleable__content\"><pre>Index([&#x27;Administrative&#x27;, &#x27;Administrative_Duration&#x27;, &#x27;Informational&#x27;,\n",
              "       &#x27;Informational_Duration&#x27;, &#x27;ProductRelated&#x27;, &#x27;ProductRelated_Duration&#x27;,\n",
              "       &#x27;BounceRates&#x27;, &#x27;ExitRates&#x27;, &#x27;PageValues&#x27;, &#x27;SpecialDay&#x27;,\n",
              "       &#x27;OperatingSystems&#x27;, &#x27;Browser&#x27;, &#x27;Region&#x27;, &#x27;TrafficType&#x27;],\n",
              "      dtype=&#x27;object&#x27;)</pre></div></div></div><div class=\"sk-serial\"><div class=\"sk-item\"><div class=\"sk-estimator sk-toggleable\"><input class=\"sk-toggleable__control sk-hidden--visually\" id=\"sk-estimator-id-162\" type=\"checkbox\" ><label for=\"sk-estimator-id-162\" class=\"sk-toggleable__label sk-toggleable__label-arrow\">MinMaxScaler</label><div class=\"sk-toggleable__content\"><pre>MinMaxScaler()</pre></div></div></div></div></div></div></div></div><div class=\"sk-item\"><div class=\"sk-estimator sk-toggleable\"><input class=\"sk-toggleable__control sk-hidden--visually\" id=\"sk-estimator-id-163\" type=\"checkbox\" ><label for=\"sk-estimator-id-163\" class=\"sk-toggleable__label sk-toggleable__label-arrow\">KNeighborsClassifier</label><div class=\"sk-toggleable__content\"><pre>KNeighborsClassifier(n_neighbors=10, weights=&#x27;distance&#x27;)</pre></div></div></div></div></div></div></div>"
            ]
          },
          "metadata": {},
          "execution_count": 175
        }
      ]
    },
    {
      "cell_type": "code",
      "source": [],
      "metadata": {
        "id": "ihkKZ_CFBUjO"
      },
      "execution_count": 175,
      "outputs": []
    },
    {
      "cell_type": "code",
      "execution_count": 176,
      "metadata": {
        "colab": {
          "base_uri": "https://localhost:8080/"
        },
        "outputId": "9bf15339-269e-4306-f90e-3ed3d141c6b9",
        "id": "GpYr9kMjBa80"
      },
      "outputs": [
        {
          "output_type": "execute_result",
          "data": {
            "text/plain": [
              "0.859552384041518"
            ]
          },
          "metadata": {},
          "execution_count": 176
        }
      ],
      "source": [
        "pred = gs.best_estimator_.predict(X_test_full)\n",
        "\n",
        "accuracy_score(y_test_full, pred)"
      ]
    },
    {
      "cell_type": "code",
      "execution_count": 177,
      "metadata": {
        "colab": {
          "base_uri": "https://localhost:8080/"
        },
        "outputId": "98f06029-e24e-490b-abf5-211bbffc784c",
        "id": "741SiBmwBa82"
      },
      "outputs": [
        {
          "output_type": "execute_result",
          "data": {
            "text/plain": [
              "array([[2558,   36],\n",
              "       [ 397,   92]])"
            ]
          },
          "metadata": {},
          "execution_count": 177
        }
      ],
      "source": [
        "confusion_matrix(y_test_full, pred)"
      ]
    },
    {
      "cell_type": "code",
      "source": [
        "print(classification_report(y_test_full, pred))"
      ],
      "metadata": {
        "colab": {
          "base_uri": "https://localhost:8080/"
        },
        "outputId": "1387ac2f-ceda-4439-bf82-98404601a8c8",
        "id": "wSet4WYsBa82"
      },
      "execution_count": 178,
      "outputs": [
        {
          "output_type": "stream",
          "name": "stdout",
          "text": [
            "              precision    recall  f1-score   support\n",
            "\n",
            "           0       0.87      0.99      0.92      2594\n",
            "           1       0.72      0.19      0.30       489\n",
            "\n",
            "    accuracy                           0.86      3083\n",
            "   macro avg       0.79      0.59      0.61      3083\n",
            "weighted avg       0.84      0.86      0.82      3083\n",
            "\n"
          ]
        }
      ]
    },
    {
      "cell_type": "markdown",
      "source": [
        "Увеличели recall означает, что модель лучше улавливает истинно положительные случаи"
      ],
      "metadata": {
        "id": "0OckqzAJEEOj"
      }
    },
    {
      "cell_type": "markdown",
      "source": [
        "## Explainer Dashboard"
      ],
      "metadata": {
        "id": "9ITk2u_kEsLx"
      }
    },
    {
      "cell_type": "code",
      "source": [
        "!pip install explainerdashboard -q"
      ],
      "metadata": {
        "colab": {
          "base_uri": "https://localhost:8080/"
        },
        "id": "W4XzvuTEBuP6",
        "outputId": "40468d30-89e6-4e7b-9c6c-3b9982b90221"
      },
      "execution_count": 127,
      "outputs": [
        {
          "output_type": "stream",
          "name": "stdout",
          "text": [
            "\u001b[2K     \u001b[90m━━━━━━━━━━━━━━━━━━━━━━━━━━━━━━━━━━━━━━━━\u001b[0m \u001b[32m287.2/287.2 kB\u001b[0m \u001b[31m2.4 MB/s\u001b[0m eta \u001b[36m0:00:00\u001b[0m\n",
            "\u001b[2K     \u001b[90m━━━━━━━━━━━━━━━━━━━━━━━━━━━━━━━━━━━━━━━━\u001b[0m \u001b[32m221.2/221.2 kB\u001b[0m \u001b[31m15.5 MB/s\u001b[0m eta \u001b[36m0:00:00\u001b[0m\n",
            "\u001b[2K     \u001b[90m━━━━━━━━━━━━━━━━━━━━━━━━━━━━━━━━━━━━━━━━\u001b[0m \u001b[32m10.2/10.2 MB\u001b[0m \u001b[31m22.9 MB/s\u001b[0m eta \u001b[36m0:00:00\u001b[0m\n",
            "\u001b[2K     \u001b[90m━━━━━━━━━━━━━━━━━━━━━━━━━━━━━━━━━━━━━━━━\u001b[0m \u001b[32m91.8/91.8 kB\u001b[0m \u001b[31m5.3 MB/s\u001b[0m eta \u001b[36m0:00:00\u001b[0m\n",
            "\u001b[2K     \u001b[90m━━━━━━━━━━━━━━━━━━━━━━━━━━━━━━━━━━━━━━━━\u001b[0m \u001b[32m535.7/535.7 kB\u001b[0m \u001b[31m28.1 MB/s\u001b[0m eta \u001b[36m0:00:00\u001b[0m\n",
            "\u001b[2K     \u001b[90m━━━━━━━━━━━━━━━━━━━━━━━━━━━━━━━━━━━━━━━━\u001b[0m \u001b[32m56.7/56.7 kB\u001b[0m \u001b[31m5.1 MB/s\u001b[0m eta \u001b[36m0:00:00\u001b[0m\n",
            "\u001b[2K     \u001b[90m━━━━━━━━━━━━━━━━━━━━━━━━━━━━━━━━━━━━━━━━\u001b[0m \u001b[32m146.0/146.0 kB\u001b[0m \u001b[31m9.9 MB/s\u001b[0m eta \u001b[36m0:00:00\u001b[0m\n",
            "\u001b[2K     \u001b[90m━━━━━━━━━━━━━━━━━━━━━━━━━━━━━━━━━━━━━━━━\u001b[0m \u001b[32m1.6/1.6 MB\u001b[0m \u001b[31m46.3 MB/s\u001b[0m eta \u001b[36m0:00:00\u001b[0m\n",
            "\u001b[?25h"
          ]
        }
      ]
    },
    {
      "cell_type": "code",
      "execution_count": 201,
      "metadata": {
        "id": "hLp8QLnc5gsk"
      },
      "outputs": [],
      "source": [
        "from explainerdashboard import ClassifierExplainer, ExplainerDashboard"
      ]
    },
    {
      "cell_type": "code",
      "execution_count": 202,
      "metadata": {
        "id": "SJRPYGF85gu-"
      },
      "outputs": [],
      "source": [
        "from IPython.core.interactiveshell import InteractiveShell\n",
        "InteractiveShell.ast_node_interactivity = \"all\""
      ]
    },
    {
      "cell_type": "code",
      "execution_count": 210,
      "metadata": {
        "colab": {
          "base_uri": "https://localhost:8080/"
        },
        "id": "Wq9-5Aus6IFq",
        "outputId": "d5ccd32f-b134-40ba-f3d6-44a4747a5cb8"
      },
      "outputs": [
        {
          "output_type": "stream",
          "name": "stdout",
          "text": [
            "splitting pipeline...\n",
            "Warning: Failed to extract a data transformer with column names and final model from the Pipeline. So setting shap='kernel' to use the (slower and approximate) model-agnostic shap.KernelExplainer instead!\n",
            "WARNING: For shap='kernel', shap interaction values can unfortunately not be calculated!\n",
            "Note: shap values for shap='kernel' normally get calculated against X_background, but paramater X_background=None, so setting X_background=shap.sample(X, 50)...\n",
            "Generating self.shap_explainer = shap.KernelExplainer(model, X, link='identity')\n"
          ]
        },
        {
          "output_type": "stream",
          "name": "stderr",
          "text": [
            "/usr/local/lib/python3.10/dist-packages/sklearn/base.py:432: UserWarning:\n",
            "\n",
            "X has feature names, but KNeighborsClassifier was fitted without feature names\n",
            "\n"
          ]
        }
      ],
      "source": [
        "explainer = ClassifierExplainer(gs.best_estimator_, X_test_transformed.iloc[:10], y_test_full.iloc[:10])"
      ]
    },
    {
      "cell_type": "code",
      "execution_count": 211,
      "metadata": {
        "colab": {
          "base_uri": "https://localhost:8080/",
          "height": 1000,
          "referenced_widgets": [
            "a4423a3c81814d5d918ac36c76cd2432",
            "1cfd693e37094cc68470a9fbe8a064bd",
            "14ed50d14b254fe8ab9353f439a4bd01",
            "9d51fcb6707745e5a903f815685e1ec9",
            "1670e0be9a74403689004ace6cd4ac62",
            "45e72293e3b544a697b6a499fff022ef",
            "7f2a57776bab476f8c6c8a37a01c4405",
            "b88c7b322e904a029c7aef697df3638f",
            "17d82667938b4a92862d5f30d101523b",
            "9d4d53a46e2b48d4abd212fe997a81d6",
            "85939e0770304f28a992db3705ba5499"
          ]
        },
        "id": "TyieT79365Rk",
        "outputId": "ba1ae79a-9805-49bf-9189-11f8a61640c4"
      },
      "outputs": [
        {
          "output_type": "stream",
          "name": "stdout",
          "text": [
            "Building ExplainerDashboard..\n",
            "Detected google colab environment, setting mode='external'\n",
            "For this type of model and model_output interactions don't work, so setting shap_interaction=False...\n",
            "The explainer object has no decision_trees property. so setting decision_trees=False...\n",
            "Generating layout...\n",
            "Calculating shap values...\n"
          ]
        },
        {
          "output_type": "stream",
          "name": "stderr",
          "text": [
            "/usr/local/lib/python3.10/dist-packages/dash/dash.py:556: UserWarning:\n",
            "\n",
            "JupyterDash is deprecated, use Dash instead.\n",
            "See https://dash.plotly.com/dash-in-jupyter for more details.\n",
            "\n"
          ]
        },
        {
          "output_type": "display_data",
          "data": {
            "text/plain": [
              "  0%|          | 0/10 [00:00<?, ?it/s]"
            ],
            "application/vnd.jupyter.widget-view+json": {
              "version_major": 2,
              "version_minor": 0,
              "model_id": "a4423a3c81814d5d918ac36c76cd2432"
            }
          },
          "metadata": {}
        },
        {
          "output_type": "stream",
          "name": "stderr",
          "text": [
            "/usr/local/lib/python3.10/dist-packages/sklearn/base.py:432: UserWarning:\n",
            "\n",
            "X has feature names, but KNeighborsClassifier was fitted without feature names\n",
            "\n",
            "/usr/local/lib/python3.10/dist-packages/sklearn/base.py:432: UserWarning:\n",
            "\n",
            "X has feature names, but KNeighborsClassifier was fitted without feature names\n",
            "\n",
            "/usr/local/lib/python3.10/dist-packages/sklearn/base.py:432: UserWarning:\n",
            "\n",
            "X has feature names, but KNeighborsClassifier was fitted without feature names\n",
            "\n",
            "/usr/local/lib/python3.10/dist-packages/sklearn/base.py:432: UserWarning:\n",
            "\n",
            "X has feature names, but KNeighborsClassifier was fitted without feature names\n",
            "\n",
            "/usr/local/lib/python3.10/dist-packages/sklearn/base.py:432: UserWarning:\n",
            "\n",
            "X has feature names, but KNeighborsClassifier was fitted without feature names\n",
            "\n",
            "/usr/local/lib/python3.10/dist-packages/sklearn/base.py:432: UserWarning:\n",
            "\n",
            "X has feature names, but KNeighborsClassifier was fitted without feature names\n",
            "\n",
            "/usr/local/lib/python3.10/dist-packages/sklearn/base.py:432: UserWarning:\n",
            "\n",
            "X has feature names, but KNeighborsClassifier was fitted without feature names\n",
            "\n",
            "/usr/local/lib/python3.10/dist-packages/sklearn/base.py:432: UserWarning:\n",
            "\n",
            "X has feature names, but KNeighborsClassifier was fitted without feature names\n",
            "\n",
            "/usr/local/lib/python3.10/dist-packages/sklearn/base.py:432: UserWarning:\n",
            "\n",
            "X has feature names, but KNeighborsClassifier was fitted without feature names\n",
            "\n",
            "/usr/local/lib/python3.10/dist-packages/sklearn/base.py:432: UserWarning:\n",
            "\n",
            "X has feature names, but KNeighborsClassifier was fitted without feature names\n",
            "\n",
            "/usr/local/lib/python3.10/dist-packages/sklearn/base.py:432: UserWarning:\n",
            "\n",
            "X has feature names, but KNeighborsClassifier was fitted without feature names\n",
            "\n",
            "/usr/local/lib/python3.10/dist-packages/sklearn/base.py:432: UserWarning:\n",
            "\n",
            "X has feature names, but KNeighborsClassifier was fitted without feature names\n",
            "\n",
            "/usr/local/lib/python3.10/dist-packages/sklearn/base.py:432: UserWarning:\n",
            "\n",
            "X has feature names, but KNeighborsClassifier was fitted without feature names\n",
            "\n",
            "/usr/local/lib/python3.10/dist-packages/sklearn/base.py:432: UserWarning:\n",
            "\n",
            "X has feature names, but KNeighborsClassifier was fitted without feature names\n",
            "\n",
            "/usr/local/lib/python3.10/dist-packages/sklearn/base.py:432: UserWarning:\n",
            "\n",
            "X has feature names, but KNeighborsClassifier was fitted without feature names\n",
            "\n",
            "/usr/local/lib/python3.10/dist-packages/sklearn/base.py:432: UserWarning:\n",
            "\n",
            "X has feature names, but KNeighborsClassifier was fitted without feature names\n",
            "\n",
            "/usr/local/lib/python3.10/dist-packages/sklearn/base.py:432: UserWarning:\n",
            "\n",
            "X has feature names, but KNeighborsClassifier was fitted without feature names\n",
            "\n",
            "/usr/local/lib/python3.10/dist-packages/sklearn/base.py:432: UserWarning:\n",
            "\n",
            "X has feature names, but KNeighborsClassifier was fitted without feature names\n",
            "\n",
            "/usr/local/lib/python3.10/dist-packages/sklearn/base.py:432: UserWarning:\n",
            "\n",
            "X has feature names, but KNeighborsClassifier was fitted without feature names\n",
            "\n",
            "/usr/local/lib/python3.10/dist-packages/sklearn/base.py:432: UserWarning:\n",
            "\n",
            "X has feature names, but KNeighborsClassifier was fitted without feature names\n",
            "\n"
          ]
        },
        {
          "output_type": "stream",
          "name": "stdout",
          "text": [
            "Calculating prediction probabilities...\n",
            "Calculating metrics...\n",
            "Calculating confusion matrices...\n",
            "Calculating classification_dfs...\n",
            "Calculating roc auc curves...\n",
            "Calculating pr auc curves...\n",
            "Calculating liftcurve_dfs...\n"
          ]
        },
        {
          "output_type": "stream",
          "name": "stderr",
          "text": [
            "/usr/local/lib/python3.10/dist-packages/explainerdashboard/explainer_plots.py:422: RuntimeWarning:\n",
            "\n",
            "invalid value encountered in scalar divide\n",
            "\n",
            "/usr/local/lib/python3.10/dist-packages/sklearn/base.py:432: UserWarning:\n",
            "\n",
            "X has feature names, but KNeighborsClassifier was fitted without feature names\n",
            "\n",
            "/usr/local/lib/python3.10/dist-packages/sklearn/base.py:432: UserWarning:\n",
            "\n",
            "X has feature names, but KNeighborsClassifier was fitted without feature names\n",
            "\n",
            "/usr/local/lib/python3.10/dist-packages/sklearn/base.py:432: UserWarning:\n",
            "\n",
            "X has feature names, but KNeighborsClassifier was fitted without feature names\n",
            "\n",
            "/usr/local/lib/python3.10/dist-packages/sklearn/base.py:432: UserWarning:\n",
            "\n",
            "X has feature names, but KNeighborsClassifier was fitted without feature names\n",
            "\n",
            "/usr/local/lib/python3.10/dist-packages/sklearn/base.py:432: UserWarning:\n",
            "\n",
            "X has feature names, but KNeighborsClassifier was fitted without feature names\n",
            "\n",
            "/usr/local/lib/python3.10/dist-packages/sklearn/base.py:432: UserWarning:\n",
            "\n",
            "X has feature names, but KNeighborsClassifier was fitted without feature names\n",
            "\n",
            "/usr/local/lib/python3.10/dist-packages/sklearn/base.py:432: UserWarning:\n",
            "\n",
            "X has feature names, but KNeighborsClassifier was fitted without feature names\n",
            "\n",
            "/usr/local/lib/python3.10/dist-packages/sklearn/base.py:432: UserWarning:\n",
            "\n",
            "X has feature names, but KNeighborsClassifier was fitted without feature names\n",
            "\n",
            "/usr/local/lib/python3.10/dist-packages/sklearn/base.py:432: UserWarning:\n",
            "\n",
            "X has feature names, but KNeighborsClassifier was fitted without feature names\n",
            "\n",
            "/usr/local/lib/python3.10/dist-packages/sklearn/base.py:432: UserWarning:\n",
            "\n",
            "X has feature names, but KNeighborsClassifier was fitted without feature names\n",
            "\n"
          ]
        },
        {
          "output_type": "stream",
          "name": "stdout",
          "text": [
            "Calculating dependencies...\n",
            "Calculating permutation importances (if slow, try setting n_jobs parameter)...\n",
            "Calculating predictions...\n",
            "Calculating pred_percentiles...\n",
            "Reminder: you can store the explainer (including calculated dependencies) with explainer.dump('explainer.joblib') and reload with e.g. ClassifierExplainer.from_file('explainer.joblib')\n",
            "Registering callbacks...\n"
          ]
        },
        {
          "output_type": "stream",
          "name": "stderr",
          "text": [
            "/usr/local/lib/python3.10/dist-packages/sklearn/base.py:432: UserWarning:\n",
            "\n",
            "X has feature names, but KNeighborsClassifier was fitted without feature names\n",
            "\n"
          ]
        }
      ],
      "source": [
        "db = ExplainerDashboard(explainer)"
      ]
    },
    {
      "cell_type": "code",
      "source": [
        "db.run()"
      ],
      "metadata": {
        "colab": {
          "base_uri": "https://localhost:8080/",
          "height": 332
        },
        "id": "qvdtg51sbthf",
        "outputId": "d534369e-be67-4d97-f248-76ee6762b900"
      },
      "execution_count": 212,
      "outputs": [
        {
          "output_type": "stream",
          "name": "stdout",
          "text": [
            "Starting ExplainerDashboard on http://172.28.0.12:8050\n",
            "You can terminate the dashboard with ExplainerDashboard.terminate(8050)\n"
          ]
        },
        {
          "output_type": "error",
          "ename": "TypeError",
          "evalue": "'NoneType' object cannot be interpreted as an integer",
          "traceback": [
            "\u001b[0;31m---------------------------------------------------------------------------\u001b[0m",
            "\u001b[0;31mTypeError\u001b[0m                                 Traceback (most recent call last)",
            "\u001b[0;32m<ipython-input-212-890fe3f5d050>\u001b[0m in \u001b[0;36m<cell line: 1>\u001b[0;34m()\u001b[0m\n\u001b[0;32m----> 1\u001b[0;31m \u001b[0mdb\u001b[0m\u001b[0;34m.\u001b[0m\u001b[0mrun\u001b[0m\u001b[0;34m(\u001b[0m\u001b[0;34m)\u001b[0m\u001b[0;34m\u001b[0m\u001b[0;34m\u001b[0m\u001b[0m\n\u001b[0m",
            "\u001b[0;32m/usr/local/lib/python3.10/dist-packages/explainerdashboard/dashboards.py\u001b[0m in \u001b[0;36mrun\u001b[0;34m(self, port, host, use_waitress, mode, **kwargs)\u001b[0m\n\u001b[1;32m   1297\u001b[0m                         \u001b[0mflush\u001b[0m\u001b[0;34m=\u001b[0m\u001b[0;32mTrue\u001b[0m\u001b[0;34m,\u001b[0m\u001b[0;34m\u001b[0m\u001b[0;34m\u001b[0m\u001b[0m\n\u001b[1;32m   1298\u001b[0m                     )\n\u001b[0;32m-> 1299\u001b[0;31m                 \u001b[0mapp\u001b[0m\u001b[0;34m.\u001b[0m\u001b[0mrun_server\u001b[0m\u001b[0;34m(\u001b[0m\u001b[0mport\u001b[0m\u001b[0;34m=\u001b[0m\u001b[0mport\u001b[0m\u001b[0;34m,\u001b[0m \u001b[0mmode\u001b[0m\u001b[0;34m=\u001b[0m\u001b[0mmode\u001b[0m\u001b[0;34m,\u001b[0m \u001b[0;34m**\u001b[0m\u001b[0mkwargs\u001b[0m\u001b[0;34m)\u001b[0m\u001b[0;34m\u001b[0m\u001b[0;34m\u001b[0m\u001b[0m\n\u001b[0m\u001b[1;32m   1300\u001b[0m             \u001b[0;32melif\u001b[0m \u001b[0mmode\u001b[0m \u001b[0;32min\u001b[0m \u001b[0;34m[\u001b[0m\u001b[0;34m\"inline\"\u001b[0m\u001b[0;34m,\u001b[0m \u001b[0;34m\"jupyterlab\"\u001b[0m\u001b[0;34m]\u001b[0m\u001b[0;34m:\u001b[0m\u001b[0;34m\u001b[0m\u001b[0;34m\u001b[0m\u001b[0m\n\u001b[1;32m   1301\u001b[0m                 print(\n",
            "\u001b[0;32m/usr/local/lib/python3.10/dist-packages/jupyter_dash/jupyter_app.py\u001b[0m in \u001b[0;36mrun_server\u001b[0;34m(self, mode, width, height, inline_exceptions, **kwargs)\u001b[0m\n\u001b[1;32m    220\u001b[0m         \u001b[0mold_server\u001b[0m \u001b[0;34m=\u001b[0m \u001b[0mself\u001b[0m\u001b[0;34m.\u001b[0m\u001b[0m_server_threads\u001b[0m\u001b[0;34m.\u001b[0m\u001b[0mget\u001b[0m\u001b[0;34m(\u001b[0m\u001b[0;34m(\u001b[0m\u001b[0mhost\u001b[0m\u001b[0;34m,\u001b[0m \u001b[0mport\u001b[0m\u001b[0;34m)\u001b[0m\u001b[0;34m)\u001b[0m\u001b[0;34m\u001b[0m\u001b[0;34m\u001b[0m\u001b[0m\n\u001b[1;32m    221\u001b[0m         \u001b[0;32mif\u001b[0m \u001b[0mold_server\u001b[0m\u001b[0;34m:\u001b[0m\u001b[0;34m\u001b[0m\u001b[0;34m\u001b[0m\u001b[0m\n\u001b[0;32m--> 222\u001b[0;31m             \u001b[0mold_server\u001b[0m\u001b[0;34m.\u001b[0m\u001b[0mkill\u001b[0m\u001b[0;34m(\u001b[0m\u001b[0;34m)\u001b[0m\u001b[0;34m\u001b[0m\u001b[0;34m\u001b[0m\u001b[0m\n\u001b[0m\u001b[1;32m    223\u001b[0m             \u001b[0mold_server\u001b[0m\u001b[0;34m.\u001b[0m\u001b[0mjoin\u001b[0m\u001b[0;34m(\u001b[0m\u001b[0;34m)\u001b[0m\u001b[0;34m\u001b[0m\u001b[0;34m\u001b[0m\u001b[0m\n\u001b[1;32m    224\u001b[0m             \u001b[0;32mdel\u001b[0m \u001b[0mself\u001b[0m\u001b[0;34m.\u001b[0m\u001b[0m_server_threads\u001b[0m\u001b[0;34m[\u001b[0m\u001b[0;34m(\u001b[0m\u001b[0mhost\u001b[0m\u001b[0;34m,\u001b[0m \u001b[0mport\u001b[0m\u001b[0;34m)\u001b[0m\u001b[0;34m]\u001b[0m\u001b[0;34m\u001b[0m\u001b[0;34m\u001b[0m\u001b[0m\n",
            "\u001b[0;32m/usr/local/lib/python3.10/dist-packages/jupyter_dash/_stoppable_thread.py\u001b[0m in \u001b[0;36mkill\u001b[0;34m(self)\u001b[0m\n\u001b[1;32m     14\u001b[0m         \u001b[0mthread_id\u001b[0m \u001b[0;34m=\u001b[0m \u001b[0mself\u001b[0m\u001b[0;34m.\u001b[0m\u001b[0mget_id\u001b[0m\u001b[0;34m(\u001b[0m\u001b[0;34m)\u001b[0m\u001b[0;34m\u001b[0m\u001b[0;34m\u001b[0m\u001b[0m\n\u001b[1;32m     15\u001b[0m         res = ctypes.pythonapi.PyThreadState_SetAsyncExc(\n\u001b[0;32m---> 16\u001b[0;31m             \u001b[0mctypes\u001b[0m\u001b[0;34m.\u001b[0m\u001b[0mc_long\u001b[0m\u001b[0;34m(\u001b[0m\u001b[0mthread_id\u001b[0m\u001b[0;34m)\u001b[0m\u001b[0;34m,\u001b[0m \u001b[0mctypes\u001b[0m\u001b[0;34m.\u001b[0m\u001b[0mpy_object\u001b[0m\u001b[0;34m(\u001b[0m\u001b[0mSystemExit\u001b[0m\u001b[0;34m)\u001b[0m\u001b[0;34m\u001b[0m\u001b[0;34m\u001b[0m\u001b[0m\n\u001b[0m\u001b[1;32m     17\u001b[0m         )\n\u001b[1;32m     18\u001b[0m         \u001b[0;32mif\u001b[0m \u001b[0mres\u001b[0m \u001b[0;34m==\u001b[0m \u001b[0;36m0\u001b[0m\u001b[0;34m:\u001b[0m\u001b[0;34m\u001b[0m\u001b[0;34m\u001b[0m\u001b[0m\n",
            "\u001b[0;31mTypeError\u001b[0m: 'NoneType' object cannot be interpreted as an integer"
          ]
        }
      ]
    },
    {
      "cell_type": "markdown",
      "source": [
        "1. какие факторы наиболее важны в среднем для получения прогноза?\n",
        "Ответ:\n",
        "* PageValues\n",
        "* ExitRates\n",
        "* Administrative\n",
        "\n",
        "2. какие значения метрик получились и что это значит?\n",
        "Ответ:\n",
        "* Класс несбалансированы, низкое значение recall указывает на то, что модель пропускает много истинно положительных случаев. Модель имеет тенденцию к ложноотрицательным ошибкам\n",
        "\n",
        "3. Aнализ 2-3 индивидуальных прогнозов с комментарием\n",
        "Ответ:\n",
        "* 2 индекс. Модель в 80.75% предсказала 0 класс. Пороговое значание классов находится на уровне biseline_pred = 71.36.\n",
        "Ср. равна 81.97% самое больше влияные из признаков оказывают: Month_Nov -7.45%, PageValues +3.36%\n",
        "\n",
        "* 1 индекс. Модель с 28.6% предсказывает 1 класс.\n",
        "biseline_pred = 71.36.\n",
        "Самое больше влияные из признаков оказывают: Administrative  -4.34%, Administrative_Duration  -3.28%"
      ],
      "metadata": {
        "id": "ztign2lYRsRl"
      }
    },
    {
      "cell_type": "code",
      "source": [],
      "metadata": {
        "id": "8FykE_TqSRzj"
      },
      "execution_count": null,
      "outputs": []
    }
  ]
}